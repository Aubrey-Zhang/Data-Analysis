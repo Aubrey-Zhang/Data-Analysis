{
 "cells": [
  {
   "cell_type": "markdown",
   "metadata": {},
   "source": [
    "# Exploring the Baltimore Datasets"
   ]
  },
  {
   "cell_type": "markdown",
   "metadata": {},
   "source": [
    "## Step1:Collecting data"
   ]
  },
  {
   "cell_type": "markdown",
   "metadata": {},
   "source": [
    "### a. Vacant Buildings\n",
    "https://data.baltimorecity.gov/Housing-Development/Vacant-Buildings/qqcv-ihn5\n",
    "\n",
    "https://data.baltimorecity.gov/resource/qqcv-ihn5.json\n",
    "\n",
    "Updated：June 24, 2020  Data Provided by：Housing Authority of Baltimore City Introduction:Vacant Buildings located throughout the City of Baltimore. To be updated twice a month, or as needed.\n",
    "\n",
    "### b. 311 Customer Service Requests\n",
    "https://data.baltimorecity.gov/City-Services/311-Customer-Service-Requests/9agw-sxsr\n",
    "\n",
    "https://data.baltimorecity.gov/resource/9agw-sxsr.json\n",
    "\n",
    "Updated:June 28, 2020 Data Provided by:BCIT"
   ]
  },
  {
   "cell_type": "code",
   "execution_count": 1,
   "metadata": {},
   "outputs": [],
   "source": [
    "import pandas as pd\n",
    "import geopandas as gpd\n",
    "import numpy as np\n",
    "from pandas import DataFrame,Series\n",
    "import os\n",
    "import matplotlib.pyplot as plt\n",
    "import seaborn as sns\n",
    "%matplotlib inline"
   ]
  },
  {
   "cell_type": "code",
   "execution_count": 2,
   "metadata": {
    "scrolled": true
   },
   "outputs": [
    {
     "data": {
      "text/plain": [
       "(4450, 13)"
      ]
     },
     "execution_count": 2,
     "metadata": {},
     "output_type": "execute_result"
    }
   ],
   "source": [
    "urla=\"https://data.baltimorecity.gov/resource/qqcv-ihn5.geojson?$limit=1000000&\\\n",
    "$where=NoticeDate%20between%20%272018-01-01T00:00:00%27%20and%20%272020-06-01T00:00:00%27\"\n",
    "#?method=export&format=GeoJSON\"\n",
    "dfa= gpd.read_file(urla)\n",
    "dfa.shape"
   ]
  },
  {
   "cell_type": "code",
   "execution_count": 3,
   "metadata": {},
   "outputs": [
    {
     "data": {
      "text/html": [
       "<div>\n",
       "<style scoped>\n",
       "    .dataframe tbody tr th:only-of-type {\n",
       "        vertical-align: middle;\n",
       "    }\n",
       "\n",
       "    .dataframe tbody tr th {\n",
       "        vertical-align: top;\n",
       "    }\n",
       "\n",
       "    .dataframe thead th {\n",
       "        text-align: right;\n",
       "    }\n",
       "</style>\n",
       "<table border=\"1\" class=\"dataframe\">\n",
       "  <thead>\n",
       "    <tr style=\"text-align: right;\">\n",
       "      <th></th>\n",
       "      <th>location_state</th>\n",
       "      <th>location_zip</th>\n",
       "      <th>policedistrict</th>\n",
       "      <th>councildistrict</th>\n",
       "      <th>neighborhood</th>\n",
       "      <th>location_address</th>\n",
       "      <th>referenceid</th>\n",
       "      <th>noticedate</th>\n",
       "      <th>location_city</th>\n",
       "      <th>buildingaddress</th>\n",
       "      <th>block</th>\n",
       "      <th>lot</th>\n",
       "      <th>geometry</th>\n",
       "    </tr>\n",
       "  </thead>\n",
       "  <tbody>\n",
       "    <tr>\n",
       "      <th>0</th>\n",
       "      <td></td>\n",
       "      <td></td>\n",
       "      <td>Central</td>\n",
       "      <td>11</td>\n",
       "      <td>Druid Heights</td>\n",
       "      <td></td>\n",
       "      <td>0328 009 010118</td>\n",
       "      <td>2018-01-01T00:00:00</td>\n",
       "      <td></td>\n",
       "      <td>1816 DRUID HILL AVE</td>\n",
       "      <td>0328</td>\n",
       "      <td>009</td>\n",
       "      <td>POINT (-8530857.290 4765612.170)</td>\n",
       "    </tr>\n",
       "    <tr>\n",
       "      <th>1</th>\n",
       "      <td></td>\n",
       "      <td></td>\n",
       "      <td>Central</td>\n",
       "      <td>7</td>\n",
       "      <td>Druid Heights</td>\n",
       "      <td></td>\n",
       "      <td>0307 014 010218</td>\n",
       "      <td>2018-01-02T00:00:00</td>\n",
       "      <td></td>\n",
       "      <td>2128 DIVISION ST</td>\n",
       "      <td>0307</td>\n",
       "      <td>014</td>\n",
       "      <td>POINT (-8531320.079 4765851.011)</td>\n",
       "    </tr>\n",
       "    <tr>\n",
       "      <th>2</th>\n",
       "      <td></td>\n",
       "      <td></td>\n",
       "      <td>Western</td>\n",
       "      <td>9</td>\n",
       "      <td>Sandtown-Winchester</td>\n",
       "      <td></td>\n",
       "      <td>0059 077 010418</td>\n",
       "      <td>2018-01-04T00:00:00</td>\n",
       "      <td></td>\n",
       "      <td>1016 MCKEAN AVE</td>\n",
       "      <td>0059</td>\n",
       "      <td>077</td>\n",
       "      <td>POINT (-8532309.638 4764805.955)</td>\n",
       "    </tr>\n",
       "    <tr>\n",
       "      <th>3</th>\n",
       "      <td></td>\n",
       "      <td></td>\n",
       "      <td>Southeastern</td>\n",
       "      <td>13</td>\n",
       "      <td>McElderry Park</td>\n",
       "      <td></td>\n",
       "      <td>1642 027 010418</td>\n",
       "      <td>2018-01-04T00:00:00</td>\n",
       "      <td></td>\n",
       "      <td>608 N LAKEWOOD AVE</td>\n",
       "      <td>1642</td>\n",
       "      <td>027</td>\n",
       "      <td>POINT (-8524810.869 4764494.060)</td>\n",
       "    </tr>\n",
       "    <tr>\n",
       "      <th>4</th>\n",
       "      <td></td>\n",
       "      <td></td>\n",
       "      <td>Western</td>\n",
       "      <td>9</td>\n",
       "      <td>Sandtown-Winchester</td>\n",
       "      <td></td>\n",
       "      <td>0059 082 010418</td>\n",
       "      <td>2018-01-04T00:00:00</td>\n",
       "      <td></td>\n",
       "      <td>1006 MCKEAN AVE</td>\n",
       "      <td>0059</td>\n",
       "      <td>082</td>\n",
       "      <td>POINT (-8532308.417 4764779.537)</td>\n",
       "    </tr>\n",
       "  </tbody>\n",
       "</table>\n",
       "</div>"
      ],
      "text/plain": [
       "  location_state location_zip policedistrict councildistrict  \\\n",
       "0                                    Central              11   \n",
       "1                                    Central               7   \n",
       "2                                    Western               9   \n",
       "3                               Southeastern              13   \n",
       "4                                    Western               9   \n",
       "\n",
       "          neighborhood location_address      referenceid           noticedate  \\\n",
       "0        Druid Heights                   0328 009 010118  2018-01-01T00:00:00   \n",
       "1        Druid Heights                   0307 014 010218  2018-01-02T00:00:00   \n",
       "2  Sandtown-Winchester                   0059 077 010418  2018-01-04T00:00:00   \n",
       "3       McElderry Park                   1642 027 010418  2018-01-04T00:00:00   \n",
       "4  Sandtown-Winchester                   0059 082 010418  2018-01-04T00:00:00   \n",
       "\n",
       "  location_city      buildingaddress block  lot  \\\n",
       "0                1816 DRUID HILL AVE  0328  009   \n",
       "1                   2128 DIVISION ST  0307  014   \n",
       "2                    1016 MCKEAN AVE  0059  077   \n",
       "3                 608 N LAKEWOOD AVE  1642  027   \n",
       "4                    1006 MCKEAN AVE  0059  082   \n",
       "\n",
       "                           geometry  \n",
       "0  POINT (-8530857.290 4765612.170)  \n",
       "1  POINT (-8531320.079 4765851.011)  \n",
       "2  POINT (-8532309.638 4764805.955)  \n",
       "3  POINT (-8524810.869 4764494.060)  \n",
       "4  POINT (-8532308.417 4764779.537)  "
      ]
     },
     "execution_count": 3,
     "metadata": {},
     "output_type": "execute_result"
    }
   ],
   "source": [
    "pd.options.display.max_columns = None\n",
    "dfa = dfa[dfa.geometry.notnull()]\n",
    "dfa.dropna(thresh=10)\n",
    "dfa=dfa.to_crs('epsg:3857')\n",
    "dfa.head()"
   ]
  },
  {
   "cell_type": "code",
   "execution_count": 4,
   "metadata": {},
   "outputs": [
    {
     "data": {
      "text/plain": [
       "Index(['location_state', 'location_zip', 'policedistrict', 'councildistrict',\n",
       "       'neighborhood', 'location_address', 'referenceid', 'noticedate',\n",
       "       'location_city', 'buildingaddress', 'block', 'lot', 'geometry'],\n",
       "      dtype='object')"
      ]
     },
     "execution_count": 4,
     "metadata": {},
     "output_type": "execute_result"
    }
   ],
   "source": [
    "dfa.columns"
   ]
  },
  {
   "cell_type": "code",
   "execution_count": 5,
   "metadata": {},
   "outputs": [],
   "source": [
    "select=['neighborhood','policedistrict', 'councildistrict','buildingaddress', 'geometry']"
   ]
  },
  {
   "cell_type": "code",
   "execution_count": 6,
   "metadata": {},
   "outputs": [],
   "source": [
    "dfa=dfa[select]"
   ]
  },
  {
   "cell_type": "code",
   "execution_count": 7,
   "metadata": {
    "scrolled": true
   },
   "outputs": [
    {
     "data": {
      "text/plain": [
       "Eastern         834\n",
       "Western         765\n",
       "Southwestern    625\n",
       "Southern        507\n",
       "Notheastern     415\n",
       "Northwestern    410\n",
       "Southeastern    359\n",
       "Northern        321\n",
       "Central         214\n",
       "Name: policedistrict, dtype: int64"
      ]
     },
     "execution_count": 7,
     "metadata": {},
     "output_type": "execute_result"
    }
   ],
   "source": [
    "dfa['policedistrict'].value_counts()"
   ]
  },
  {
   "cell_type": "code",
   "execution_count": 8,
   "metadata": {},
   "outputs": [
    {
     "data": {
      "image/png": "[encoded data removed]",
      "text/plain": [
       "<Figure size 432x288 with 1 Axes>"
      ]
     },
     "metadata": {
      "needs_background": "light"
     },
     "output_type": "display_data"
    }
   ],
   "source": [
    "bar=dfa['policedistrict'].value_counts()\n",
    "bar.plot(title='Chart analysis of vacant houses in each area',x='policedistrict', y='count',kind='bar')\n",
    "plt.show()"
   ]
  },
  {
   "cell_type": "code",
   "execution_count": 9,
   "metadata": {},
   "outputs": [
    {
     "data": {
      "text/plain": [
       "(10000, 26)"
      ]
     },
     "execution_count": 9,
     "metadata": {},
     "output_type": "execute_result"
    }
   ],
   "source": [
    "urlb=\"https://data.baltimorecity.gov/resource/9agw-sxsr.geojson?$limit=10000&\\\n",
    "$where=CreatedDate%20between%20%272018-01-01T00:00:00%27%20and%20%272020-06-01T00:00:00%27\"\n",
    "#?method=export&format=GeoJSON\"\n",
    "dfb= gpd.read_file(urlb)\n",
    "dfb.shape"
   ]
  },
  {
   "cell_type": "code",
   "execution_count": 10,
   "metadata": {},
   "outputs": [
    {
     "data": {
      "text/html": [
       "<div>\n",
       "<style scoped>\n",
       "    .dataframe tbody tr th:only-of-type {\n",
       "        vertical-align: middle;\n",
       "    }\n",
       "\n",
       "    .dataframe tbody tr th {\n",
       "        vertical-align: top;\n",
       "    }\n",
       "\n",
       "    .dataframe thead th {\n",
       "        text-align: right;\n",
       "    }\n",
       "</style>\n",
       "<table border=\"1\" class=\"dataframe\">\n",
       "  <thead>\n",
       "    <tr style=\"text-align: right;\">\n",
       "      <th></th>\n",
       "      <th>statusdate</th>\n",
       "      <th>zipcode</th>\n",
       "      <th>latitude</th>\n",
       "      <th>policedistrict</th>\n",
       "      <th>councildistrict</th>\n",
       "      <th>lastactivitydate</th>\n",
       "      <th>geolocation_address</th>\n",
       "      <th>neighborhood</th>\n",
       "      <th>duedate</th>\n",
       "      <th>agency</th>\n",
       "      <th>geolocation_zip</th>\n",
       "      <th>outcome</th>\n",
       "      <th>geolocation_state</th>\n",
       "      <th>lastactivity</th>\n",
       "      <th>closedate</th>\n",
       "      <th>longitude</th>\n",
       "      <th>srstatus</th>\n",
       "      <th>policepost</th>\n",
       "      <th>srtype</th>\n",
       "      <th>servicerequestnum</th>\n",
       "      <th>srrecordid</th>\n",
       "      <th>methodreceived</th>\n",
       "      <th>address</th>\n",
       "      <th>geolocation_city</th>\n",
       "      <th>createddate</th>\n",
       "      <th>geometry</th>\n",
       "    </tr>\n",
       "  </thead>\n",
       "  <tbody>\n",
       "    <tr>\n",
       "      <th>0</th>\n",
       "      <td>2018-01-07T10:56:27</td>\n",
       "      <td>21133</td>\n",
       "      <td>39.380772267809400</td>\n",
       "      <td>None</td>\n",
       "      <td>None</td>\n",
       "      <td>None</td>\n",
       "      <td></td>\n",
       "      <td>None</td>\n",
       "      <td>2018-01-03T00:09:52</td>\n",
       "      <td>Water Wastewater</td>\n",
       "      <td></td>\n",
       "      <td>None</td>\n",
       "      <td></td>\n",
       "      <td>None</td>\n",
       "      <td>2018-01-07T00:00:00</td>\n",
       "      <td>-76.788520625776500</td>\n",
       "      <td>Closed</td>\n",
       "      <td>None</td>\n",
       "      <td>WW-Water Leak (Exterior)</td>\n",
       "      <td>18-00000002</td>\n",
       "      <td>5004100000dJV2HAAW</td>\n",
       "      <td>Phone</td>\n",
       "      <td>4012 SANLEE RD, RANDALLSTOWN, 21133</td>\n",
       "      <td></td>\n",
       "      <td>2018-01-01T00:09:52</td>\n",
       "      <td>POINT (-8548059.015 4776361.628)</td>\n",
       "    </tr>\n",
       "    <tr>\n",
       "      <th>1</th>\n",
       "      <td>2018-01-01T01:45:52</td>\n",
       "      <td>21224</td>\n",
       "      <td>39.285421756050700</td>\n",
       "      <td>Southeastern</td>\n",
       "      <td>1</td>\n",
       "      <td>None</td>\n",
       "      <td></td>\n",
       "      <td>Brewers Hill</td>\n",
       "      <td>2018-01-08T00:11:38</td>\n",
       "      <td>Call Center</td>\n",
       "      <td></td>\n",
       "      <td>None</td>\n",
       "      <td></td>\n",
       "      <td>None</td>\n",
       "      <td>2018-01-01T01:45:51</td>\n",
       "      <td>-76.563433323077800</td>\n",
       "      <td>Closed</td>\n",
       "      <td>233</td>\n",
       "      <td>ECC-Miscellaneous Request</td>\n",
       "      <td>18-00000003</td>\n",
       "      <td>5004100000dJV2IAAW</td>\n",
       "      <td>API</td>\n",
       "      <td>610 GRUNDY ST, Baltimore City, 21224</td>\n",
       "      <td></td>\n",
       "      <td>2018-01-01T00:11:38</td>\n",
       "      <td>POINT (-8523002.411 4762638.646)</td>\n",
       "    </tr>\n",
       "    <tr>\n",
       "      <th>2</th>\n",
       "      <td>2018-01-03T17:02:28</td>\n",
       "      <td>21213</td>\n",
       "      <td>39.315417630552400</td>\n",
       "      <td>Northeastern</td>\n",
       "      <td>13</td>\n",
       "      <td>None</td>\n",
       "      <td></td>\n",
       "      <td>Belair-Edison</td>\n",
       "      <td>2018-01-02T00:14:31</td>\n",
       "      <td>Water Wastewater</td>\n",
       "      <td></td>\n",
       "      <td>None</td>\n",
       "      <td></td>\n",
       "      <td>None</td>\n",
       "      <td>2018-01-01T00:14:31</td>\n",
       "      <td>-76.567433412041100</td>\n",
       "      <td>Closed</td>\n",
       "      <td>432</td>\n",
       "      <td>WW-Water No Water</td>\n",
       "      <td>18-00000004</td>\n",
       "      <td>5004100000dJV2JAAW</td>\n",
       "      <td>Phone</td>\n",
       "      <td>3616 RAVENWOOD AVE, Baltimore City, 21213</td>\n",
       "      <td></td>\n",
       "      <td>2018-01-01T00:14:31</td>\n",
       "      <td>POINT (-8523447.699 4766953.678)</td>\n",
       "    </tr>\n",
       "    <tr>\n",
       "      <th>3</th>\n",
       "      <td>2018-01-02T16:27:47</td>\n",
       "      <td>21229</td>\n",
       "      <td>39.267255883981400</td>\n",
       "      <td>Southwestern</td>\n",
       "      <td>10</td>\n",
       "      <td>None</td>\n",
       "      <td></td>\n",
       "      <td>Violetville</td>\n",
       "      <td>2018-01-15T00:18:28</td>\n",
       "      <td>Health</td>\n",
       "      <td></td>\n",
       "      <td>None</td>\n",
       "      <td></td>\n",
       "      <td>None</td>\n",
       "      <td>2018-01-02T16:27:46</td>\n",
       "      <td>-76.672765612885400</td>\n",
       "      <td>Closed</td>\n",
       "      <td>832</td>\n",
       "      <td>HLTH-Animal Barking Dog</td>\n",
       "      <td>18-00000006</td>\n",
       "      <td>5004100000dJV2KAAW</td>\n",
       "      <td>API</td>\n",
       "      <td>1234 S GRANTLEY ST, Baltimore City, 21229</td>\n",
       "      <td></td>\n",
       "      <td>2018-01-01T00:18:28</td>\n",
       "      <td>POINT (-8535173.226 4760026.307)</td>\n",
       "    </tr>\n",
       "    <tr>\n",
       "      <th>4</th>\n",
       "      <td>2018-02-07T14:33:36</td>\n",
       "      <td>21224</td>\n",
       "      <td>39.279168568212400</td>\n",
       "      <td>Southeastern</td>\n",
       "      <td>1</td>\n",
       "      <td>None</td>\n",
       "      <td></td>\n",
       "      <td>Canton</td>\n",
       "      <td>2018-01-15T00:26:43</td>\n",
       "      <td>Mayor's Office</td>\n",
       "      <td></td>\n",
       "      <td>None</td>\n",
       "      <td></td>\n",
       "      <td>None</td>\n",
       "      <td>2018-02-07T14:33:36</td>\n",
       "      <td>-76.578019117253800</td>\n",
       "      <td>Closed</td>\n",
       "      <td>232</td>\n",
       "      <td>MOHS-Homeless Outreach</td>\n",
       "      <td>18-00000007</td>\n",
       "      <td>5004100000dJV1pAAG</td>\n",
       "      <td>Phone</td>\n",
       "      <td>LAKEWOOD AVE &amp; BOSTON ST, Baltimore City, 21224</td>\n",
       "      <td></td>\n",
       "      <td>2018-01-01T00:26:43</td>\n",
       "      <td>POINT (-8524626.094 4761739.331)</td>\n",
       "    </tr>\n",
       "  </tbody>\n",
       "</table>\n",
       "</div>"
      ],
      "text/plain": [
       "            statusdate zipcode            latitude policedistrict  \\\n",
       "0  2018-01-07T10:56:27   21133  39.380772267809400           None   \n",
       "1  2018-01-01T01:45:52   21224  39.285421756050700   Southeastern   \n",
       "2  2018-01-03T17:02:28   21213  39.315417630552400   Northeastern   \n",
       "3  2018-01-02T16:27:47   21229  39.267255883981400   Southwestern   \n",
       "4  2018-02-07T14:33:36   21224  39.279168568212400   Southeastern   \n",
       "\n",
       "  councildistrict lastactivitydate geolocation_address   neighborhood  \\\n",
       "0            None             None                               None   \n",
       "1               1             None                       Brewers Hill   \n",
       "2              13             None                      Belair-Edison   \n",
       "3              10             None                        Violetville   \n",
       "4               1             None                             Canton   \n",
       "\n",
       "               duedate            agency geolocation_zip outcome  \\\n",
       "0  2018-01-03T00:09:52  Water Wastewater                    None   \n",
       "1  2018-01-08T00:11:38       Call Center                    None   \n",
       "2  2018-01-02T00:14:31  Water Wastewater                    None   \n",
       "3  2018-01-15T00:18:28            Health                    None   \n",
       "4  2018-01-15T00:26:43    Mayor's Office                    None   \n",
       "\n",
       "  geolocation_state lastactivity            closedate            longitude  \\\n",
       "0                           None  2018-01-07T00:00:00  -76.788520625776500   \n",
       "1                           None  2018-01-01T01:45:51  -76.563433323077800   \n",
       "2                           None  2018-01-01T00:14:31  -76.567433412041100   \n",
       "3                           None  2018-01-02T16:27:46  -76.672765612885400   \n",
       "4                           None  2018-02-07T14:33:36  -76.578019117253800   \n",
       "\n",
       "  srstatus policepost                     srtype servicerequestnum  \\\n",
       "0   Closed       None   WW-Water Leak (Exterior)       18-00000002   \n",
       "1   Closed        233  ECC-Miscellaneous Request       18-00000003   \n",
       "2   Closed        432          WW-Water No Water       18-00000004   \n",
       "3   Closed        832    HLTH-Animal Barking Dog       18-00000006   \n",
       "4   Closed        232     MOHS-Homeless Outreach       18-00000007   \n",
       "\n",
       "           srrecordid methodreceived  \\\n",
       "0  5004100000dJV2HAAW          Phone   \n",
       "1  5004100000dJV2IAAW            API   \n",
       "2  5004100000dJV2JAAW          Phone   \n",
       "3  5004100000dJV2KAAW            API   \n",
       "4  5004100000dJV1pAAG          Phone   \n",
       "\n",
       "                                           address geolocation_city  \\\n",
       "0              4012 SANLEE RD, RANDALLSTOWN, 21133                    \n",
       "1             610 GRUNDY ST, Baltimore City, 21224                    \n",
       "2        3616 RAVENWOOD AVE, Baltimore City, 21213                    \n",
       "3        1234 S GRANTLEY ST, Baltimore City, 21229                    \n",
       "4  LAKEWOOD AVE & BOSTON ST, Baltimore City, 21224                    \n",
       "\n",
       "           createddate                          geometry  \n",
       "0  2018-01-01T00:09:52  POINT (-8548059.015 4776361.628)  \n",
       "1  2018-01-01T00:11:38  POINT (-8523002.411 4762638.646)  \n",
       "2  2018-01-01T00:14:31  POINT (-8523447.699 4766953.678)  \n",
       "3  2018-01-01T00:18:28  POINT (-8535173.226 4760026.307)  \n",
       "4  2018-01-01T00:26:43  POINT (-8524626.094 4761739.331)  "
      ]
     },
     "execution_count": 10,
     "metadata": {},
     "output_type": "execute_result"
    }
   ],
   "source": [
    "dfb = dfb[dfb.geometry.notnull()]\n",
    "dfb.dropna(thresh=10)\n",
    "dfb=dfb.to_crs('epsg:3857')\n",
    "dfb.head()"
   ]
  },
  {
   "cell_type": "code",
   "execution_count": 11,
   "metadata": {},
   "outputs": [
    {
     "data": {
      "text/plain": [
       "Index(['statusdate', 'zipcode', 'latitude', 'policedistrict',\n",
       "       'councildistrict', 'lastactivitydate', 'geolocation_address',\n",
       "       'neighborhood', 'duedate', 'agency', 'geolocation_zip', 'outcome',\n",
       "       'geolocation_state', 'lastactivity', 'closedate', 'longitude',\n",
       "       'srstatus', 'policepost', 'srtype', 'servicerequestnum', 'srrecordid',\n",
       "       'methodreceived', 'address', 'geolocation_city', 'createddate',\n",
       "       'geometry'],\n",
       "      dtype='object')"
      ]
     },
     "execution_count": 11,
     "metadata": {},
     "output_type": "execute_result"
    }
   ],
   "source": [
    "dfb.columns"
   ]
  },
  {
   "cell_type": "code",
   "execution_count": 12,
   "metadata": {},
   "outputs": [],
   "source": [
    "dfb.rename(columns={'neighborhood':'b_neighborhood'},inplace=True)"
   ]
  },
  {
   "cell_type": "code",
   "execution_count": 13,
   "metadata": {},
   "outputs": [],
   "source": [
    "select=['b_neighborhood','zipcode', 'latitude', 'longitude','srtype', 'methodreceived','geometry']"
   ]
  },
  {
   "cell_type": "code",
   "execution_count": 14,
   "metadata": {},
   "outputs": [],
   "source": [
    "dfb=dfb[select]"
   ]
  },
  {
   "cell_type": "code",
   "execution_count": 15,
   "metadata": {},
   "outputs": [
    {
     "data": {
      "text/plain": [
       "FIR-Fire Smoke Alarm Installation Request       1742\n",
       "SW-Rat Rubout Proactive                         1732\n",
       "WW-Water Leak (Exterior)                         770\n",
       "WW-Water No Water                                762\n",
       "SW-Bulk Scheduled                                510\n",
       "                                                ... \n",
       "WW-Waterway Pollution Investigation                1\n",
       "TRM-Curb Repair                                    1\n",
       "TRM-Alleys                                         1\n",
       "TRM-Bench Concern                                  1\n",
       "SW-Public (Corner) Trash Can Request/Removal       1\n",
       "Name: srtype, Length: 160, dtype: int64"
      ]
     },
     "execution_count": 15,
     "metadata": {},
     "output_type": "execute_result"
    }
   ],
   "source": [
    "dfb['srtype'].value_counts()"
   ]
  },
  {
   "cell_type": "code",
   "execution_count": 16,
   "metadata": {},
   "outputs": [
    {
     "data": {
      "image/png": "[encoded data removed]",
      "text/plain": [
       "<Figure size 432x288 with 1 Axes>"
      ]
     },
     "metadata": {
      "needs_background": "light"
     },
     "output_type": "display_data"
    }
   ],
   "source": [
    "bar=dfb.groupby(['srtype'],as_index=False)['srtype'].agg({'cnt':'count'})\n",
    "bar=bar.sort_values(by='cnt',ascending=False)\n",
    "bar=bar[bar.cnt>500]\n",
    "bar.plot(title='The highest number of type statistics',x='srtype', y='cnt',kind='bar')\n",
    "plt.show()"
   ]
  },
  {
   "cell_type": "code",
   "execution_count": 17,
   "metadata": {},
   "outputs": [
    {
     "data": {
      "text/plain": [
       "(9542, 7)"
      ]
     },
     "execution_count": 17,
     "metadata": {},
     "output_type": "execute_result"
    }
   ],
   "source": [
    "dfb.shape"
   ]
  },
  {
   "cell_type": "markdown",
   "metadata": {},
   "source": [
    "## Step2: Multi-data source merge"
   ]
  },
  {
   "cell_type": "markdown",
   "metadata": {},
   "source": [
    "Objective: To maintain all the data in B data set so that there are both abandoned and non-abandoned houses in B data set, and then classify them"
   ]
  },
  {
   "cell_type": "code",
   "execution_count": 18,
   "metadata": {},
   "outputs": [
    {
     "data": {
      "text/plain": [
       "(243057, 12)"
      ]
     },
     "execution_count": 18,
     "metadata": {},
     "output_type": "execute_result"
    }
   ],
   "source": [
    "df=pd.merge(dfa,dfb,how='right',left_on='neighborhood',right_on='b_neighborhood')\n",
    "df.shape"
   ]
  },
  {
   "cell_type": "code",
   "execution_count": 19,
   "metadata": {},
   "outputs": [
    {
     "data": {
      "text/html": [
       "<div>\n",
       "<style scoped>\n",
       "    .dataframe tbody tr th:only-of-type {\n",
       "        vertical-align: middle;\n",
       "    }\n",
       "\n",
       "    .dataframe tbody tr th {\n",
       "        vertical-align: top;\n",
       "    }\n",
       "\n",
       "    .dataframe thead th {\n",
       "        text-align: right;\n",
       "    }\n",
       "</style>\n",
       "<table border=\"1\" class=\"dataframe\">\n",
       "  <thead>\n",
       "    <tr style=\"text-align: right;\">\n",
       "      <th></th>\n",
       "      <th>neighborhood</th>\n",
       "      <th>policedistrict</th>\n",
       "      <th>councildistrict</th>\n",
       "      <th>buildingaddress</th>\n",
       "      <th>geometry_x</th>\n",
       "      <th>b_neighborhood</th>\n",
       "      <th>zipcode</th>\n",
       "      <th>latitude</th>\n",
       "      <th>longitude</th>\n",
       "      <th>srtype</th>\n",
       "      <th>methodreceived</th>\n",
       "      <th>geometry_y</th>\n",
       "    </tr>\n",
       "  </thead>\n",
       "  <tbody>\n",
       "    <tr>\n",
       "      <th>0</th>\n",
       "      <td>Druid Heights</td>\n",
       "      <td>Central</td>\n",
       "      <td>11</td>\n",
       "      <td>1816 DRUID HILL AVE</td>\n",
       "      <td>POINT (-8530857.290 4765612.170)</td>\n",
       "      <td>Druid Heights</td>\n",
       "      <td>21217</td>\n",
       "      <td>39.308001120811000</td>\n",
       "      <td>-76.637802661889700</td>\n",
       "      <td>ECC-Miscellaneous Request</td>\n",
       "      <td>API</td>\n",
       "      <td>POINT (-8531281.168 4765886.610)</td>\n",
       "    </tr>\n",
       "    <tr>\n",
       "      <th>1</th>\n",
       "      <td>Druid Heights</td>\n",
       "      <td>Central</td>\n",
       "      <td>7</td>\n",
       "      <td>2128 DIVISION ST</td>\n",
       "      <td>POINT (-8531320.079 4765851.011)</td>\n",
       "      <td>Druid Heights</td>\n",
       "      <td>21217</td>\n",
       "      <td>39.308001120811000</td>\n",
       "      <td>-76.637802661889700</td>\n",
       "      <td>ECC-Miscellaneous Request</td>\n",
       "      <td>API</td>\n",
       "      <td>POINT (-8531281.168 4765886.610)</td>\n",
       "    </tr>\n",
       "    <tr>\n",
       "      <th>2</th>\n",
       "      <td>Druid Heights</td>\n",
       "      <td>Central</td>\n",
       "      <td>11</td>\n",
       "      <td>435 BLOOM ST</td>\n",
       "      <td>POINT (-8531050.521 4765952.635)</td>\n",
       "      <td>Druid Heights</td>\n",
       "      <td>21217</td>\n",
       "      <td>39.308001120811000</td>\n",
       "      <td>-76.637802661889700</td>\n",
       "      <td>ECC-Miscellaneous Request</td>\n",
       "      <td>API</td>\n",
       "      <td>POINT (-8531281.168 4765886.610)</td>\n",
       "    </tr>\n",
       "    <tr>\n",
       "      <th>3</th>\n",
       "      <td>Druid Heights</td>\n",
       "      <td>Central</td>\n",
       "      <td>11</td>\n",
       "      <td>2020 MCCULLOH ST</td>\n",
       "      <td>POINT (-8531007.445 4765927.978)</td>\n",
       "      <td>Druid Heights</td>\n",
       "      <td>21217</td>\n",
       "      <td>39.308001120811000</td>\n",
       "      <td>-76.637802661889700</td>\n",
       "      <td>ECC-Miscellaneous Request</td>\n",
       "      <td>API</td>\n",
       "      <td>POINT (-8531281.168 4765886.610)</td>\n",
       "    </tr>\n",
       "    <tr>\n",
       "      <th>4</th>\n",
       "      <td>Druid Heights</td>\n",
       "      <td>Central</td>\n",
       "      <td>7</td>\n",
       "      <td>2205 DRUID HILL AVE</td>\n",
       "      <td>POINT (-8531227.757 4766077.312)</td>\n",
       "      <td>Druid Heights</td>\n",
       "      <td>21217</td>\n",
       "      <td>39.308001120811000</td>\n",
       "      <td>-76.637802661889700</td>\n",
       "      <td>ECC-Miscellaneous Request</td>\n",
       "      <td>API</td>\n",
       "      <td>POINT (-8531281.168 4765886.610)</td>\n",
       "    </tr>\n",
       "  </tbody>\n",
       "</table>\n",
       "</div>"
      ],
      "text/plain": [
       "    neighborhood policedistrict councildistrict      buildingaddress  \\\n",
       "0  Druid Heights        Central              11  1816 DRUID HILL AVE   \n",
       "1  Druid Heights        Central               7     2128 DIVISION ST   \n",
       "2  Druid Heights        Central              11         435 BLOOM ST   \n",
       "3  Druid Heights        Central              11     2020 MCCULLOH ST   \n",
       "4  Druid Heights        Central               7  2205 DRUID HILL AVE   \n",
       "\n",
       "                         geometry_x b_neighborhood zipcode  \\\n",
       "0  POINT (-8530857.290 4765612.170)  Druid Heights   21217   \n",
       "1  POINT (-8531320.079 4765851.011)  Druid Heights   21217   \n",
       "2  POINT (-8531050.521 4765952.635)  Druid Heights   21217   \n",
       "3  POINT (-8531007.445 4765927.978)  Druid Heights   21217   \n",
       "4  POINT (-8531227.757 4766077.312)  Druid Heights   21217   \n",
       "\n",
       "             latitude            longitude                     srtype  \\\n",
       "0  39.308001120811000  -76.637802661889700  ECC-Miscellaneous Request   \n",
       "1  39.308001120811000  -76.637802661889700  ECC-Miscellaneous Request   \n",
       "2  39.308001120811000  -76.637802661889700  ECC-Miscellaneous Request   \n",
       "3  39.308001120811000  -76.637802661889700  ECC-Miscellaneous Request   \n",
       "4  39.308001120811000  -76.637802661889700  ECC-Miscellaneous Request   \n",
       "\n",
       "  methodreceived                        geometry_y  \n",
       "0            API  POINT (-8531281.168 4765886.610)  \n",
       "1            API  POINT (-8531281.168 4765886.610)  \n",
       "2            API  POINT (-8531281.168 4765886.610)  \n",
       "3            API  POINT (-8531281.168 4765886.610)  \n",
       "4            API  POINT (-8531281.168 4765886.610)  "
      ]
     },
     "execution_count": 19,
     "metadata": {},
     "output_type": "execute_result"
    }
   ],
   "source": [
    "df.head()"
   ]
  },
  {
   "cell_type": "code",
   "execution_count": 20,
   "metadata": {},
   "outputs": [
    {
     "data": {
      "text/plain": [
       "neighborhood       1440\n",
       "policedistrict     1440\n",
       "councildistrict    1440\n",
       "buildingaddress    1440\n",
       "geometry_x         1440\n",
       "b_neighborhood      734\n",
       "zipcode            2203\n",
       "latitude              0\n",
       "longitude             0\n",
       "srtype                0\n",
       "methodreceived      382\n",
       "geometry_y            0\n",
       "dtype: int64"
      ]
     },
     "execution_count": 20,
     "metadata": {},
     "output_type": "execute_result"
    }
   ],
   "source": [
    "df.isna().sum()"
   ]
  },
  {
   "cell_type": "code",
   "execution_count": 21,
   "metadata": {},
   "outputs": [],
   "source": [
    "df2=df.drop_duplicates(subset='geometry_y', keep='first', inplace=False)"
   ]
  },
  {
   "cell_type": "code",
   "execution_count": 22,
   "metadata": {},
   "outputs": [
    {
     "data": {
      "text/plain": [
       "(8382, 12)"
      ]
     },
     "execution_count": 22,
     "metadata": {},
     "output_type": "execute_result"
    }
   ],
   "source": [
    "df2.shape"
   ]
  },
  {
   "cell_type": "code",
   "execution_count": 23,
   "metadata": {},
   "outputs": [
    {
     "data": {
      "text/plain": [
       "neighborhood       1291\n",
       "policedistrict     1291\n",
       "councildistrict    1291\n",
       "buildingaddress    1291\n",
       "geometry_x         1291\n",
       "b_neighborhood      645\n",
       "zipcode              77\n",
       "latitude              0\n",
       "longitude             0\n",
       "srtype                0\n",
       "methodreceived        7\n",
       "geometry_y            0\n",
       "dtype: int64"
      ]
     },
     "execution_count": 23,
     "metadata": {},
     "output_type": "execute_result"
    }
   ],
   "source": [
    "df2.isna().sum()"
   ]
  },
  {
   "attachments": {
    "image.png": {
     "image/png": "[encoded data removed]"
    }
   },
   "cell_type": "markdown",
   "metadata": {},
   "source": [
    "![image.png](attachment:image.png)"
   ]
  },
  {
   "cell_type": "code",
   "execution_count": 24,
   "metadata": {},
   "outputs": [
    {
     "data": {
      "text/html": [
       "<div>\n",
       "<style scoped>\n",
       "    .dataframe tbody tr th:only-of-type {\n",
       "        vertical-align: middle;\n",
       "    }\n",
       "\n",
       "    .dataframe tbody tr th {\n",
       "        vertical-align: top;\n",
       "    }\n",
       "\n",
       "    .dataframe thead th {\n",
       "        text-align: right;\n",
       "    }\n",
       "</style>\n",
       "<table border=\"1\" class=\"dataframe\">\n",
       "  <thead>\n",
       "    <tr style=\"text-align: right;\">\n",
       "      <th></th>\n",
       "      <th>neighborhood</th>\n",
       "      <th>policedistrict</th>\n",
       "      <th>councildistrict</th>\n",
       "      <th>buildingaddress</th>\n",
       "      <th>geometry_x</th>\n",
       "      <th>b_neighborhood</th>\n",
       "      <th>zipcode</th>\n",
       "      <th>latitude</th>\n",
       "      <th>longitude</th>\n",
       "      <th>srtype</th>\n",
       "      <th>methodreceived</th>\n",
       "      <th>geometry_y</th>\n",
       "    </tr>\n",
       "  </thead>\n",
       "  <tbody>\n",
       "    <tr>\n",
       "      <th>0</th>\n",
       "      <td>Druid Heights</td>\n",
       "      <td>Central</td>\n",
       "      <td>11</td>\n",
       "      <td>1816 DRUID HILL AVE</td>\n",
       "      <td>POINT (-8530857.290 4765612.170)</td>\n",
       "      <td>Druid Heights</td>\n",
       "      <td>21217</td>\n",
       "      <td>39.308001120811000</td>\n",
       "      <td>-76.637802661889700</td>\n",
       "      <td>ECC-Miscellaneous Request</td>\n",
       "      <td>API</td>\n",
       "      <td>POINT (-8531281.168 4765886.610)</td>\n",
       "    </tr>\n",
       "    <tr>\n",
       "      <th>49</th>\n",
       "      <td>Druid Heights</td>\n",
       "      <td>Central</td>\n",
       "      <td>11</td>\n",
       "      <td>1816 DRUID HILL AVE</td>\n",
       "      <td>POINT (-8530857.290 4765612.170)</td>\n",
       "      <td>Druid Heights</td>\n",
       "      <td>21217</td>\n",
       "      <td>39.309342271271300</td>\n",
       "      <td>-76.636459919141700</td>\n",
       "      <td>WW-Water Leak (Exterior)</td>\n",
       "      <td>API</td>\n",
       "      <td>POINT (-8531131.694 4766079.563)</td>\n",
       "    </tr>\n",
       "  </tbody>\n",
       "</table>\n",
       "</div>"
      ],
      "text/plain": [
       "     neighborhood policedistrict councildistrict      buildingaddress  \\\n",
       "0   Druid Heights        Central              11  1816 DRUID HILL AVE   \n",
       "49  Druid Heights        Central              11  1816 DRUID HILL AVE   \n",
       "\n",
       "                          geometry_x b_neighborhood zipcode  \\\n",
       "0   POINT (-8530857.290 4765612.170)  Druid Heights   21217   \n",
       "49  POINT (-8530857.290 4765612.170)  Druid Heights   21217   \n",
       "\n",
       "              latitude            longitude                     srtype  \\\n",
       "0   39.308001120811000  -76.637802661889700  ECC-Miscellaneous Request   \n",
       "49  39.309342271271300  -76.636459919141700   WW-Water Leak (Exterior)   \n",
       "\n",
       "   methodreceived                        geometry_y  \n",
       "0             API  POINT (-8531281.168 4765886.610)  \n",
       "49            API  POINT (-8531131.694 4766079.563)  "
      ]
     },
     "execution_count": 24,
     "metadata": {},
     "output_type": "execute_result"
    }
   ],
   "source": [
    "df2.fillna(np.nan).head(2)"
   ]
  },
  {
   "cell_type": "code",
   "execution_count": 25,
   "metadata": {},
   "outputs": [],
   "source": [
    "df4=df2[df2.isnull().T.any()]"
   ]
  },
  {
   "cell_type": "code",
   "execution_count": 26,
   "metadata": {},
   "outputs": [
    {
     "data": {
      "text/plain": [
       "WW-Water No Water                            293\n",
       "WW-Water Leak (Exterior)                     270\n",
       "SW-Rat Rubout Proactive                      270\n",
       "FIR-Fire Smoke Alarm Installation Request     88\n",
       "SW-Bulk Scheduled                             43\n",
       "WW-Water Low Pressure                         40\n",
       "TRM-Snow/Icy Conditions                       25\n",
       "WW-Water Turn Off (Request)                   21\n",
       "WW-Water Meter Leak                           20\n",
       "TRS-Parking Complaint                         16\n",
       "WW-Water Water In Basement                    15\n",
       "SW-Dirty Street                               13\n",
       "SW-Cleaning                                   12\n",
       "WW-Sewer Water In Basement                     9\n",
       "FCCS-Refunds                                   8\n",
       "Name: srtype, dtype: int64"
      ]
     },
     "execution_count": 26,
     "metadata": {},
     "output_type": "execute_result"
    }
   ],
   "source": [
    "df4.srtype.value_counts().head(15)"
   ]
  },
  {
   "cell_type": "code",
   "execution_count": 27,
   "metadata": {},
   "outputs": [
    {
     "data": {
      "text/plain": [
       "Index(['neighborhood', 'policedistrict', 'councildistrict', 'buildingaddress',\n",
       "       'geometry_x', 'b_neighborhood', 'zipcode', 'latitude', 'longitude',\n",
       "       'srtype', 'methodreceived', 'geometry_y'],\n",
       "      dtype='object')"
      ]
     },
     "execution_count": 27,
     "metadata": {},
     "output_type": "execute_result"
    }
   ],
   "source": [
    "df2.columns"
   ]
  },
  {
   "cell_type": "code",
   "execution_count": 28,
   "metadata": {},
   "outputs": [],
   "source": [
    "#df3=df2[['neighborhood', 'policedistrict', 'councildistrict', 'buildingaddress', 'b_neighborhood', 'zipcode', 'latitude', 'longitude',\n",
    "       #'srtype', 'methodreceived']]\n",
    "df3=df2[['councildistrict', 'srtype', 'methodreceived']]"
   ]
  },
  {
   "cell_type": "code",
   "execution_count": 29,
   "metadata": {},
   "outputs": [
    {
     "data": {
      "text/plain": [
       "(6215, 3)"
      ]
     },
     "execution_count": 29,
     "metadata": {},
     "output_type": "execute_result"
    }
   ],
   "source": [
    "#df = df[df[‘STR’].isin([‘a’, ‘b’])]\n",
    "df3=df3[df3['srtype'].isin(['WW-Water No Water',\n",
    "'WW-Water Leak (Exterior)',                  \n",
    "'SW-Rat Rubout Proactive',                     \n",
    "'FIR-Fire Smoke Alarm Installation Request',\n",
    "'SW-Bulk Scheduled',                            \n",
    "'WW-Water Low Pressure',                       \n",
    "'TRM-Snow/Icy Conditions',                      \n",
    "'WW-Water Turn Off (Request)',                  \n",
    "'WW-Water Meter Leak',                          \n",
    "'TRS-Parking Complaint',                     \n",
    "'WW-Water Water In Basement',             \n",
    "'SW-Dirty Street',                            \n",
    "'SW-Cleaning',                                 \n",
    "'WW-Sewer Water In Basement',                    \n",
    "'FCCS-Refunds'])]\n",
    "df3.shape"
   ]
  },
  {
   "cell_type": "code",
   "execution_count": 30,
   "metadata": {},
   "outputs": [
    {
     "data": {
      "text/plain": [
       "councildistrict    1118\n",
       "srtype                0\n",
       "methodreceived        3\n",
       "dtype: int64"
      ]
     },
     "execution_count": 30,
     "metadata": {},
     "output_type": "execute_result"
    }
   ],
   "source": [
    "df3.isna().sum()"
   ]
  },
  {
   "cell_type": "code",
   "execution_count": 31,
   "metadata": {},
   "outputs": [],
   "source": [
    "df3= df3.dropna(subset=[\"methodreceived\"])"
   ]
  },
  {
   "cell_type": "code",
   "execution_count": 32,
   "metadata": {},
   "outputs": [],
   "source": [
    "#df3.groupby(['neighborhood','policedistrict','councildistrict'],as_index=False)['neighborhood'].agg({'cnt':'count'})"
   ]
  },
  {
   "cell_type": "code",
   "execution_count": 33,
   "metadata": {},
   "outputs": [],
   "source": [
    "#df3.councildistrict.value_counts()"
   ]
  },
  {
   "cell_type": "code",
   "execution_count": 34,
   "metadata": {},
   "outputs": [],
   "source": [
    "#df3.srtype.value_counts()"
   ]
  },
  {
   "cell_type": "code",
   "execution_count": 35,
   "metadata": {
    "scrolled": true
   },
   "outputs": [
    {
     "data": {
      "text/html": [
       "<div>\n",
       "<style scoped>\n",
       "    .dataframe tbody tr th:only-of-type {\n",
       "        vertical-align: middle;\n",
       "    }\n",
       "\n",
       "    .dataframe tbody tr th {\n",
       "        vertical-align: top;\n",
       "    }\n",
       "\n",
       "    .dataframe thead th {\n",
       "        text-align: right;\n",
       "    }\n",
       "</style>\n",
       "<table border=\"1\" class=\"dataframe\">\n",
       "  <thead>\n",
       "    <tr style=\"text-align: right;\">\n",
       "      <th></th>\n",
       "      <th>srtype</th>\n",
       "      <th>cnt</th>\n",
       "    </tr>\n",
       "  </thead>\n",
       "  <tbody>\n",
       "    <tr>\n",
       "      <th>1</th>\n",
       "      <td>FIR-Fire Smoke Alarm Installation Request</td>\n",
       "      <td>1690</td>\n",
       "    </tr>\n",
       "    <tr>\n",
       "      <th>5</th>\n",
       "      <td>SW-Rat Rubout Proactive</td>\n",
       "      <td>1581</td>\n",
       "    </tr>\n",
       "    <tr>\n",
       "      <th>12</th>\n",
       "      <td>WW-Water No Water</td>\n",
       "      <td>670</td>\n",
       "    </tr>\n",
       "    <tr>\n",
       "      <th>9</th>\n",
       "      <td>WW-Water Leak (Exterior)</td>\n",
       "      <td>614</td>\n",
       "    </tr>\n",
       "    <tr>\n",
       "      <th>2</th>\n",
       "      <td>SW-Bulk Scheduled</td>\n",
       "      <td>493</td>\n",
       "    </tr>\n",
       "    <tr>\n",
       "      <th>6</th>\n",
       "      <td>TRM-Snow/Icy Conditions</td>\n",
       "      <td>332</td>\n",
       "    </tr>\n",
       "    <tr>\n",
       "      <th>7</th>\n",
       "      <td>TRS-Parking Complaint</td>\n",
       "      <td>182</td>\n",
       "    </tr>\n",
       "    <tr>\n",
       "      <th>3</th>\n",
       "      <td>SW-Cleaning</td>\n",
       "      <td>138</td>\n",
       "    </tr>\n",
       "    <tr>\n",
       "      <th>4</th>\n",
       "      <td>SW-Dirty Street</td>\n",
       "      <td>119</td>\n",
       "    </tr>\n",
       "    <tr>\n",
       "      <th>14</th>\n",
       "      <td>WW-Water Water In Basement</td>\n",
       "      <td>102</td>\n",
       "    </tr>\n",
       "  </tbody>\n",
       "</table>\n",
       "</div>"
      ],
      "text/plain": [
       "                                       srtype   cnt\n",
       "1   FIR-Fire Smoke Alarm Installation Request  1690\n",
       "5                     SW-Rat Rubout Proactive  1581\n",
       "12                          WW-Water No Water   670\n",
       "9                    WW-Water Leak (Exterior)   614\n",
       "2                           SW-Bulk Scheduled   493\n",
       "6                     TRM-Snow/Icy Conditions   332\n",
       "7                       TRS-Parking Complaint   182\n",
       "3                                 SW-Cleaning   138\n",
       "4                             SW-Dirty Street   119\n",
       "14                 WW-Water Water In Basement   102"
      ]
     },
     "execution_count": 35,
     "metadata": {},
     "output_type": "execute_result"
    }
   ],
   "source": [
    "bar=df3.groupby(['srtype'],as_index=False)['srtype'].agg({'cnt':'count'})\n",
    "bar=bar.sort_values(by='cnt',ascending=False)\n",
    "bar=bar[bar.cnt>100]\n",
    "bar"
   ]
  },
  {
   "cell_type": "markdown",
   "metadata": {},
   "source": [
    "## Step3:Label the data in different columns"
   ]
  },
  {
   "cell_type": "markdown",
   "metadata": {},
   "source": [
    "## Step3.1: Convert the data to numeric form"
   ]
  },
  {
   "cell_type": "markdown",
   "metadata": {},
   "source": [
    "#### Choose the indicators of whether a house is a zombie house\n",
    "councildistrict, srtype, methodreceived,policedistrict->Iszombie\n",
    "\n",
    "methods:https://mlln.cn/2018/09/18/pandas文本数据转整数分类编码的最佳实践/"
   ]
  },
  {
   "cell_type": "code",
   "execution_count": 36,
   "metadata": {},
   "outputs": [],
   "source": [
    "#select=['councildistrict', 'srtype', 'methodreceived']"
   ]
  },
  {
   "cell_type": "code",
   "execution_count": 37,
   "metadata": {},
   "outputs": [
    {
     "data": {
      "text/html": [
       "<div>\n",
       "<style scoped>\n",
       "    .dataframe tbody tr th:only-of-type {\n",
       "        vertical-align: middle;\n",
       "    }\n",
       "\n",
       "    .dataframe tbody tr th {\n",
       "        vertical-align: top;\n",
       "    }\n",
       "\n",
       "    .dataframe thead th {\n",
       "        text-align: right;\n",
       "    }\n",
       "</style>\n",
       "<table border=\"1\" class=\"dataframe\">\n",
       "  <thead>\n",
       "    <tr style=\"text-align: right;\">\n",
       "      <th></th>\n",
       "      <th>councildistrict</th>\n",
       "      <th>srtype</th>\n",
       "      <th>methodreceived</th>\n",
       "    </tr>\n",
       "  </thead>\n",
       "  <tbody>\n",
       "    <tr>\n",
       "      <th>49</th>\n",
       "      <td>11</td>\n",
       "      <td>WW-Water Leak (Exterior)</td>\n",
       "      <td>API</td>\n",
       "    </tr>\n",
       "    <tr>\n",
       "      <th>196</th>\n",
       "      <td>11</td>\n",
       "      <td>WW-Water Leak (Exterior)</td>\n",
       "      <td>API</td>\n",
       "    </tr>\n",
       "    <tr>\n",
       "      <th>245</th>\n",
       "      <td>11</td>\n",
       "      <td>WW-Water Water In Basement</td>\n",
       "      <td>Phone</td>\n",
       "    </tr>\n",
       "    <tr>\n",
       "      <th>294</th>\n",
       "      <td>11</td>\n",
       "      <td>WW-Water No Water</td>\n",
       "      <td>Phone</td>\n",
       "    </tr>\n",
       "    <tr>\n",
       "      <th>392</th>\n",
       "      <td>11</td>\n",
       "      <td>WW-Water Leak (Exterior)</td>\n",
       "      <td>API</td>\n",
       "    </tr>\n",
       "  </tbody>\n",
       "</table>\n",
       "</div>"
      ],
      "text/plain": [
       "    councildistrict                      srtype methodreceived\n",
       "49               11    WW-Water Leak (Exterior)            API\n",
       "196              11    WW-Water Leak (Exterior)            API\n",
       "245              11  WW-Water Water In Basement          Phone\n",
       "294              11           WW-Water No Water          Phone\n",
       "392              11    WW-Water Leak (Exterior)            API"
      ]
     },
     "execution_count": 37,
     "metadata": {},
     "output_type": "execute_result"
    }
   ],
   "source": [
    "#df3=df3[select]\n",
    "df3.head()"
   ]
  },
  {
   "cell_type": "code",
   "execution_count": 38,
   "metadata": {},
   "outputs": [],
   "source": [
    "df3.rename(columns={'councildistrict':'NonZombie'},inplace=True)"
   ]
  },
  {
   "cell_type": "code",
   "execution_count": 39,
   "metadata": {},
   "outputs": [
    {
     "data": {
      "text/plain": [
       "10    849\n",
       "8     740\n",
       "13    430\n",
       "9     377\n",
       "5     348\n",
       "14    317\n",
       "1     315\n",
       "3     305\n",
       "12    254\n",
       "4     244\n",
       "7     241\n",
       "2     233\n",
       "6     222\n",
       "11    219\n",
       "Name: NonZombie, dtype: int64"
      ]
     },
     "execution_count": 39,
     "metadata": {},
     "output_type": "execute_result"
    }
   ],
   "source": [
    "df3['NonZombie'].value_counts()"
   ]
  },
  {
   "cell_type": "code",
   "execution_count": 40,
   "metadata": {},
   "outputs": [
    {
     "data": {
      "text/plain": [
       "NonZombie         1118\n",
       "srtype               0\n",
       "methodreceived       0\n",
       "dtype: int64"
      ]
     },
     "execution_count": 40,
     "metadata": {},
     "output_type": "execute_result"
    }
   ],
   "source": [
    "df3.isna().sum()"
   ]
  },
  {
   "cell_type": "code",
   "execution_count": 41,
   "metadata": {},
   "outputs": [
    {
     "data": {
      "text/plain": [
       "FIR-Fire Smoke Alarm Installation Request    1690\n",
       "SW-Rat Rubout Proactive                      1581\n",
       "WW-Water No Water                             670\n",
       "WW-Water Leak (Exterior)                      614\n",
       "SW-Bulk Scheduled                             493\n",
       "TRM-Snow/Icy Conditions                       332\n",
       "TRS-Parking Complaint                         182\n",
       "SW-Cleaning                                   138\n",
       "SW-Dirty Street                               119\n",
       "WW-Water Water In Basement                    102\n",
       "WW-Sewer Water In Basement                     97\n",
       "WW-Water Turn Off (Request)                    66\n",
       "WW-Water Low Pressure                          56\n",
       "WW-Water Meter Leak                            52\n",
       "FCCS-Refunds                                   20\n",
       "Name: srtype, dtype: int64"
      ]
     },
     "execution_count": 41,
     "metadata": {},
     "output_type": "execute_result"
    }
   ],
   "source": [
    "df3['srtype'].value_counts()"
   ]
  },
  {
   "cell_type": "code",
   "execution_count": 42,
   "metadata": {},
   "outputs": [
    {
     "data": {
      "text/plain": [
       "Phone       3654\n",
       "Internal    1602\n",
       "API          952\n",
       "Email          2\n",
       "Other          1\n",
       "Mail           1\n",
       "Name: methodreceived, dtype: int64"
      ]
     },
     "execution_count": 42,
     "metadata": {},
     "output_type": "execute_result"
    }
   ],
   "source": [
    "df3['methodreceived'].value_counts()"
   ]
  },
  {
   "cell_type": "markdown",
   "metadata": {},
   "source": [
    "### 重复执行"
   ]
  },
  {
   "cell_type": "code",
   "execution_count": 59,
   "metadata": {},
   "outputs": [],
   "source": [
    "#https://zhuanlan.zhihu.com/p/30829387\n",
    "#df3['councildistrict'].map(lambda x: x/x)\n",
    "df3=df3.fillna(0)\n",
    "df3['NonZombie'].replace([2,3,4,5,6,7,8,9,10,11,12,13,14],1,inplace=True)"
   ]
  },
  {
   "cell_type": "code",
   "execution_count": 60,
   "metadata": {},
   "outputs": [
    {
     "data": {
      "text/plain": [
       "1    5094\n",
       "0    1118\n",
       "Name: NonZombie, dtype: int64"
      ]
     },
     "execution_count": 60,
     "metadata": {},
     "output_type": "execute_result"
    }
   ],
   "source": [
    "df3['NonZombie'].value_counts()"
   ]
  },
  {
   "cell_type": "code",
   "execution_count": 45,
   "metadata": {},
   "outputs": [],
   "source": [
    "df3.loc[df3['methodreceived']=='Phone','methodreceived']=1\n",
    "df3.loc[df3['methodreceived']=='Internal','methodreceived']=2\n",
    "df3.loc[df3['methodreceived']=='API','methodreceived']=3\n",
    "df3.loc[df3['methodreceived']=='Email','methodreceived']=4\n",
    "df3.loc[df3['methodreceived']=='Other','methodreceived']=6\n",
    "df3.loc[df3['methodreceived']=='Mail','methodreceived']=5"
   ]
  },
  {
   "cell_type": "markdown",
   "metadata": {},
   "source": [
    "nh= df3['srtype'].astype('category')\n",
    "nh.head()"
   ]
  },
  {
   "cell_type": "markdown",
   "metadata": {},
   "source": [
    "nh.cat.codes.head()"
   ]
  },
  {
   "cell_type": "code",
   "execution_count": 46,
   "metadata": {},
   "outputs": [],
   "source": [
    "i=1\n",
    "for item in ['WW-Water No Water',\n",
    "'WW-Water Leak (Exterior)',                  \n",
    "'SW-Rat Rubout Proactive',                     \n",
    "'FIR-Fire Smoke Alarm Installation Request',\n",
    "'SW-Bulk Scheduled',                            \n",
    "'WW-Water Low Pressure',                       \n",
    "'TRM-Snow/Icy Conditions',                      \n",
    "'WW-Water Turn Off (Request)',                  \n",
    "'WW-Water Meter Leak',                          \n",
    "'TRS-Parking Complaint',                     \n",
    "'WW-Water Water In Basement',             \n",
    "'SW-Dirty Street',                            \n",
    "'SW-Cleaning',                                 \n",
    "'WW-Sewer Water In Basement',                    \n",
    "'FCCS-Refunds']:\n",
    "    df3.loc[df3['srtype']==item,'srtype']=i\n",
    "    i=i+1"
   ]
  },
  {
   "cell_type": "code",
   "execution_count": 61,
   "metadata": {},
   "outputs": [
    {
     "data": {
      "text/html": [
       "<div>\n",
       "<style scoped>\n",
       "    .dataframe tbody tr th:only-of-type {\n",
       "        vertical-align: middle;\n",
       "    }\n",
       "\n",
       "    .dataframe tbody tr th {\n",
       "        vertical-align: top;\n",
       "    }\n",
       "\n",
       "    .dataframe thead th {\n",
       "        text-align: right;\n",
       "    }\n",
       "</style>\n",
       "<table border=\"1\" class=\"dataframe\">\n",
       "  <thead>\n",
       "    <tr style=\"text-align: right;\">\n",
       "      <th></th>\n",
       "      <th>NonZombie</th>\n",
       "      <th>srtype</th>\n",
       "      <th>methodreceived</th>\n",
       "    </tr>\n",
       "  </thead>\n",
       "  <tbody>\n",
       "    <tr>\n",
       "      <th>49</th>\n",
       "      <td>1</td>\n",
       "      <td>2</td>\n",
       "      <td>3</td>\n",
       "    </tr>\n",
       "    <tr>\n",
       "      <th>196</th>\n",
       "      <td>1</td>\n",
       "      <td>2</td>\n",
       "      <td>3</td>\n",
       "    </tr>\n",
       "    <tr>\n",
       "      <th>245</th>\n",
       "      <td>1</td>\n",
       "      <td>11</td>\n",
       "      <td>1</td>\n",
       "    </tr>\n",
       "    <tr>\n",
       "      <th>294</th>\n",
       "      <td>1</td>\n",
       "      <td>1</td>\n",
       "      <td>1</td>\n",
       "    </tr>\n",
       "    <tr>\n",
       "      <th>392</th>\n",
       "      <td>1</td>\n",
       "      <td>2</td>\n",
       "      <td>3</td>\n",
       "    </tr>\n",
       "  </tbody>\n",
       "</table>\n",
       "</div>"
      ],
      "text/plain": [
       "     NonZombie  srtype  methodreceived\n",
       "49           1       2               3\n",
       "196          1       2               3\n",
       "245          1      11               1\n",
       "294          1       1               1\n",
       "392          1       2               3"
      ]
     },
     "execution_count": 61,
     "metadata": {},
     "output_type": "execute_result"
    }
   ],
   "source": [
    "df3.head()"
   ]
  },
  {
   "cell_type": "code",
   "execution_count": 48,
   "metadata": {},
   "outputs": [
    {
     "data": {
      "text/plain": [
       "(6212, 3)"
      ]
     },
     "execution_count": 48,
     "metadata": {},
     "output_type": "execute_result"
    }
   ],
   "source": [
    "df3.shape"
   ]
  },
  {
   "cell_type": "code",
   "execution_count": 71,
   "metadata": {},
   "outputs": [
    {
     "data": {
      "text/plain": [
       "15      20\n",
       "9       52\n",
       "6       56\n",
       "8       66\n",
       "14      97\n",
       "11     102\n",
       "12     119\n",
       "13     138\n",
       "10     182\n",
       "7      332\n",
       "5      493\n",
       "2      614\n",
       "1      670\n",
       "3     1581\n",
       "4     1690\n",
       "Name: srtype, dtype: int64"
      ]
     },
     "execution_count": 71,
     "metadata": {},
     "output_type": "execute_result"
    }
   ],
   "source": [
    "df3['srtype'].value_counts(ascending=True)"
   ]
  },
  {
   "cell_type": "code",
   "execution_count": 73,
   "metadata": {},
   "outputs": [
    {
     "data": {
      "text/plain": [
       "5       1\n",
       "6       1\n",
       "4       2\n",
       "3     952\n",
       "2    1602\n",
       "1    3654\n",
       "Name: methodreceived, dtype: int64"
      ]
     },
     "execution_count": 73,
     "metadata": {},
     "output_type": "execute_result"
    }
   ],
   "source": [
    "df3['methodreceived'].value_counts(ascending=True)"
   ]
  },
  {
   "cell_type": "markdown",
   "metadata": {},
   "source": [
    "# Decisiontree"
   ]
  },
  {
   "cell_type": "markdown",
   "metadata": {},
   "source": [
    "### Step 4:Build the model, initialize X, y"
   ]
  },
  {
   "cell_type": "code",
   "execution_count": 63,
   "metadata": {},
   "outputs": [
    {
     "data": {
      "text/plain": [
       "NonZombie         int64\n",
       "srtype            int64\n",
       "methodreceived    int64\n",
       "dtype: object"
      ]
     },
     "execution_count": 63,
     "metadata": {},
     "output_type": "execute_result"
    }
   ],
   "source": [
    "df3.dtypes"
   ]
  },
  {
   "cell_type": "code",
   "execution_count": 77,
   "metadata": {},
   "outputs": [],
   "source": [
    "#https://pandas.pydata.org/pandas-docs/stable/reference/api/pandas.to_numeric.html\n",
    "#df3=pd.DataFrame(df3,dtype=np.float)\n",
    "df3['NonZombie']=pd.to_numeric(df3.NonZombie)\n",
    "df3['srtype']=pd.to_numeric(df3.srtype)\n",
    "df3['methodreceived']=pd.to_numeric(df3.methodreceived)"
   ]
  },
  {
   "cell_type": "code",
   "execution_count": 65,
   "metadata": {},
   "outputs": [
    {
     "data": {
      "text/plain": [
       "NonZombie         int64\n",
       "srtype            int64\n",
       "methodreceived    int64\n",
       "dtype: object"
      ]
     },
     "execution_count": 65,
     "metadata": {},
     "output_type": "execute_result"
    }
   ],
   "source": [
    "df3.dtypes"
   ]
  },
  {
   "cell_type": "code",
   "execution_count": 66,
   "metadata": {},
   "outputs": [
    {
     "data": {
      "text/html": [
       "<div>\n",
       "<style scoped>\n",
       "    .dataframe tbody tr th:only-of-type {\n",
       "        vertical-align: middle;\n",
       "    }\n",
       "\n",
       "    .dataframe tbody tr th {\n",
       "        vertical-align: top;\n",
       "    }\n",
       "\n",
       "    .dataframe thead th {\n",
       "        text-align: right;\n",
       "    }\n",
       "</style>\n",
       "<table border=\"1\" class=\"dataframe\">\n",
       "  <thead>\n",
       "    <tr style=\"text-align: right;\">\n",
       "      <th></th>\n",
       "      <th>NonZombie</th>\n",
       "      <th>srtype</th>\n",
       "      <th>methodreceived</th>\n",
       "    </tr>\n",
       "  </thead>\n",
       "  <tbody>\n",
       "    <tr>\n",
       "      <th>49</th>\n",
       "      <td>1</td>\n",
       "      <td>2</td>\n",
       "      <td>3</td>\n",
       "    </tr>\n",
       "    <tr>\n",
       "      <th>196</th>\n",
       "      <td>1</td>\n",
       "      <td>2</td>\n",
       "      <td>3</td>\n",
       "    </tr>\n",
       "    <tr>\n",
       "      <th>245</th>\n",
       "      <td>1</td>\n",
       "      <td>11</td>\n",
       "      <td>1</td>\n",
       "    </tr>\n",
       "    <tr>\n",
       "      <th>294</th>\n",
       "      <td>1</td>\n",
       "      <td>1</td>\n",
       "      <td>1</td>\n",
       "    </tr>\n",
       "    <tr>\n",
       "      <th>392</th>\n",
       "      <td>1</td>\n",
       "      <td>2</td>\n",
       "      <td>3</td>\n",
       "    </tr>\n",
       "  </tbody>\n",
       "</table>\n",
       "</div>"
      ],
      "text/plain": [
       "     NonZombie  srtype  methodreceived\n",
       "49           1       2               3\n",
       "196          1       2               3\n",
       "245          1      11               1\n",
       "294          1       1               1\n",
       "392          1       2               3"
      ]
     },
     "execution_count": 66,
     "metadata": {},
     "output_type": "execute_result"
    }
   ],
   "source": [
    "df3.head()"
   ]
  },
  {
   "cell_type": "code",
   "execution_count": 67,
   "metadata": {
    "scrolled": true
   },
   "outputs": [],
   "source": [
    "X=df3[['srtype','methodreceived']].values.astype(float)\n",
    "y=df3[['NonZombie']].values.astype(int)"
   ]
  },
  {
   "cell_type": "markdown",
   "metadata": {},
   "source": [
    "### Predictions and Evaluation "
   ]
  },
  {
   "cell_type": "code",
   "execution_count": 68,
   "metadata": {},
   "outputs": [
    {
     "data": {
      "text/plain": [
       "0.8358016741790084"
      ]
     },
     "execution_count": 68,
     "metadata": {},
     "output_type": "execute_result"
    }
   ],
   "source": [
    "from sklearn import tree\n",
    "clf=tree.DecisionTreeClassifier()\n",
    "clf=clf.fit(X,y)\n",
    "clf.score(X,y)\n",
    "#The greater the better, is accuracy, is a ratio"
   ]
  },
  {
   "cell_type": "code",
   "execution_count": 69,
   "metadata": {},
   "outputs": [
    {
     "name": "stdout",
     "output_type": "stream",
     "text": [
      "              precision    recall  f1-score   support\n",
      "\n",
      "           0       0.73      0.14      0.24      1118\n",
      "           1       0.84      0.99      0.91      5094\n",
      "\n",
      "    accuracy                           0.84      6212\n",
      "   macro avg       0.78      0.56      0.57      6212\n",
      "weighted avg       0.82      0.84      0.79      6212\n",
      "\n",
      "Confusion matrix: \n",
      "[[ 157  961]\n",
      " [  59 5035]]\n"
     ]
    }
   ],
   "source": [
    "predicted_y=clf.predict(X)\n",
    "from sklearn import metrics\n",
    "print(metrics.classification_report(y,predicted_y))\n",
    "print('Confusion matrix: ')\n",
    "print(metrics.confusion_matrix(y,predicted_y))\n",
    "tu1=metrics.confusion_matrix(y,predicted_y)\n",
    "tu2=metrics.classification_report(y,predicted_y)"
   ]
  },
  {
   "attachments": {
    "image.png": {
     "image/png": "[encoded data removed]"
    }
   },
   "cell_type": "markdown",
   "metadata": {},
   "source": [
    "![image.png](attachment:image.png)"
   ]
  },
  {
   "cell_type": "code",
   "execution_count": 70,
   "metadata": {},
   "outputs": [
    {
     "data": {
      "text/plain": [
       "<matplotlib.axes._subplots.AxesSubplot at 0x1c8126032c8>"
      ]
     },
     "execution_count": 70,
     "metadata": {},
     "output_type": "execute_result"
    },
    {
     "data": {
      "image/png": "[encoded data removed]",
      "text/plain": [
       "<Figure size 720x360 with 2 Axes>"
      ]
     },
     "metadata": {
      "needs_background": "light"
     },
     "output_type": "display_data"
    }
   ],
   "source": [
    "import matplotlib.pyplot as plt\n",
    "import seaborn as sn\n",
    "\n",
    "plt.figure(figsize=(10, 5))\n",
    "#corrMatrix=df4_TL.select_dtypes(include=['float64','int64']).corr()\n",
    "sn.heatmap(tu1, annot=True)"
   ]
  },
  {
   "cell_type": "code",
   "execution_count": null,
   "metadata": {},
   "outputs": [],
   "source": []
  }
 ],
 "metadata": {
  "hide_input": false,
  "kernelspec": {
   "display_name": "Python 3",
   "language": "python",
   "name": "python3"
  },
  "language_info": {
   "codemirror_mode": {
    "name": "ipython",
    "version": 3
   },
   "file_extension": ".py",
   "mimetype": "text/x-python",
   "name": "python",
   "nbconvert_exporter": "python",
   "pygments_lexer": "ipython3",
   "version": "3.7.8"
  },
  "toc": {
   "base_numbering": 1,
   "nav_menu": {},
   "number_sections": false,
   "sideBar": true,
   "skip_h1_title": true,
   "title_cell": "Table of Contents",
   "title_sidebar": "Contents",
   "toc_cell": false,
   "toc_position": {},
   "toc_section_display": true,
   "toc_window_display": false
  }
 },
 "nbformat": 4,
 "nbformat_minor": 4
}
