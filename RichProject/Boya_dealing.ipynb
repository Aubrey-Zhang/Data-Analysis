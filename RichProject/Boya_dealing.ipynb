{
 "cells": [
  {
   "cell_type": "markdown",
   "metadata": {},
   "source": [
    "\n",
    "\n",
    "\n",
    "# AMT 495 Rich's product project"
   ]
  },
  {
   "cell_type": "code",
   "execution_count": 1,
   "metadata": {},
   "outputs": [],
   "source": [
    "import pandas as pd  \n",
    "import numpy as np  \n",
    "import matplotlib.pyplot as plt  \n",
    "import seaborn as seabornInstance \n",
    "from sklearn.model_selection import train_test_split \n",
    "from sklearn.linear_model import LinearRegression\n",
    "from sklearn import metrics\n",
    "%matplotlib inline"
   ]
  },
  {
   "cell_type": "code",
   "execution_count": 2,
   "metadata": {},
   "outputs": [],
   "source": [
    "# Allow display of more rows or columns\n",
    "pd.set_option('display.max_rows', 500)\n",
    "pd.set_option('display.max_columns', 50)\n",
    "pd.set_option('display.width', 1000)"
   ]
  },
  {
   "cell_type": "markdown",
   "metadata": {},
   "source": [
    "## 1.Read in the initial data"
   ]
  },
  {
   "cell_type": "code",
   "execution_count": 3,
   "metadata": {},
   "outputs": [
    {
     "data": {
      "text/plain": [
       "(118486, 38)"
      ]
     },
     "execution_count": 3,
     "metadata": {},
     "output_type": "execute_result"
    }
   ],
   "source": [
    "df=pd.read_excel('total.xlsx')\n",
    "df.shape"
   ]
  },
  {
   "cell_type": "markdown",
   "metadata": {},
   "source": [
    "#### 1.1 Explore the data and write my discovered"
   ]
  },
  {
   "cell_type": "code",
   "execution_count": 4,
   "metadata": {},
   "outputs": [
    {
     "data": {
      "text/html": [
       "<div>\n",
       "<style scoped>\n",
       "    .dataframe tbody tr th:only-of-type {\n",
       "        vertical-align: middle;\n",
       "    }\n",
       "\n",
       "    .dataframe tbody tr th {\n",
       "        vertical-align: top;\n",
       "    }\n",
       "\n",
       "    .dataframe thead th {\n",
       "        text-align: right;\n",
       "    }\n",
       "</style>\n",
       "<table border=\"1\" class=\"dataframe\">\n",
       "  <thead>\n",
       "    <tr style=\"text-align: right;\">\n",
       "      <th></th>\n",
       "      <th>BaseRate</th>\n",
       "      <th>Carrier_Key</th>\n",
       "      <th>Cases</th>\n",
       "      <th>Cube</th>\n",
       "      <th>Currency</th>\n",
       "      <th>DestCity</th>\n",
       "      <th>DestCountry</th>\n",
       "      <th>DestPostal</th>\n",
       "      <th>DestState</th>\n",
       "      <th>Detention</th>\n",
       "      <th>Fuel</th>\n",
       "      <th>Handling</th>\n",
       "      <th>Layover</th>\n",
       "      <th>LeanID</th>\n",
       "      <th>LoadMiles</th>\n",
       "      <th>Mode</th>\n",
       "      <th>OrderType</th>\n",
       "      <th>OriginCity</th>\n",
       "      <th>OriginCountry</th>\n",
       "      <th>OriginID</th>\n",
       "      <th>OriginState</th>\n",
       "      <th>OtherAccessorial</th>\n",
       "      <th>PaidDate</th>\n",
       "      <th>RichOrder</th>\n",
       "      <th>SCAC</th>\n",
       "      <th>ShipDate</th>\n",
       "      <th>StopCharges</th>\n",
       "      <th>Stops</th>\n",
       "      <th>TMSO_SalesGroup</th>\n",
       "      <th>TotalAccessorial</th>\n",
       "      <th>TotalCharges</th>\n",
       "      <th>Weight</th>\n",
       "      <th>source-test</th>\n",
       "      <th>destination-test</th>\n",
       "      <th>OrigPostal</th>\n",
       "      <th>Per Mile Charge</th>\n",
       "      <th>Market Rates- DS, DAT</th>\n",
       "      <th>Transportation Factor</th>\n",
       "    </tr>\n",
       "  </thead>\n",
       "  <tbody>\n",
       "    <tr>\n",
       "      <th>0</th>\n",
       "      <td>1754.9</td>\n",
       "      <td>Carrier_1</td>\n",
       "      <td>1680</td>\n",
       "      <td>2539</td>\n",
       "      <td>USD</td>\n",
       "      <td>BETHLEHEM</td>\n",
       "      <td>US</td>\n",
       "      <td>180</td>\n",
       "      <td>PA</td>\n",
       "      <td>0.0</td>\n",
       "      <td>359.75</td>\n",
       "      <td>0.0</td>\n",
       "      <td>0.0</td>\n",
       "      <td>86965576</td>\n",
       "      <td>763</td>\n",
       "      <td>IM</td>\n",
       "      <td>STO</td>\n",
       "      <td>ADDISON</td>\n",
       "      <td>US</td>\n",
       "      <td>9024118</td>\n",
       "      <td>IL</td>\n",
       "      <td>0.0</td>\n",
       "      <td>2019-01-17</td>\n",
       "      <td>4501525552</td>\n",
       "      <td>KLMV</td>\n",
       "      <td>2018-12-13</td>\n",
       "      <td>0.0</td>\n",
       "      <td>0</td>\n",
       "      <td>COPACK CREAMERS</td>\n",
       "      <td>359.75</td>\n",
       "      <td>2114.65</td>\n",
       "      <td>28296</td>\n",
       "      <td>ADDISON, IL</td>\n",
       "      <td>BETHLEHEM, PA</td>\n",
       "      <td>601</td>\n",
       "      <td>2.77</td>\n",
       "      <td>3849.55</td>\n",
       "      <td>NaN</td>\n",
       "    </tr>\n",
       "    <tr>\n",
       "      <th>1</th>\n",
       "      <td>1600.0</td>\n",
       "      <td>Carrier_2</td>\n",
       "      <td>2055</td>\n",
       "      <td>2701</td>\n",
       "      <td>USD</td>\n",
       "      <td>BETHLEHEM</td>\n",
       "      <td>US</td>\n",
       "      <td>180</td>\n",
       "      <td>PA</td>\n",
       "      <td>0.0</td>\n",
       "      <td>312.83</td>\n",
       "      <td>0.0</td>\n",
       "      <td>0.0</td>\n",
       "      <td>86378216</td>\n",
       "      <td>763</td>\n",
       "      <td>TL</td>\n",
       "      <td>STO</td>\n",
       "      <td>ADDISON</td>\n",
       "      <td>US</td>\n",
       "      <td>9024118</td>\n",
       "      <td>IL</td>\n",
       "      <td>0.0</td>\n",
       "      <td>2019-01-03</td>\n",
       "      <td>4501521395</td>\n",
       "      <td>KNDO</td>\n",
       "      <td>2018-11-28</td>\n",
       "      <td>0.0</td>\n",
       "      <td>0</td>\n",
       "      <td>COPACK CREAMERS</td>\n",
       "      <td>312.83</td>\n",
       "      <td>1912.83</td>\n",
       "      <td>28274</td>\n",
       "      <td>ADDISON, IL</td>\n",
       "      <td>BETHLEHEM, PA</td>\n",
       "      <td>601</td>\n",
       "      <td>2.51</td>\n",
       "      <td>2241.70</td>\n",
       "      <td>NaN</td>\n",
       "    </tr>\n",
       "  </tbody>\n",
       "</table>\n",
       "</div>"
      ],
      "text/plain": [
       "   BaseRate Carrier_Key  Cases  Cube Currency   DestCity DestCountry DestPostal DestState  Detention    Fuel  Handling  Layover    LeanID  LoadMiles Mode OrderType OriginCity OriginCountry OriginID OriginState  OtherAccessorial   PaidDate   RichOrder  SCAC   ShipDate  StopCharges  Stops  TMSO_SalesGroup  TotalAccessorial  TotalCharges  Weight  source-test destination-test OrigPostal  Per Mile Charge  Market Rates- DS, DAT  Transportation Factor\n",
       "0    1754.9   Carrier_1   1680  2539      USD  BETHLEHEM          US        180        PA        0.0  359.75       0.0      0.0  86965576        763   IM       STO    ADDISON            US  9024118          IL               0.0 2019-01-17  4501525552  KLMV 2018-12-13          0.0      0  COPACK CREAMERS            359.75       2114.65   28296  ADDISON, IL    BETHLEHEM, PA        601             2.77                3849.55                    NaN\n",
       "1    1600.0   Carrier_2   2055  2701      USD  BETHLEHEM          US        180        PA        0.0  312.83       0.0      0.0  86378216        763   TL       STO    ADDISON            US  9024118          IL               0.0 2019-01-03  4501521395  KNDO 2018-11-28          0.0      0  COPACK CREAMERS            312.83       1912.83   28274  ADDISON, IL    BETHLEHEM, PA        601             2.51                2241.70                    NaN"
      ]
     },
     "execution_count": 4,
     "metadata": {},
     "output_type": "execute_result"
    }
   ],
   "source": [
    "df.head(2)"
   ]
  },
  {
   "cell_type": "code",
   "execution_count": 5,
   "metadata": {},
   "outputs": [
    {
     "data": {
      "text/plain": [
       "BaseRate                        float64\n",
       "Carrier_Key                      object\n",
       "Cases                             int64\n",
       "Cube                              int64\n",
       "Currency                         object\n",
       "DestCity                         object\n",
       "DestCountry                      object\n",
       "DestPostal                       object\n",
       "DestState                        object\n",
       "Detention                       float64\n",
       "Fuel                            float64\n",
       "Handling                        float64\n",
       "Layover                         float64\n",
       "LeanID                            int64\n",
       "LoadMiles                         int64\n",
       "Mode                             object\n",
       "OrderType                        object\n",
       "OriginCity                       object\n",
       "OriginCountry                    object\n",
       "OriginID                         object\n",
       "OriginState                      object\n",
       "OtherAccessorial                float64\n",
       "PaidDate                 datetime64[ns]\n",
       "RichOrder                        object\n",
       "SCAC                             object\n",
       "ShipDate                 datetime64[ns]\n",
       "StopCharges                     float64\n",
       "Stops                             int64\n",
       "TMSO_SalesGroup                  object\n",
       "TotalAccessorial                float64\n",
       "TotalCharges                    float64\n",
       "Weight                            int64\n",
       "source-test                      object\n",
       "destination-test                 object\n",
       "OrigPostal                       object\n",
       "Per Mile Charge                 float64\n",
       "Market Rates- DS, DAT           float64\n",
       "Transportation Factor           float64\n",
       "dtype: object"
      ]
     },
     "execution_count": 5,
     "metadata": {},
     "output_type": "execute_result"
    }
   ],
   "source": [
    "df.dtypes"
   ]
  },
  {
   "cell_type": "code",
   "execution_count": 6,
   "metadata": {},
   "outputs": [
    {
     "data": {
      "text/html": [
       "<div>\n",
       "<style scoped>\n",
       "    .dataframe tbody tr th:only-of-type {\n",
       "        vertical-align: middle;\n",
       "    }\n",
       "\n",
       "    .dataframe tbody tr th {\n",
       "        vertical-align: top;\n",
       "    }\n",
       "\n",
       "    .dataframe thead th {\n",
       "        text-align: right;\n",
       "    }\n",
       "</style>\n",
       "<table border=\"1\" class=\"dataframe\">\n",
       "  <thead>\n",
       "    <tr style=\"text-align: right;\">\n",
       "      <th></th>\n",
       "      <th>BaseRate</th>\n",
       "      <th>Cases</th>\n",
       "      <th>Cube</th>\n",
       "      <th>Detention</th>\n",
       "      <th>Fuel</th>\n",
       "      <th>Handling</th>\n",
       "      <th>Layover</th>\n",
       "      <th>LeanID</th>\n",
       "      <th>LoadMiles</th>\n",
       "      <th>OtherAccessorial</th>\n",
       "      <th>StopCharges</th>\n",
       "      <th>Stops</th>\n",
       "      <th>TotalAccessorial</th>\n",
       "      <th>TotalCharges</th>\n",
       "      <th>Weight</th>\n",
       "      <th>Per Mile Charge</th>\n",
       "      <th>Market Rates- DS, DAT</th>\n",
       "      <th>Transportation Factor</th>\n",
       "    </tr>\n",
       "  </thead>\n",
       "  <tbody>\n",
       "    <tr>\n",
       "      <th>0</th>\n",
       "      <td>1754.9</td>\n",
       "      <td>1680</td>\n",
       "      <td>2539</td>\n",
       "      <td>0.0</td>\n",
       "      <td>359.75</td>\n",
       "      <td>0.0</td>\n",
       "      <td>0.0</td>\n",
       "      <td>86965576</td>\n",
       "      <td>763</td>\n",
       "      <td>0.0</td>\n",
       "      <td>0.0</td>\n",
       "      <td>0</td>\n",
       "      <td>359.75</td>\n",
       "      <td>2114.65</td>\n",
       "      <td>28296</td>\n",
       "      <td>2.77</td>\n",
       "      <td>3849.55</td>\n",
       "      <td>NaN</td>\n",
       "    </tr>\n",
       "    <tr>\n",
       "      <th>1</th>\n",
       "      <td>1600.0</td>\n",
       "      <td>2055</td>\n",
       "      <td>2701</td>\n",
       "      <td>0.0</td>\n",
       "      <td>312.83</td>\n",
       "      <td>0.0</td>\n",
       "      <td>0.0</td>\n",
       "      <td>86378216</td>\n",
       "      <td>763</td>\n",
       "      <td>0.0</td>\n",
       "      <td>0.0</td>\n",
       "      <td>0</td>\n",
       "      <td>312.83</td>\n",
       "      <td>1912.83</td>\n",
       "      <td>28274</td>\n",
       "      <td>2.51</td>\n",
       "      <td>2241.70</td>\n",
       "      <td>NaN</td>\n",
       "    </tr>\n",
       "  </tbody>\n",
       "</table>\n",
       "</div>"
      ],
      "text/plain": [
       "   BaseRate  Cases  Cube  Detention    Fuel  Handling  Layover    LeanID  LoadMiles  OtherAccessorial  StopCharges  Stops  TotalAccessorial  TotalCharges  Weight  Per Mile Charge  Market Rates- DS, DAT  Transportation Factor\n",
       "0    1754.9   1680  2539        0.0  359.75       0.0      0.0  86965576        763               0.0          0.0      0            359.75       2114.65   28296             2.77                3849.55                    NaN\n",
       "1    1600.0   2055  2701        0.0  312.83       0.0      0.0  86378216        763               0.0          0.0      0            312.83       1912.83   28274             2.51                2241.70                    NaN"
      ]
     },
     "execution_count": 6,
     "metadata": {},
     "output_type": "execute_result"
    }
   ],
   "source": [
    "df.select_dtypes(include=['float64','int64']).head(2)"
   ]
  },
  {
   "cell_type": "code",
   "execution_count": 7,
   "metadata": {},
   "outputs": [
    {
     "data": {
      "text/plain": [
       "Index(['BaseRate', 'Carrier_Key', 'Cases', 'Cube', 'Currency', 'DestCity', 'DestCountry', 'DestPostal', 'DestState', 'Detention', 'Fuel', 'Handling', 'Layover', 'LeanID', 'LoadMiles', 'Mode', 'OrderType', 'OriginCity', 'OriginCountry', 'OriginID', 'OriginState', 'OtherAccessorial', 'PaidDate', 'RichOrder', 'SCAC', 'ShipDate', 'StopCharges', 'Stops', 'TMSO_SalesGroup', 'TotalAccessorial', 'TotalCharges', 'Weight', 'source-test', 'destination-test', 'OrigPostal', 'Per Mile Charge', 'Market Rates- DS, DAT', 'Transportation Factor'], dtype='object')"
      ]
     },
     "execution_count": 7,
     "metadata": {},
     "output_type": "execute_result"
    }
   ],
   "source": [
    "df.columns"
   ]
  },
  {
   "cell_type": "markdown",
   "metadata": {},
   "source": [
    "## 2.Clean the data step by step: ###\n",
    "1. select useful columns\n",
    "2. delete the wrong data which TotalCharches<Additive factor\n",
    "3. delete the rows which have null values\n",
    "4. select my mode is TL                                                         \n",
    "### Finally get the df4_TL data set   "
   ]
  },
  {
   "cell_type": "code",
   "execution_count": 8,
   "metadata": {},
   "outputs": [],
   "source": [
    "good_cls1=['BaseRate',  'Cases', 'Cube', 'Currency', \n",
    "       'DestCountry',  'DestState','DestPostal','Detention', 'Fuel',\n",
    "       'Handling', 'Layover', 'LoadMiles', 'Mode', \n",
    "        'OriginCountry',  'OriginState',\n",
    "       'OtherAccessorial',    'ShipDate',\n",
    "       'StopCharges', 'TotalAccessorial',\n",
    "       'TotalCharges', 'Weight', 'source-test', 'destination-test',\n",
    "        'Per Mile Charge', 'Market Rates- DS, DAT',\n",
    "       'Transportation Factor']"
   ]
  },
  {
   "cell_type": "code",
   "execution_count": 9,
   "metadata": {},
   "outputs": [],
   "source": [
    "df2=df[good_cls1]"
   ]
  },
  {
   "cell_type": "code",
   "execution_count": 10,
   "metadata": {},
   "outputs": [],
   "source": [
    "df3=df2[abs(df2['TotalCharges']-(df2['BaseRate']+df2['Fuel']+df2['Handling']+df2['Layover']+df2['StopCharges']+df2['OtherAccessorial']))<6]"
   ]
  },
  {
   "cell_type": "code",
   "execution_count": 11,
   "metadata": {},
   "outputs": [],
   "source": [
    "df4 = df3.dropna(how='any',axis=0) "
   ]
  },
  {
   "cell_type": "code",
   "execution_count": 12,
   "metadata": {},
   "outputs": [
    {
     "data": {
      "text/plain": [
       "(95636, 26)"
      ]
     },
     "execution_count": 12,
     "metadata": {},
     "output_type": "execute_result"
    }
   ],
   "source": [
    "df4.shape"
   ]
  },
  {
   "cell_type": "code",
   "execution_count": 13,
   "metadata": {},
   "outputs": [
    {
     "name": "stderr",
     "output_type": "stream",
     "text": [
      "E:\\anaconda3\\envs\\data\\lib\\site-packages\\ipykernel_launcher.py:1: UserWarning: Boolean Series key will be reindexed to match DataFrame index.\n",
      "  \"\"\"Entry point for launching an IPython kernel.\n"
     ]
    }
   ],
   "source": [
    "df4_TL=df4[df['Mode']=='TL']"
   ]
  },
  {
   "cell_type": "code",
   "execution_count": 14,
   "metadata": {},
   "outputs": [
    {
     "data": {
      "text/html": [
       "<div>\n",
       "<style scoped>\n",
       "    .dataframe tbody tr th:only-of-type {\n",
       "        vertical-align: middle;\n",
       "    }\n",
       "\n",
       "    .dataframe tbody tr th {\n",
       "        vertical-align: top;\n",
       "    }\n",
       "\n",
       "    .dataframe thead th {\n",
       "        text-align: right;\n",
       "    }\n",
       "</style>\n",
       "<table border=\"1\" class=\"dataframe\">\n",
       "  <thead>\n",
       "    <tr style=\"text-align: right;\">\n",
       "      <th></th>\n",
       "      <th>BaseRate</th>\n",
       "      <th>Cases</th>\n",
       "      <th>Cube</th>\n",
       "      <th>Currency</th>\n",
       "      <th>DestCountry</th>\n",
       "      <th>DestState</th>\n",
       "      <th>DestPostal</th>\n",
       "      <th>Detention</th>\n",
       "      <th>Fuel</th>\n",
       "      <th>Handling</th>\n",
       "      <th>Layover</th>\n",
       "      <th>LoadMiles</th>\n",
       "      <th>Mode</th>\n",
       "      <th>OriginCountry</th>\n",
       "      <th>OriginState</th>\n",
       "      <th>OtherAccessorial</th>\n",
       "      <th>ShipDate</th>\n",
       "      <th>StopCharges</th>\n",
       "      <th>TotalAccessorial</th>\n",
       "      <th>TotalCharges</th>\n",
       "      <th>Weight</th>\n",
       "      <th>source-test</th>\n",
       "      <th>destination-test</th>\n",
       "      <th>Per Mile Charge</th>\n",
       "      <th>Market Rates- DS, DAT</th>\n",
       "      <th>Transportation Factor</th>\n",
       "    </tr>\n",
       "  </thead>\n",
       "  <tbody>\n",
       "    <tr>\n",
       "      <th>71</th>\n",
       "      <td>1469.16</td>\n",
       "      <td>1280</td>\n",
       "      <td>894</td>\n",
       "      <td>USD</td>\n",
       "      <td>US</td>\n",
       "      <td>TX</td>\n",
       "      <td>773</td>\n",
       "      <td>0.0</td>\n",
       "      <td>227.37</td>\n",
       "      <td>0.0</td>\n",
       "      <td>0.0</td>\n",
       "      <td>583</td>\n",
       "      <td>TL</td>\n",
       "      <td>US</td>\n",
       "      <td>TN</td>\n",
       "      <td>0.0</td>\n",
       "      <td>2018-12-11</td>\n",
       "      <td>0.0</td>\n",
       "      <td>227.37</td>\n",
       "      <td>1696.53</td>\n",
       "      <td>40704</td>\n",
       "      <td>ARLINGTON, TN</td>\n",
       "      <td>HUMBLE, TX</td>\n",
       "      <td>2.91</td>\n",
       "      <td>1577.9700</td>\n",
       "      <td>1.08</td>\n",
       "    </tr>\n",
       "    <tr>\n",
       "      <th>74</th>\n",
       "      <td>700.00</td>\n",
       "      <td>3124</td>\n",
       "      <td>1987</td>\n",
       "      <td>USD</td>\n",
       "      <td>US</td>\n",
       "      <td>TN</td>\n",
       "      <td>370</td>\n",
       "      <td>0.0</td>\n",
       "      <td>88.97</td>\n",
       "      <td>0.0</td>\n",
       "      <td>0.0</td>\n",
       "      <td>217</td>\n",
       "      <td>TL</td>\n",
       "      <td>US</td>\n",
       "      <td>TN</td>\n",
       "      <td>0.0</td>\n",
       "      <td>2018-11-28</td>\n",
       "      <td>0.0</td>\n",
       "      <td>88.97</td>\n",
       "      <td>788.97</td>\n",
       "      <td>39634</td>\n",
       "      <td>ARLINGTON, TN</td>\n",
       "      <td>LEBANON, TN</td>\n",
       "      <td>3.64</td>\n",
       "      <td>4.3794</td>\n",
       "      <td>0.83</td>\n",
       "    </tr>\n",
       "    <tr>\n",
       "      <th>75</th>\n",
       "      <td>700.00</td>\n",
       "      <td>2393</td>\n",
       "      <td>1943</td>\n",
       "      <td>USD</td>\n",
       "      <td>US</td>\n",
       "      <td>TN</td>\n",
       "      <td>370</td>\n",
       "      <td>0.0</td>\n",
       "      <td>88.97</td>\n",
       "      <td>0.0</td>\n",
       "      <td>0.0</td>\n",
       "      <td>217</td>\n",
       "      <td>TL</td>\n",
       "      <td>US</td>\n",
       "      <td>TN</td>\n",
       "      <td>0.0</td>\n",
       "      <td>2018-11-28</td>\n",
       "      <td>0.0</td>\n",
       "      <td>88.97</td>\n",
       "      <td>788.97</td>\n",
       "      <td>39939</td>\n",
       "      <td>ARLINGTON, TN</td>\n",
       "      <td>LEBANON, TN</td>\n",
       "      <td>3.64</td>\n",
       "      <td>4.3794</td>\n",
       "      <td>0.83</td>\n",
       "    </tr>\n",
       "  </tbody>\n",
       "</table>\n",
       "</div>"
      ],
      "text/plain": [
       "    BaseRate  Cases  Cube Currency DestCountry DestState DestPostal  Detention    Fuel  Handling  Layover  LoadMiles Mode OriginCountry OriginState  OtherAccessorial   ShipDate  StopCharges  TotalAccessorial  TotalCharges  Weight    source-test destination-test  Per Mile Charge  Market Rates- DS, DAT  Transportation Factor\n",
       "71   1469.16   1280   894      USD          US        TX        773        0.0  227.37       0.0      0.0        583   TL            US          TN               0.0 2018-12-11          0.0            227.37       1696.53   40704  ARLINGTON, TN       HUMBLE, TX             2.91              1577.9700                   1.08\n",
       "74    700.00   3124  1987      USD          US        TN        370        0.0   88.97       0.0      0.0        217   TL            US          TN               0.0 2018-11-28          0.0             88.97        788.97   39634  ARLINGTON, TN      LEBANON, TN             3.64                 4.3794                   0.83\n",
       "75    700.00   2393  1943      USD          US        TN        370        0.0   88.97       0.0      0.0        217   TL            US          TN               0.0 2018-11-28          0.0             88.97        788.97   39939  ARLINGTON, TN      LEBANON, TN             3.64                 4.3794                   0.83"
      ]
     },
     "execution_count": 14,
     "metadata": {},
     "output_type": "execute_result"
    }
   ],
   "source": [
    "df4_TL.head(3)"
   ]
  },
  {
   "cell_type": "code",
   "execution_count": 15,
   "metadata": {},
   "outputs": [
    {
     "data": {
      "text/plain": [
       "(55483, 26)"
      ]
     },
     "execution_count": 15,
     "metadata": {},
     "output_type": "execute_result"
    }
   ],
   "source": [
    "df4_TL.shape"
   ]
  },
  {
   "cell_type": "markdown",
   "metadata": {},
   "source": [
    "## 3.Process the data, adding the required new columns and splitting the existing column entries."
   ]
  },
  {
   "cell_type": "markdown",
   "metadata": {},
   "source": [
    "### 3.1 Count the number of rows with the same origin and destination, and name them the \"Frequency\" column item.And the update is still df4_TL dataset."
   ]
  },
  {
   "cell_type": "code",
   "execution_count": 16,
   "metadata": {
    "scrolled": true
   },
   "outputs": [
    {
     "data": {
      "text/html": [
       "<div>\n",
       "<style scoped>\n",
       "    .dataframe tbody tr th:only-of-type {\n",
       "        vertical-align: middle;\n",
       "    }\n",
       "\n",
       "    .dataframe tbody tr th {\n",
       "        vertical-align: top;\n",
       "    }\n",
       "\n",
       "    .dataframe thead th {\n",
       "        text-align: right;\n",
       "    }\n",
       "</style>\n",
       "<table border=\"1\" class=\"dataframe\">\n",
       "  <thead>\n",
       "    <tr style=\"text-align: right;\">\n",
       "      <th></th>\n",
       "      <th></th>\n",
       "      <th>BaseRate</th>\n",
       "      <th>Cases</th>\n",
       "      <th>Cube</th>\n",
       "      <th>Currency</th>\n",
       "      <th>DestCountry</th>\n",
       "      <th>DestState</th>\n",
       "      <th>DestPostal</th>\n",
       "      <th>Detention</th>\n",
       "      <th>Fuel</th>\n",
       "      <th>Handling</th>\n",
       "      <th>Layover</th>\n",
       "      <th>LoadMiles</th>\n",
       "      <th>Mode</th>\n",
       "      <th>OriginCountry</th>\n",
       "      <th>OriginState</th>\n",
       "      <th>OtherAccessorial</th>\n",
       "      <th>ShipDate</th>\n",
       "      <th>StopCharges</th>\n",
       "      <th>TotalAccessorial</th>\n",
       "      <th>TotalCharges</th>\n",
       "      <th>Weight</th>\n",
       "      <th>Per Mile Charge</th>\n",
       "      <th>Market Rates- DS, DAT</th>\n",
       "      <th>Transportation Factor</th>\n",
       "    </tr>\n",
       "    <tr>\n",
       "      <th>source-test</th>\n",
       "      <th>destination-test</th>\n",
       "      <th></th>\n",
       "      <th></th>\n",
       "      <th></th>\n",
       "      <th></th>\n",
       "      <th></th>\n",
       "      <th></th>\n",
       "      <th></th>\n",
       "      <th></th>\n",
       "      <th></th>\n",
       "      <th></th>\n",
       "      <th></th>\n",
       "      <th></th>\n",
       "      <th></th>\n",
       "      <th></th>\n",
       "      <th></th>\n",
       "      <th></th>\n",
       "      <th></th>\n",
       "      <th></th>\n",
       "      <th></th>\n",
       "      <th></th>\n",
       "      <th></th>\n",
       "      <th></th>\n",
       "      <th></th>\n",
       "      <th></th>\n",
       "    </tr>\n",
       "  </thead>\n",
       "  <tbody>\n",
       "    <tr>\n",
       "      <th>ABERDEEN, MD</th>\n",
       "      <th>WOODSIDE, NY</th>\n",
       "      <td>1</td>\n",
       "      <td>1</td>\n",
       "      <td>1</td>\n",
       "      <td>1</td>\n",
       "      <td>1</td>\n",
       "      <td>1</td>\n",
       "      <td>1</td>\n",
       "      <td>1</td>\n",
       "      <td>1</td>\n",
       "      <td>1</td>\n",
       "      <td>1</td>\n",
       "      <td>1</td>\n",
       "      <td>1</td>\n",
       "      <td>1</td>\n",
       "      <td>1</td>\n",
       "      <td>1</td>\n",
       "      <td>1</td>\n",
       "      <td>1</td>\n",
       "      <td>1</td>\n",
       "      <td>1</td>\n",
       "      <td>1</td>\n",
       "      <td>1</td>\n",
       "      <td>1</td>\n",
       "      <td>1</td>\n",
       "    </tr>\n",
       "    <tr>\n",
       "      <th rowspan=\"4\" valign=\"top\">ADDISON, IL</th>\n",
       "      <th>BETHLEHEM, PA</th>\n",
       "      <td>2</td>\n",
       "      <td>2</td>\n",
       "      <td>2</td>\n",
       "      <td>2</td>\n",
       "      <td>2</td>\n",
       "      <td>2</td>\n",
       "      <td>2</td>\n",
       "      <td>2</td>\n",
       "      <td>2</td>\n",
       "      <td>2</td>\n",
       "      <td>2</td>\n",
       "      <td>2</td>\n",
       "      <td>2</td>\n",
       "      <td>2</td>\n",
       "      <td>2</td>\n",
       "      <td>2</td>\n",
       "      <td>2</td>\n",
       "      <td>2</td>\n",
       "      <td>2</td>\n",
       "      <td>2</td>\n",
       "      <td>2</td>\n",
       "      <td>2</td>\n",
       "      <td>2</td>\n",
       "      <td>2</td>\n",
       "    </tr>\n",
       "    <tr>\n",
       "      <th>BRAMPTON, ON</th>\n",
       "      <td>1</td>\n",
       "      <td>1</td>\n",
       "      <td>1</td>\n",
       "      <td>1</td>\n",
       "      <td>1</td>\n",
       "      <td>1</td>\n",
       "      <td>1</td>\n",
       "      <td>1</td>\n",
       "      <td>1</td>\n",
       "      <td>1</td>\n",
       "      <td>1</td>\n",
       "      <td>1</td>\n",
       "      <td>1</td>\n",
       "      <td>1</td>\n",
       "      <td>1</td>\n",
       "      <td>1</td>\n",
       "      <td>1</td>\n",
       "      <td>1</td>\n",
       "      <td>1</td>\n",
       "      <td>1</td>\n",
       "      <td>1</td>\n",
       "      <td>1</td>\n",
       "      <td>1</td>\n",
       "      <td>1</td>\n",
       "    </tr>\n",
       "    <tr>\n",
       "      <th>COLUMBUS, OH</th>\n",
       "      <td>8</td>\n",
       "      <td>8</td>\n",
       "      <td>8</td>\n",
       "      <td>8</td>\n",
       "      <td>8</td>\n",
       "      <td>8</td>\n",
       "      <td>8</td>\n",
       "      <td>8</td>\n",
       "      <td>8</td>\n",
       "      <td>8</td>\n",
       "      <td>8</td>\n",
       "      <td>8</td>\n",
       "      <td>8</td>\n",
       "      <td>8</td>\n",
       "      <td>8</td>\n",
       "      <td>8</td>\n",
       "      <td>8</td>\n",
       "      <td>8</td>\n",
       "      <td>8</td>\n",
       "      <td>8</td>\n",
       "      <td>8</td>\n",
       "      <td>8</td>\n",
       "      <td>8</td>\n",
       "      <td>8</td>\n",
       "    </tr>\n",
       "    <tr>\n",
       "      <th>CREST HILL, IL</th>\n",
       "      <td>21</td>\n",
       "      <td>21</td>\n",
       "      <td>21</td>\n",
       "      <td>21</td>\n",
       "      <td>21</td>\n",
       "      <td>21</td>\n",
       "      <td>21</td>\n",
       "      <td>21</td>\n",
       "      <td>21</td>\n",
       "      <td>21</td>\n",
       "      <td>21</td>\n",
       "      <td>21</td>\n",
       "      <td>21</td>\n",
       "      <td>21</td>\n",
       "      <td>21</td>\n",
       "      <td>21</td>\n",
       "      <td>21</td>\n",
       "      <td>21</td>\n",
       "      <td>21</td>\n",
       "      <td>21</td>\n",
       "      <td>21</td>\n",
       "      <td>21</td>\n",
       "      <td>21</td>\n",
       "      <td>21</td>\n",
       "    </tr>\n",
       "    <tr>\n",
       "      <th>...</th>\n",
       "      <th>...</th>\n",
       "      <td>...</td>\n",
       "      <td>...</td>\n",
       "      <td>...</td>\n",
       "      <td>...</td>\n",
       "      <td>...</td>\n",
       "      <td>...</td>\n",
       "      <td>...</td>\n",
       "      <td>...</td>\n",
       "      <td>...</td>\n",
       "      <td>...</td>\n",
       "      <td>...</td>\n",
       "      <td>...</td>\n",
       "      <td>...</td>\n",
       "      <td>...</td>\n",
       "      <td>...</td>\n",
       "      <td>...</td>\n",
       "      <td>...</td>\n",
       "      <td>...</td>\n",
       "      <td>...</td>\n",
       "      <td>...</td>\n",
       "      <td>...</td>\n",
       "      <td>...</td>\n",
       "      <td>...</td>\n",
       "      <td>...</td>\n",
       "    </tr>\n",
       "    <tr>\n",
       "      <th rowspan=\"2\" valign=\"top\">WESTFIELD, MA</th>\n",
       "      <th>BETHLEHEM, PA</th>\n",
       "      <td>2</td>\n",
       "      <td>2</td>\n",
       "      <td>2</td>\n",
       "      <td>2</td>\n",
       "      <td>2</td>\n",
       "      <td>2</td>\n",
       "      <td>2</td>\n",
       "      <td>2</td>\n",
       "      <td>2</td>\n",
       "      <td>2</td>\n",
       "      <td>2</td>\n",
       "      <td>2</td>\n",
       "      <td>2</td>\n",
       "      <td>2</td>\n",
       "      <td>2</td>\n",
       "      <td>2</td>\n",
       "      <td>2</td>\n",
       "      <td>2</td>\n",
       "      <td>2</td>\n",
       "      <td>2</td>\n",
       "      <td>2</td>\n",
       "      <td>2</td>\n",
       "      <td>2</td>\n",
       "      <td>2</td>\n",
       "    </tr>\n",
       "    <tr>\n",
       "      <th>MORRISTOWN, TN</th>\n",
       "      <td>1</td>\n",
       "      <td>1</td>\n",
       "      <td>1</td>\n",
       "      <td>1</td>\n",
       "      <td>1</td>\n",
       "      <td>1</td>\n",
       "      <td>1</td>\n",
       "      <td>1</td>\n",
       "      <td>1</td>\n",
       "      <td>1</td>\n",
       "      <td>1</td>\n",
       "      <td>1</td>\n",
       "      <td>1</td>\n",
       "      <td>1</td>\n",
       "      <td>1</td>\n",
       "      <td>1</td>\n",
       "      <td>1</td>\n",
       "      <td>1</td>\n",
       "      <td>1</td>\n",
       "      <td>1</td>\n",
       "      <td>1</td>\n",
       "      <td>1</td>\n",
       "      <td>1</td>\n",
       "      <td>1</td>\n",
       "    </tr>\n",
       "    <tr>\n",
       "      <th>WOODBRIDGE, ON</th>\n",
       "      <th>MURFREESBORO, TN</th>\n",
       "      <td>4</td>\n",
       "      <td>4</td>\n",
       "      <td>4</td>\n",
       "      <td>4</td>\n",
       "      <td>4</td>\n",
       "      <td>4</td>\n",
       "      <td>4</td>\n",
       "      <td>4</td>\n",
       "      <td>4</td>\n",
       "      <td>4</td>\n",
       "      <td>4</td>\n",
       "      <td>4</td>\n",
       "      <td>4</td>\n",
       "      <td>4</td>\n",
       "      <td>4</td>\n",
       "      <td>4</td>\n",
       "      <td>4</td>\n",
       "      <td>4</td>\n",
       "      <td>4</td>\n",
       "      <td>4</td>\n",
       "      <td>4</td>\n",
       "      <td>4</td>\n",
       "      <td>4</td>\n",
       "      <td>4</td>\n",
       "    </tr>\n",
       "    <tr>\n",
       "      <th>WOODBURN, OR</th>\n",
       "      <th>RIVERSIDE, CA</th>\n",
       "      <td>1</td>\n",
       "      <td>1</td>\n",
       "      <td>1</td>\n",
       "      <td>1</td>\n",
       "      <td>1</td>\n",
       "      <td>1</td>\n",
       "      <td>1</td>\n",
       "      <td>1</td>\n",
       "      <td>1</td>\n",
       "      <td>1</td>\n",
       "      <td>1</td>\n",
       "      <td>1</td>\n",
       "      <td>1</td>\n",
       "      <td>1</td>\n",
       "      <td>1</td>\n",
       "      <td>1</td>\n",
       "      <td>1</td>\n",
       "      <td>1</td>\n",
       "      <td>1</td>\n",
       "      <td>1</td>\n",
       "      <td>1</td>\n",
       "      <td>1</td>\n",
       "      <td>1</td>\n",
       "      <td>1</td>\n",
       "    </tr>\n",
       "    <tr>\n",
       "      <th>YORK, PA</th>\n",
       "      <th>BETHLEHEM, PA</th>\n",
       "      <td>1</td>\n",
       "      <td>1</td>\n",
       "      <td>1</td>\n",
       "      <td>1</td>\n",
       "      <td>1</td>\n",
       "      <td>1</td>\n",
       "      <td>1</td>\n",
       "      <td>1</td>\n",
       "      <td>1</td>\n",
       "      <td>1</td>\n",
       "      <td>1</td>\n",
       "      <td>1</td>\n",
       "      <td>1</td>\n",
       "      <td>1</td>\n",
       "      <td>1</td>\n",
       "      <td>1</td>\n",
       "      <td>1</td>\n",
       "      <td>1</td>\n",
       "      <td>1</td>\n",
       "      <td>1</td>\n",
       "      <td>1</td>\n",
       "      <td>1</td>\n",
       "      <td>1</td>\n",
       "      <td>1</td>\n",
       "    </tr>\n",
       "  </tbody>\n",
       "</table>\n",
       "<p>1506 rows × 24 columns</p>\n",
       "</div>"
      ],
      "text/plain": [
       "                                 BaseRate  Cases  Cube  Currency  DestCountry  DestState  DestPostal  Detention  Fuel  Handling  Layover  LoadMiles  Mode  OriginCountry  OriginState  OtherAccessorial  ShipDate  StopCharges  TotalAccessorial  TotalCharges  Weight  Per Mile Charge  Market Rates- DS, DAT  Transportation Factor\n",
       "source-test    destination-test                                                                                                                                                                                                                                                                                                      \n",
       "ABERDEEN, MD   WOODSIDE, NY             1      1     1         1            1          1           1          1     1         1        1          1     1              1            1                 1         1            1                 1             1       1                1                      1                      1\n",
       "ADDISON, IL    BETHLEHEM, PA            2      2     2         2            2          2           2          2     2         2        2          2     2              2            2                 2         2            2                 2             2       2                2                      2                      2\n",
       "               BRAMPTON, ON             1      1     1         1            1          1           1          1     1         1        1          1     1              1            1                 1         1            1                 1             1       1                1                      1                      1\n",
       "               COLUMBUS, OH             8      8     8         8            8          8           8          8     8         8        8          8     8              8            8                 8         8            8                 8             8       8                8                      8                      8\n",
       "               CREST HILL, IL          21     21    21        21           21         21          21         21    21        21       21         21    21             21           21                21        21           21                21            21      21               21                     21                     21\n",
       "...                                   ...    ...   ...       ...          ...        ...         ...        ...   ...       ...      ...        ...   ...            ...          ...               ...       ...          ...               ...           ...     ...              ...                    ...                    ...\n",
       "WESTFIELD, MA  BETHLEHEM, PA            2      2     2         2            2          2           2          2     2         2        2          2     2              2            2                 2         2            2                 2             2       2                2                      2                      2\n",
       "               MORRISTOWN, TN           1      1     1         1            1          1           1          1     1         1        1          1     1              1            1                 1         1            1                 1             1       1                1                      1                      1\n",
       "WOODBRIDGE, ON MURFREESBORO, TN         4      4     4         4            4          4           4          4     4         4        4          4     4              4            4                 4         4            4                 4             4       4                4                      4                      4\n",
       "WOODBURN, OR   RIVERSIDE, CA            1      1     1         1            1          1           1          1     1         1        1          1     1              1            1                 1         1            1                 1             1       1                1                      1                      1\n",
       "YORK, PA       BETHLEHEM, PA            1      1     1         1            1          1           1          1     1         1        1          1     1              1            1                 1         1            1                 1             1       1                1                      1                      1\n",
       "\n",
       "[1506 rows x 24 columns]"
      ]
     },
     "execution_count": 16,
     "metadata": {},
     "output_type": "execute_result"
    }
   ],
   "source": [
    "df5_TL=df4_TL.groupby([df4_TL['source-test'],df4_TL[ 'destination-test']]).count()#'source-test', 'destination-test','Mode'\n",
    "df5_TL"
   ]
  },
  {
   "cell_type": "code",
   "execution_count": 17,
   "metadata": {},
   "outputs": [],
   "source": [
    "df5_TL=df4_TL.groupby(by=['source-test', 'destination-test'], as_index=False).count().sort_values(by='BaseRate')"
   ]
  },
  {
   "cell_type": "code",
   "execution_count": 18,
   "metadata": {},
   "outputs": [],
   "source": [
    "df6_frequency=df5_TL[['source-test','destination-test','BaseRate']]"
   ]
  },
  {
   "cell_type": "code",
   "execution_count": 19,
   "metadata": {},
   "outputs": [
    {
     "name": "stderr",
     "output_type": "stream",
     "text": [
      "E:\\anaconda3\\envs\\data\\lib\\site-packages\\pandas\\core\\frame.py:4133: SettingWithCopyWarning: \n",
      "A value is trying to be set on a copy of a slice from a DataFrame\n",
      "\n",
      "See the caveats in the documentation: https://pandas.pydata.org/pandas-docs/stable/user_guide/indexing.html#returning-a-view-versus-a-copy\n",
      "  errors=errors,\n"
     ]
    }
   ],
   "source": [
    "df6_frequency.rename(columns={'BaseRate':'Frequency'}, inplace = True)"
   ]
  },
  {
   "cell_type": "code",
   "execution_count": 20,
   "metadata": {},
   "outputs": [],
   "source": [
    "df_together=pd.merge(df4_TL,df6_frequency,how='left')"
   ]
  },
  {
   "cell_type": "code",
   "execution_count": 21,
   "metadata": {},
   "outputs": [],
   "source": [
    "df4_TL=df_together"
   ]
  },
  {
   "cell_type": "code",
   "execution_count": 22,
   "metadata": {},
   "outputs": [
    {
     "data": {
      "text/plain": [
       "(55483, 27)"
      ]
     },
     "execution_count": 22,
     "metadata": {},
     "output_type": "execute_result"
    }
   ],
   "source": [
    "df4_TL.shape"
   ]
  },
  {
   "cell_type": "markdown",
   "metadata": {},
   "source": [
    "### 3.2 Split the ShipDate into years and months(to analyze by season)"
   ]
  },
  {
   "cell_type": "code",
   "execution_count": 23,
   "metadata": {},
   "outputs": [
    {
     "data": {
      "text/html": [
       "<div>\n",
       "<style scoped>\n",
       "    .dataframe tbody tr th:only-of-type {\n",
       "        vertical-align: middle;\n",
       "    }\n",
       "\n",
       "    .dataframe tbody tr th {\n",
       "        vertical-align: top;\n",
       "    }\n",
       "\n",
       "    .dataframe thead th {\n",
       "        text-align: right;\n",
       "    }\n",
       "</style>\n",
       "<table border=\"1\" class=\"dataframe\">\n",
       "  <thead>\n",
       "    <tr style=\"text-align: right;\">\n",
       "      <th></th>\n",
       "      <th>BaseRate</th>\n",
       "      <th>Cases</th>\n",
       "      <th>Cube</th>\n",
       "      <th>Currency</th>\n",
       "      <th>DestCountry</th>\n",
       "      <th>DestState</th>\n",
       "      <th>DestPostal</th>\n",
       "      <th>Detention</th>\n",
       "      <th>Fuel</th>\n",
       "      <th>Handling</th>\n",
       "      <th>Layover</th>\n",
       "      <th>LoadMiles</th>\n",
       "      <th>Mode</th>\n",
       "      <th>OriginCountry</th>\n",
       "      <th>OriginState</th>\n",
       "      <th>OtherAccessorial</th>\n",
       "      <th>ShipDate</th>\n",
       "      <th>StopCharges</th>\n",
       "      <th>TotalAccessorial</th>\n",
       "      <th>TotalCharges</th>\n",
       "      <th>Weight</th>\n",
       "      <th>source-test</th>\n",
       "      <th>destination-test</th>\n",
       "      <th>Per Mile Charge</th>\n",
       "      <th>Market Rates- DS, DAT</th>\n",
       "      <th>Transportation Factor</th>\n",
       "      <th>Frequency</th>\n",
       "      <th>year</th>\n",
       "      <th>month</th>\n",
       "    </tr>\n",
       "  </thead>\n",
       "  <tbody>\n",
       "    <tr>\n",
       "      <th>55478</th>\n",
       "      <td>2388.19</td>\n",
       "      <td>1556</td>\n",
       "      <td>2609</td>\n",
       "      <td>USD</td>\n",
       "      <td>US</td>\n",
       "      <td>CA</td>\n",
       "      <td>925</td>\n",
       "      <td>0.0</td>\n",
       "      <td>679.21</td>\n",
       "      <td>0.0</td>\n",
       "      <td>0.0</td>\n",
       "      <td>2191</td>\n",
       "      <td>TL</td>\n",
       "      <td>US</td>\n",
       "      <td>TN</td>\n",
       "      <td>0.0</td>\n",
       "      <td>2019-11-02</td>\n",
       "      <td>0.0</td>\n",
       "      <td>679.21</td>\n",
       "      <td>3067.40</td>\n",
       "      <td>22922</td>\n",
       "      <td>MORRISTOWN, TN</td>\n",
       "      <td>RIVERSIDE, CA</td>\n",
       "      <td>1.40</td>\n",
       "      <td>2629.10</td>\n",
       "      <td>1.17</td>\n",
       "      <td>560</td>\n",
       "      <td>2019</td>\n",
       "      <td>11</td>\n",
       "    </tr>\n",
       "    <tr>\n",
       "      <th>55479</th>\n",
       "      <td>2388.19</td>\n",
       "      <td>1526</td>\n",
       "      <td>2556</td>\n",
       "      <td>USD</td>\n",
       "      <td>US</td>\n",
       "      <td>CA</td>\n",
       "      <td>925</td>\n",
       "      <td>0.0</td>\n",
       "      <td>679.21</td>\n",
       "      <td>0.0</td>\n",
       "      <td>0.0</td>\n",
       "      <td>2191</td>\n",
       "      <td>TL</td>\n",
       "      <td>US</td>\n",
       "      <td>TN</td>\n",
       "      <td>0.0</td>\n",
       "      <td>2019-11-07</td>\n",
       "      <td>0.0</td>\n",
       "      <td>679.21</td>\n",
       "      <td>3067.40</td>\n",
       "      <td>29048</td>\n",
       "      <td>MORRISTOWN, TN</td>\n",
       "      <td>RIVERSIDE, CA</td>\n",
       "      <td>1.40</td>\n",
       "      <td>2629.10</td>\n",
       "      <td>1.17</td>\n",
       "      <td>560</td>\n",
       "      <td>2019</td>\n",
       "      <td>11</td>\n",
       "    </tr>\n",
       "    <tr>\n",
       "      <th>55480</th>\n",
       "      <td>2780.00</td>\n",
       "      <td>1144</td>\n",
       "      <td>1942</td>\n",
       "      <td>USD</td>\n",
       "      <td>US</td>\n",
       "      <td>CA</td>\n",
       "      <td>906</td>\n",
       "      <td>0.0</td>\n",
       "      <td>664.20</td>\n",
       "      <td>0.0</td>\n",
       "      <td>0.0</td>\n",
       "      <td>2214</td>\n",
       "      <td>TL</td>\n",
       "      <td>US</td>\n",
       "      <td>TN</td>\n",
       "      <td>0.0</td>\n",
       "      <td>2019-10-28</td>\n",
       "      <td>0.0</td>\n",
       "      <td>664.20</td>\n",
       "      <td>3444.20</td>\n",
       "      <td>23738</td>\n",
       "      <td>MORRISTOWN, TN</td>\n",
       "      <td>SANTA FE SPRINGS, CA</td>\n",
       "      <td>1.56</td>\n",
       "      <td>2823.81</td>\n",
       "      <td>1.22</td>\n",
       "      <td>49</td>\n",
       "      <td>2019</td>\n",
       "      <td>10</td>\n",
       "    </tr>\n",
       "    <tr>\n",
       "      <th>55481</th>\n",
       "      <td>2780.00</td>\n",
       "      <td>716</td>\n",
       "      <td>1169</td>\n",
       "      <td>USD</td>\n",
       "      <td>US</td>\n",
       "      <td>CA</td>\n",
       "      <td>906</td>\n",
       "      <td>0.0</td>\n",
       "      <td>686.34</td>\n",
       "      <td>0.0</td>\n",
       "      <td>0.0</td>\n",
       "      <td>2214</td>\n",
       "      <td>TL</td>\n",
       "      <td>US</td>\n",
       "      <td>TN</td>\n",
       "      <td>0.0</td>\n",
       "      <td>2019-11-01</td>\n",
       "      <td>0.0</td>\n",
       "      <td>686.34</td>\n",
       "      <td>3466.34</td>\n",
       "      <td>36372</td>\n",
       "      <td>MORRISTOWN, TN</td>\n",
       "      <td>SANTA FE SPRINGS, CA</td>\n",
       "      <td>1.57</td>\n",
       "      <td>2823.81</td>\n",
       "      <td>1.23</td>\n",
       "      <td>49</td>\n",
       "      <td>2019</td>\n",
       "      <td>11</td>\n",
       "    </tr>\n",
       "    <tr>\n",
       "      <th>55482</th>\n",
       "      <td>2780.00</td>\n",
       "      <td>754</td>\n",
       "      <td>1122</td>\n",
       "      <td>USD</td>\n",
       "      <td>US</td>\n",
       "      <td>CA</td>\n",
       "      <td>906</td>\n",
       "      <td>0.0</td>\n",
       "      <td>686.34</td>\n",
       "      <td>0.0</td>\n",
       "      <td>0.0</td>\n",
       "      <td>2214</td>\n",
       "      <td>TL</td>\n",
       "      <td>US</td>\n",
       "      <td>TN</td>\n",
       "      <td>0.0</td>\n",
       "      <td>2019-11-08</td>\n",
       "      <td>0.0</td>\n",
       "      <td>686.34</td>\n",
       "      <td>3466.34</td>\n",
       "      <td>38448</td>\n",
       "      <td>MORRISTOWN, TN</td>\n",
       "      <td>SANTA FE SPRINGS, CA</td>\n",
       "      <td>1.57</td>\n",
       "      <td>2823.81</td>\n",
       "      <td>1.23</td>\n",
       "      <td>49</td>\n",
       "      <td>2019</td>\n",
       "      <td>11</td>\n",
       "    </tr>\n",
       "  </tbody>\n",
       "</table>\n",
       "</div>"
      ],
      "text/plain": [
       "       BaseRate  Cases  Cube Currency DestCountry DestState DestPostal  Detention    Fuel  Handling  Layover  LoadMiles Mode OriginCountry OriginState  OtherAccessorial   ShipDate  StopCharges  TotalAccessorial  TotalCharges  Weight     source-test      destination-test  Per Mile Charge  Market Rates- DS, DAT  Transportation Factor  Frequency  year  month\n",
       "55478   2388.19   1556  2609      USD          US        CA        925        0.0  679.21       0.0      0.0       2191   TL            US          TN               0.0 2019-11-02          0.0            679.21       3067.40   22922  MORRISTOWN, TN         RIVERSIDE, CA             1.40                2629.10                   1.17        560  2019     11\n",
       "55479   2388.19   1526  2556      USD          US        CA        925        0.0  679.21       0.0      0.0       2191   TL            US          TN               0.0 2019-11-07          0.0            679.21       3067.40   29048  MORRISTOWN, TN         RIVERSIDE, CA             1.40                2629.10                   1.17        560  2019     11\n",
       "55480   2780.00   1144  1942      USD          US        CA        906        0.0  664.20       0.0      0.0       2214   TL            US          TN               0.0 2019-10-28          0.0            664.20       3444.20   23738  MORRISTOWN, TN  SANTA FE SPRINGS, CA             1.56                2823.81                   1.22         49  2019     10\n",
       "55481   2780.00    716  1169      USD          US        CA        906        0.0  686.34       0.0      0.0       2214   TL            US          TN               0.0 2019-11-01          0.0            686.34       3466.34   36372  MORRISTOWN, TN  SANTA FE SPRINGS, CA             1.57                2823.81                   1.23         49  2019     11\n",
       "55482   2780.00    754  1122      USD          US        CA        906        0.0  686.34       0.0      0.0       2214   TL            US          TN               0.0 2019-11-08          0.0            686.34       3466.34   38448  MORRISTOWN, TN  SANTA FE SPRINGS, CA             1.57                2823.81                   1.23         49  2019     11"
      ]
     },
     "execution_count": 23,
     "metadata": {},
     "output_type": "execute_result"
    }
   ],
   "source": [
    "df4_TL['year'] = df4_TL['ShipDate'].dt.year\n",
    "df4_TL['month'] = df4_TL['ShipDate'].dt.month\n",
    "df4_TL.tail()"
   ]
  },
  {
   "cell_type": "code",
   "execution_count": 24,
   "metadata": {},
   "outputs": [
    {
     "data": {
      "text/plain": [
       "2019    50555\n",
       "2018     4927\n",
       "2017        1\n",
       "Name: year, dtype: int64"
      ]
     },
     "execution_count": 24,
     "metadata": {},
     "output_type": "execute_result"
    }
   ],
   "source": [
    "df4_TL['year'].value_counts()"
   ]
  },
  {
   "cell_type": "code",
   "execution_count": 25,
   "metadata": {},
   "outputs": [
    {
     "data": {
      "text/plain": [
       "US    55307\n",
       "CA      176\n",
       "Name: DestCountry, dtype: int64"
      ]
     },
     "execution_count": 25,
     "metadata": {},
     "output_type": "execute_result"
    }
   ],
   "source": [
    "df4_TL['DestCountry'].value_counts()"
   ]
  },
  {
   "cell_type": "markdown",
   "metadata": {},
   "source": [
    "### 3.3 Add new column named Fuel_Fee"
   ]
  },
  {
   "cell_type": "code",
   "execution_count": 26,
   "metadata": {},
   "outputs": [],
   "source": [
    "df4_TL['Fuel_Fee']=df4_TL['LoadMiles']*df4_TL['Per Mile Charge']"
   ]
  },
  {
   "cell_type": "markdown",
   "metadata": {},
   "source": [
    "### 3.4 Add demographic data to the dataset-name df4\n",
    "3.4.1 Getting Census Data (select 2019)"
   ]
  },
  {
   "cell_type": "code",
   "execution_count": 27,
   "metadata": {},
   "outputs": [
    {
     "data": {
      "text/html": [
       "<div>\n",
       "<style scoped>\n",
       "    .dataframe tbody tr th:only-of-type {\n",
       "        vertical-align: middle;\n",
       "    }\n",
       "\n",
       "    .dataframe tbody tr th {\n",
       "        vertical-align: top;\n",
       "    }\n",
       "\n",
       "    .dataframe thead th {\n",
       "        text-align: right;\n",
       "    }\n",
       "</style>\n",
       "<table border=\"1\" class=\"dataframe\">\n",
       "  <thead>\n",
       "    <tr style=\"text-align: right;\">\n",
       "      <th></th>\n",
       "      <th>Area_name</th>\n",
       "      <th>Total_pop</th>\n",
       "    </tr>\n",
       "  </thead>\n",
       "  <tbody>\n",
       "    <tr>\n",
       "      <th>0</th>\n",
       "      <td>Morgan County, Alabama</td>\n",
       "      <td>119089</td>\n",
       "    </tr>\n",
       "    <tr>\n",
       "      <th>1</th>\n",
       "      <td>Kings County, California</td>\n",
       "      <td>151366</td>\n",
       "    </tr>\n",
       "    <tr>\n",
       "      <th>2</th>\n",
       "      <td>Monterey County, California</td>\n",
       "      <td>435594</td>\n",
       "    </tr>\n",
       "    <tr>\n",
       "      <th>3</th>\n",
       "      <td>Nevada County, California</td>\n",
       "      <td>99696</td>\n",
       "    </tr>\n",
       "    <tr>\n",
       "      <th>4</th>\n",
       "      <td>Shasta County, California</td>\n",
       "      <td>180040</td>\n",
       "    </tr>\n",
       "  </tbody>\n",
       "</table>\n",
       "</div>"
      ],
      "text/plain": [
       "                     Area_name  Total_pop\n",
       "0       Morgan County, Alabama     119089\n",
       "1     Kings County, California     151366\n",
       "2  Monterey County, California     435594\n",
       "3    Nevada County, California      99696\n",
       "4    Shasta County, California     180040"
      ]
     },
     "execution_count": 27,
     "metadata": {},
     "output_type": "execute_result"
    }
   ],
   "source": [
    "df2=pd.read_csv('Y2018.DP05_data_with_overlays.csv')\n",
    "df2.head()"
   ]
  },
  {
   "cell_type": "code",
   "execution_count": 28,
   "metadata": {},
   "outputs": [],
   "source": [
    "df3=df4_TL[df4_TL.DestCountry=='US']"
   ]
  },
  {
   "cell_type": "markdown",
   "metadata": {},
   "source": [
    "3.4.2 Matching the population data into the table"
   ]
  },
  {
   "cell_type": "code",
   "execution_count": 29,
   "metadata": {},
   "outputs": [
    {
     "name": "stderr",
     "output_type": "stream",
     "text": [
      "E:\\anaconda3\\envs\\data\\lib\\site-packages\\ipykernel_launcher.py:1: SettingWithCopyWarning: \n",
      "A value is trying to be set on a copy of a slice from a DataFrame.\n",
      "Try using .loc[row_indexer,col_indexer] = value instead\n",
      "\n",
      "See the caveats in the documentation: https://pandas.pydata.org/pandas-docs/stable/user_guide/indexing.html#returning-a-view-versus-a-copy\n",
      "  \"\"\"Entry point for launching an IPython kernel.\n"
     ]
    }
   ],
   "source": [
    "df3['destination-test'] = df3['destination-test'].str.lower()"
   ]
  },
  {
   "cell_type": "code",
   "execution_count": 30,
   "metadata": {},
   "outputs": [],
   "source": [
    "#df2['Area_name'] = df2['Area_name'].astype('str') "
   ]
  },
  {
   "cell_type": "code",
   "execution_count": 31,
   "metadata": {},
   "outputs": [],
   "source": [
    "df2['Area_name']=df2['Area_name'].str.lower()"
   ]
  },
  {
   "cell_type": "code",
   "execution_count": 32,
   "metadata": {},
   "outputs": [],
   "source": [
    "df2['name_new'] = df2['Area_name'].map(lambda x:x.split(' ')[0])"
   ]
  },
  {
   "cell_type": "code",
   "execution_count": 33,
   "metadata": {},
   "outputs": [
    {
     "name": "stderr",
     "output_type": "stream",
     "text": [
      "E:\\anaconda3\\envs\\data\\lib\\site-packages\\ipykernel_launcher.py:1: SettingWithCopyWarning: \n",
      "A value is trying to be set on a copy of a slice from a DataFrame.\n",
      "Try using .loc[row_indexer,col_indexer] = value instead\n",
      "\n",
      "See the caveats in the documentation: https://pandas.pydata.org/pandas-docs/stable/user_guide/indexing.html#returning-a-view-versus-a-copy\n",
      "  \"\"\"Entry point for launching an IPython kernel.\n"
     ]
    }
   ],
   "source": [
    "df3['name_new'] = df3['destination-test'].map(lambda x:x.split(',')[0])"
   ]
  },
  {
   "cell_type": "code",
   "execution_count": 34,
   "metadata": {},
   "outputs": [],
   "source": [
    "df4= pd.merge(df3, df2, how='left', on='name_new')"
   ]
  },
  {
   "cell_type": "code",
   "execution_count": 35,
   "metadata": {},
   "outputs": [
    {
     "data": {
      "text/plain": [
       "(59639, 33)"
      ]
     },
     "execution_count": 35,
     "metadata": {},
     "output_type": "execute_result"
    }
   ],
   "source": [
    "df4.shape"
   ]
  },
  {
   "cell_type": "code",
   "execution_count": 36,
   "metadata": {},
   "outputs": [
    {
     "data": {
      "text/html": [
       "<div>\n",
       "<style scoped>\n",
       "    .dataframe tbody tr th:only-of-type {\n",
       "        vertical-align: middle;\n",
       "    }\n",
       "\n",
       "    .dataframe tbody tr th {\n",
       "        vertical-align: top;\n",
       "    }\n",
       "\n",
       "    .dataframe thead th {\n",
       "        text-align: right;\n",
       "    }\n",
       "</style>\n",
       "<table border=\"1\" class=\"dataframe\">\n",
       "  <thead>\n",
       "    <tr style=\"text-align: right;\">\n",
       "      <th></th>\n",
       "      <th>BaseRate</th>\n",
       "      <th>Cases</th>\n",
       "      <th>Cube</th>\n",
       "      <th>Currency</th>\n",
       "      <th>DestCountry</th>\n",
       "      <th>DestState</th>\n",
       "      <th>DestPostal</th>\n",
       "      <th>Detention</th>\n",
       "      <th>Fuel</th>\n",
       "      <th>Handling</th>\n",
       "      <th>Layover</th>\n",
       "      <th>LoadMiles</th>\n",
       "      <th>Mode</th>\n",
       "      <th>OriginCountry</th>\n",
       "      <th>OriginState</th>\n",
       "      <th>OtherAccessorial</th>\n",
       "      <th>ShipDate</th>\n",
       "      <th>StopCharges</th>\n",
       "      <th>TotalAccessorial</th>\n",
       "      <th>TotalCharges</th>\n",
       "      <th>Weight</th>\n",
       "      <th>source-test</th>\n",
       "      <th>destination-test</th>\n",
       "      <th>Per Mile Charge</th>\n",
       "      <th>Market Rates- DS, DAT</th>\n",
       "      <th>Transportation Factor</th>\n",
       "      <th>Frequency</th>\n",
       "      <th>year</th>\n",
       "      <th>month</th>\n",
       "      <th>Fuel_Fee</th>\n",
       "      <th>name_new</th>\n",
       "      <th>Area_name</th>\n",
       "      <th>Total_pop</th>\n",
       "    </tr>\n",
       "  </thead>\n",
       "  <tbody>\n",
       "    <tr>\n",
       "      <th>0</th>\n",
       "      <td>1469.16</td>\n",
       "      <td>1280</td>\n",
       "      <td>894</td>\n",
       "      <td>USD</td>\n",
       "      <td>US</td>\n",
       "      <td>TX</td>\n",
       "      <td>773</td>\n",
       "      <td>0.0</td>\n",
       "      <td>227.37</td>\n",
       "      <td>0.0</td>\n",
       "      <td>0.0</td>\n",
       "      <td>583</td>\n",
       "      <td>TL</td>\n",
       "      <td>US</td>\n",
       "      <td>TN</td>\n",
       "      <td>0.0</td>\n",
       "      <td>2018-12-11</td>\n",
       "      <td>0.0</td>\n",
       "      <td>227.37</td>\n",
       "      <td>1696.53</td>\n",
       "      <td>40704</td>\n",
       "      <td>ARLINGTON, TN</td>\n",
       "      <td>humble, tx</td>\n",
       "      <td>2.91</td>\n",
       "      <td>1577.9700</td>\n",
       "      <td>1.08</td>\n",
       "      <td>6</td>\n",
       "      <td>2018</td>\n",
       "      <td>12</td>\n",
       "      <td>1696.53</td>\n",
       "      <td>humble</td>\n",
       "      <td>NaN</td>\n",
       "      <td>NaN</td>\n",
       "    </tr>\n",
       "    <tr>\n",
       "      <th>1</th>\n",
       "      <td>700.00</td>\n",
       "      <td>3124</td>\n",
       "      <td>1987</td>\n",
       "      <td>USD</td>\n",
       "      <td>US</td>\n",
       "      <td>TN</td>\n",
       "      <td>370</td>\n",
       "      <td>0.0</td>\n",
       "      <td>88.97</td>\n",
       "      <td>0.0</td>\n",
       "      <td>0.0</td>\n",
       "      <td>217</td>\n",
       "      <td>TL</td>\n",
       "      <td>US</td>\n",
       "      <td>TN</td>\n",
       "      <td>0.0</td>\n",
       "      <td>2018-11-28</td>\n",
       "      <td>0.0</td>\n",
       "      <td>88.97</td>\n",
       "      <td>788.97</td>\n",
       "      <td>39634</td>\n",
       "      <td>ARLINGTON, TN</td>\n",
       "      <td>lebanon, tn</td>\n",
       "      <td>3.64</td>\n",
       "      <td>4.3794</td>\n",
       "      <td>0.83</td>\n",
       "      <td>506</td>\n",
       "      <td>2018</td>\n",
       "      <td>11</td>\n",
       "      <td>789.88</td>\n",
       "      <td>lebanon</td>\n",
       "      <td>lebanon county, pennsylvania</td>\n",
       "      <td>141314.0</td>\n",
       "    </tr>\n",
       "    <tr>\n",
       "      <th>2</th>\n",
       "      <td>700.00</td>\n",
       "      <td>2393</td>\n",
       "      <td>1943</td>\n",
       "      <td>USD</td>\n",
       "      <td>US</td>\n",
       "      <td>TN</td>\n",
       "      <td>370</td>\n",
       "      <td>0.0</td>\n",
       "      <td>88.97</td>\n",
       "      <td>0.0</td>\n",
       "      <td>0.0</td>\n",
       "      <td>217</td>\n",
       "      <td>TL</td>\n",
       "      <td>US</td>\n",
       "      <td>TN</td>\n",
       "      <td>0.0</td>\n",
       "      <td>2018-11-28</td>\n",
       "      <td>0.0</td>\n",
       "      <td>88.97</td>\n",
       "      <td>788.97</td>\n",
       "      <td>39939</td>\n",
       "      <td>ARLINGTON, TN</td>\n",
       "      <td>lebanon, tn</td>\n",
       "      <td>3.64</td>\n",
       "      <td>4.3794</td>\n",
       "      <td>0.83</td>\n",
       "      <td>506</td>\n",
       "      <td>2018</td>\n",
       "      <td>11</td>\n",
       "      <td>789.88</td>\n",
       "      <td>lebanon</td>\n",
       "      <td>lebanon county, pennsylvania</td>\n",
       "      <td>141314.0</td>\n",
       "    </tr>\n",
       "  </tbody>\n",
       "</table>\n",
       "</div>"
      ],
      "text/plain": [
       "   BaseRate  Cases  Cube Currency DestCountry DestState DestPostal  Detention    Fuel  Handling  Layover  LoadMiles Mode OriginCountry OriginState  OtherAccessorial   ShipDate  StopCharges  TotalAccessorial  TotalCharges  Weight    source-test destination-test  Per Mile Charge  Market Rates- DS, DAT  Transportation Factor  Frequency  year  month  Fuel_Fee name_new                     Area_name  Total_pop\n",
       "0   1469.16   1280   894      USD          US        TX        773        0.0  227.37       0.0      0.0        583   TL            US          TN               0.0 2018-12-11          0.0            227.37       1696.53   40704  ARLINGTON, TN       humble, tx             2.91              1577.9700                   1.08          6  2018     12   1696.53   humble                           NaN        NaN\n",
       "1    700.00   3124  1987      USD          US        TN        370        0.0   88.97       0.0      0.0        217   TL            US          TN               0.0 2018-11-28          0.0             88.97        788.97   39634  ARLINGTON, TN      lebanon, tn             3.64                 4.3794                   0.83        506  2018     11    789.88  lebanon  lebanon county, pennsylvania   141314.0\n",
       "2    700.00   2393  1943      USD          US        TN        370        0.0   88.97       0.0      0.0        217   TL            US          TN               0.0 2018-11-28          0.0             88.97        788.97   39939  ARLINGTON, TN      lebanon, tn             3.64                 4.3794                   0.83        506  2018     11    789.88  lebanon  lebanon county, pennsylvania   141314.0"
      ]
     },
     "execution_count": 36,
     "metadata": {},
     "output_type": "execute_result"
    }
   ],
   "source": [
    "df4.head(3)"
   ]
  },
  {
   "cell_type": "code",
   "execution_count": 37,
   "metadata": {},
   "outputs": [
    {
     "data": {
      "text/plain": [
       "43049"
      ]
     },
     "execution_count": 37,
     "metadata": {},
     "output_type": "execute_result"
    }
   ],
   "source": [
    "df4['Total_pop'].isnull().sum().sum()"
   ]
  },
  {
   "cell_type": "code",
   "execution_count": 38,
   "metadata": {},
   "outputs": [],
   "source": [
    "df4['Total_pop']=df4['Total_pop']/1000"
   ]
  },
  {
   "cell_type": "markdown",
   "metadata": {},
   "source": [
    "### 3.5 Add employment data to the dataset-name df4"
   ]
  },
  {
   "cell_type": "markdown",
   "metadata": {},
   "source": [
    "3.5.1 read in data"
   ]
  },
  {
   "cell_type": "code",
   "execution_count": 39,
   "metadata": {},
   "outputs": [
    {
     "data": {
      "text/html": [
       "<div>\n",
       "<style scoped>\n",
       "    .dataframe tbody tr th:only-of-type {\n",
       "        vertical-align: middle;\n",
       "    }\n",
       "\n",
       "    .dataframe tbody tr th {\n",
       "        vertical-align: top;\n",
       "    }\n",
       "\n",
       "    .dataframe thead th {\n",
       "        text-align: right;\n",
       "    }\n",
       "</style>\n",
       "<table border=\"1\" class=\"dataframe\">\n",
       "  <thead>\n",
       "    <tr style=\"text-align: right;\">\n",
       "      <th></th>\n",
       "      <th>Area_name</th>\n",
       "      <th>Pop_emp</th>\n",
       "    </tr>\n",
       "  </thead>\n",
       "  <tbody>\n",
       "    <tr>\n",
       "      <th>0</th>\n",
       "      <td>Shelby County, Alabama</td>\n",
       "      <td>173097</td>\n",
       "    </tr>\n",
       "    <tr>\n",
       "      <th>1</th>\n",
       "      <td>Talladega County, Alabama</td>\n",
       "      <td>65419</td>\n",
       "    </tr>\n",
       "    <tr>\n",
       "      <th>2</th>\n",
       "      <td>Tuscaloosa County, Alabama</td>\n",
       "      <td>170265</td>\n",
       "    </tr>\n",
       "    <tr>\n",
       "      <th>3</th>\n",
       "      <td>Pinal County, Arizona</td>\n",
       "      <td>356563</td>\n",
       "    </tr>\n",
       "    <tr>\n",
       "      <th>4</th>\n",
       "      <td>Mendocino County, California</td>\n",
       "      <td>71461</td>\n",
       "    </tr>\n",
       "  </tbody>\n",
       "</table>\n",
       "</div>"
      ],
      "text/plain": [
       "                      Area_name Pop_emp\n",
       "0        Shelby County, Alabama  173097\n",
       "1     Talladega County, Alabama   65419\n",
       "2    Tuscaloosa County, Alabama  170265\n",
       "3         Pinal County, Arizona  356563\n",
       "4  Mendocino County, California   71461"
      ]
     },
     "execution_count": 39,
     "metadata": {},
     "output_type": "execute_result"
    }
   ],
   "source": [
    "df2=pd.read_csv('Y2018.S2301_data_with_overlays.csv')\n",
    "df2.head()"
   ]
  },
  {
   "cell_type": "code",
   "execution_count": 40,
   "metadata": {},
   "outputs": [],
   "source": [
    "df2['Area_name']=df2['Area_name'].str.lower()"
   ]
  },
  {
   "cell_type": "code",
   "execution_count": 41,
   "metadata": {},
   "outputs": [],
   "source": [
    "df2['name_new'] = df2['Area_name'].map(lambda x:x.split(' ')[0])"
   ]
  },
  {
   "cell_type": "code",
   "execution_count": 42,
   "metadata": {},
   "outputs": [],
   "source": [
    "df4= pd.merge(df4, df2, how='left', on='name_new')"
   ]
  },
  {
   "cell_type": "code",
   "execution_count": 43,
   "metadata": {},
   "outputs": [
    {
     "data": {
      "text/html": [
       "<div>\n",
       "<style scoped>\n",
       "    .dataframe tbody tr th:only-of-type {\n",
       "        vertical-align: middle;\n",
       "    }\n",
       "\n",
       "    .dataframe tbody tr th {\n",
       "        vertical-align: top;\n",
       "    }\n",
       "\n",
       "    .dataframe thead th {\n",
       "        text-align: right;\n",
       "    }\n",
       "</style>\n",
       "<table border=\"1\" class=\"dataframe\">\n",
       "  <thead>\n",
       "    <tr style=\"text-align: right;\">\n",
       "      <th></th>\n",
       "      <th>BaseRate</th>\n",
       "      <th>Cases</th>\n",
       "      <th>Cube</th>\n",
       "      <th>Currency</th>\n",
       "      <th>DestCountry</th>\n",
       "      <th>DestState</th>\n",
       "      <th>DestPostal</th>\n",
       "      <th>Detention</th>\n",
       "      <th>Fuel</th>\n",
       "      <th>Handling</th>\n",
       "      <th>Layover</th>\n",
       "      <th>LoadMiles</th>\n",
       "      <th>Mode</th>\n",
       "      <th>OriginCountry</th>\n",
       "      <th>OriginState</th>\n",
       "      <th>OtherAccessorial</th>\n",
       "      <th>ShipDate</th>\n",
       "      <th>StopCharges</th>\n",
       "      <th>TotalAccessorial</th>\n",
       "      <th>TotalCharges</th>\n",
       "      <th>Weight</th>\n",
       "      <th>source-test</th>\n",
       "      <th>destination-test</th>\n",
       "      <th>Per Mile Charge</th>\n",
       "      <th>Market Rates- DS, DAT</th>\n",
       "      <th>Transportation Factor</th>\n",
       "      <th>Frequency</th>\n",
       "      <th>year</th>\n",
       "      <th>month</th>\n",
       "      <th>Fuel_Fee</th>\n",
       "      <th>name_new</th>\n",
       "      <th>Area_name_x</th>\n",
       "      <th>Total_pop</th>\n",
       "      <th>Area_name_y</th>\n",
       "      <th>Pop_emp</th>\n",
       "    </tr>\n",
       "  </thead>\n",
       "  <tbody>\n",
       "    <tr>\n",
       "      <th>0</th>\n",
       "      <td>1469.16</td>\n",
       "      <td>1280</td>\n",
       "      <td>894</td>\n",
       "      <td>USD</td>\n",
       "      <td>US</td>\n",
       "      <td>TX</td>\n",
       "      <td>773</td>\n",
       "      <td>0.0</td>\n",
       "      <td>227.37</td>\n",
       "      <td>0.0</td>\n",
       "      <td>0.0</td>\n",
       "      <td>583</td>\n",
       "      <td>TL</td>\n",
       "      <td>US</td>\n",
       "      <td>TN</td>\n",
       "      <td>0.0</td>\n",
       "      <td>2018-12-11</td>\n",
       "      <td>0.0</td>\n",
       "      <td>227.37</td>\n",
       "      <td>1696.53</td>\n",
       "      <td>40704</td>\n",
       "      <td>ARLINGTON, TN</td>\n",
       "      <td>humble, tx</td>\n",
       "      <td>2.91</td>\n",
       "      <td>1577.9700</td>\n",
       "      <td>1.08</td>\n",
       "      <td>6</td>\n",
       "      <td>2018</td>\n",
       "      <td>12</td>\n",
       "      <td>1696.53</td>\n",
       "      <td>humble</td>\n",
       "      <td>NaN</td>\n",
       "      <td>NaN</td>\n",
       "      <td>NaN</td>\n",
       "      <td>NaN</td>\n",
       "    </tr>\n",
       "    <tr>\n",
       "      <th>1</th>\n",
       "      <td>700.00</td>\n",
       "      <td>3124</td>\n",
       "      <td>1987</td>\n",
       "      <td>USD</td>\n",
       "      <td>US</td>\n",
       "      <td>TN</td>\n",
       "      <td>370</td>\n",
       "      <td>0.0</td>\n",
       "      <td>88.97</td>\n",
       "      <td>0.0</td>\n",
       "      <td>0.0</td>\n",
       "      <td>217</td>\n",
       "      <td>TL</td>\n",
       "      <td>US</td>\n",
       "      <td>TN</td>\n",
       "      <td>0.0</td>\n",
       "      <td>2018-11-28</td>\n",
       "      <td>0.0</td>\n",
       "      <td>88.97</td>\n",
       "      <td>788.97</td>\n",
       "      <td>39634</td>\n",
       "      <td>ARLINGTON, TN</td>\n",
       "      <td>lebanon, tn</td>\n",
       "      <td>3.64</td>\n",
       "      <td>4.3794</td>\n",
       "      <td>0.83</td>\n",
       "      <td>506</td>\n",
       "      <td>2018</td>\n",
       "      <td>11</td>\n",
       "      <td>789.88</td>\n",
       "      <td>lebanon</td>\n",
       "      <td>lebanon county, pennsylvania</td>\n",
       "      <td>141.314</td>\n",
       "      <td>lebanon county, pennsylvania</td>\n",
       "      <td>113314</td>\n",
       "    </tr>\n",
       "    <tr>\n",
       "      <th>2</th>\n",
       "      <td>700.00</td>\n",
       "      <td>2393</td>\n",
       "      <td>1943</td>\n",
       "      <td>USD</td>\n",
       "      <td>US</td>\n",
       "      <td>TN</td>\n",
       "      <td>370</td>\n",
       "      <td>0.0</td>\n",
       "      <td>88.97</td>\n",
       "      <td>0.0</td>\n",
       "      <td>0.0</td>\n",
       "      <td>217</td>\n",
       "      <td>TL</td>\n",
       "      <td>US</td>\n",
       "      <td>TN</td>\n",
       "      <td>0.0</td>\n",
       "      <td>2018-11-28</td>\n",
       "      <td>0.0</td>\n",
       "      <td>88.97</td>\n",
       "      <td>788.97</td>\n",
       "      <td>39939</td>\n",
       "      <td>ARLINGTON, TN</td>\n",
       "      <td>lebanon, tn</td>\n",
       "      <td>3.64</td>\n",
       "      <td>4.3794</td>\n",
       "      <td>0.83</td>\n",
       "      <td>506</td>\n",
       "      <td>2018</td>\n",
       "      <td>11</td>\n",
       "      <td>789.88</td>\n",
       "      <td>lebanon</td>\n",
       "      <td>lebanon county, pennsylvania</td>\n",
       "      <td>141.314</td>\n",
       "      <td>lebanon county, pennsylvania</td>\n",
       "      <td>113314</td>\n",
       "    </tr>\n",
       "  </tbody>\n",
       "</table>\n",
       "</div>"
      ],
      "text/plain": [
       "   BaseRate  Cases  Cube Currency DestCountry DestState DestPostal  Detention    Fuel  Handling  Layover  LoadMiles Mode OriginCountry OriginState  OtherAccessorial   ShipDate  StopCharges  TotalAccessorial  TotalCharges  Weight    source-test destination-test  Per Mile Charge  Market Rates- DS, DAT  Transportation Factor  Frequency  year  month  Fuel_Fee name_new                   Area_name_x  Total_pop                   Area_name_y Pop_emp\n",
       "0   1469.16   1280   894      USD          US        TX        773        0.0  227.37       0.0      0.0        583   TL            US          TN               0.0 2018-12-11          0.0            227.37       1696.53   40704  ARLINGTON, TN       humble, tx             2.91              1577.9700                   1.08          6  2018     12   1696.53   humble                           NaN        NaN                           NaN     NaN\n",
       "1    700.00   3124  1987      USD          US        TN        370        0.0   88.97       0.0      0.0        217   TL            US          TN               0.0 2018-11-28          0.0             88.97        788.97   39634  ARLINGTON, TN      lebanon, tn             3.64                 4.3794                   0.83        506  2018     11    789.88  lebanon  lebanon county, pennsylvania    141.314  lebanon county, pennsylvania  113314\n",
       "2    700.00   2393  1943      USD          US        TN        370        0.0   88.97       0.0      0.0        217   TL            US          TN               0.0 2018-11-28          0.0             88.97        788.97   39939  ARLINGTON, TN      lebanon, tn             3.64                 4.3794                   0.83        506  2018     11    789.88  lebanon  lebanon county, pennsylvania    141.314  lebanon county, pennsylvania  113314"
      ]
     },
     "execution_count": 43,
     "metadata": {},
     "output_type": "execute_result"
    }
   ],
   "source": [
    "df4.head(3)"
   ]
  },
  {
   "cell_type": "code",
   "execution_count": 44,
   "metadata": {},
   "outputs": [
    {
     "data": {
      "text/plain": [
       "43049"
      ]
     },
     "execution_count": 44,
     "metadata": {},
     "output_type": "execute_result"
    }
   ],
   "source": [
    "df4['Total_pop'].isnull().sum().sum()"
   ]
  },
  {
   "cell_type": "code",
   "execution_count": 45,
   "metadata": {},
   "outputs": [],
   "source": [
    "df4 = df4.dropna(how='any',axis=0) "
   ]
  },
  {
   "cell_type": "code",
   "execution_count": 46,
   "metadata": {},
   "outputs": [
    {
     "data": {
      "text/plain": [
       "(36818, 35)"
      ]
     },
     "execution_count": 46,
     "metadata": {},
     "output_type": "execute_result"
    }
   ],
   "source": [
    "df4.shape"
   ]
  },
  {
   "cell_type": "code",
   "execution_count": 47,
   "metadata": {
    "scrolled": true
   },
   "outputs": [],
   "source": [
    "df4.drop(columns=['Area_name_x', 'Area_name_y'],inplace=True)"
   ]
  },
  {
   "cell_type": "code",
   "execution_count": 48,
   "metadata": {},
   "outputs": [
    {
     "data": {
      "text/html": [
       "<div>\n",
       "<style scoped>\n",
       "    .dataframe tbody tr th:only-of-type {\n",
       "        vertical-align: middle;\n",
       "    }\n",
       "\n",
       "    .dataframe tbody tr th {\n",
       "        vertical-align: top;\n",
       "    }\n",
       "\n",
       "    .dataframe thead th {\n",
       "        text-align: right;\n",
       "    }\n",
       "</style>\n",
       "<table border=\"1\" class=\"dataframe\">\n",
       "  <thead>\n",
       "    <tr style=\"text-align: right;\">\n",
       "      <th></th>\n",
       "      <th>BaseRate</th>\n",
       "      <th>Cases</th>\n",
       "      <th>Cube</th>\n",
       "      <th>Currency</th>\n",
       "      <th>DestCountry</th>\n",
       "      <th>DestState</th>\n",
       "      <th>DestPostal</th>\n",
       "      <th>Detention</th>\n",
       "      <th>Fuel</th>\n",
       "      <th>Handling</th>\n",
       "      <th>Layover</th>\n",
       "      <th>LoadMiles</th>\n",
       "      <th>Mode</th>\n",
       "      <th>OriginCountry</th>\n",
       "      <th>OriginState</th>\n",
       "      <th>OtherAccessorial</th>\n",
       "      <th>ShipDate</th>\n",
       "      <th>StopCharges</th>\n",
       "      <th>TotalAccessorial</th>\n",
       "      <th>TotalCharges</th>\n",
       "      <th>Weight</th>\n",
       "      <th>source-test</th>\n",
       "      <th>destination-test</th>\n",
       "      <th>Per Mile Charge</th>\n",
       "      <th>Market Rates- DS, DAT</th>\n",
       "      <th>Transportation Factor</th>\n",
       "      <th>Frequency</th>\n",
       "      <th>year</th>\n",
       "      <th>month</th>\n",
       "      <th>Fuel_Fee</th>\n",
       "      <th>name_new</th>\n",
       "      <th>Total_pop</th>\n",
       "      <th>Pop_emp</th>\n",
       "    </tr>\n",
       "  </thead>\n",
       "  <tbody>\n",
       "    <tr>\n",
       "      <th>1</th>\n",
       "      <td>700.0</td>\n",
       "      <td>3124</td>\n",
       "      <td>1987</td>\n",
       "      <td>USD</td>\n",
       "      <td>US</td>\n",
       "      <td>TN</td>\n",
       "      <td>370</td>\n",
       "      <td>0.0</td>\n",
       "      <td>88.97</td>\n",
       "      <td>0.0</td>\n",
       "      <td>0.0</td>\n",
       "      <td>217</td>\n",
       "      <td>TL</td>\n",
       "      <td>US</td>\n",
       "      <td>TN</td>\n",
       "      <td>0.0</td>\n",
       "      <td>2018-11-28</td>\n",
       "      <td>0.0</td>\n",
       "      <td>88.97</td>\n",
       "      <td>788.97</td>\n",
       "      <td>39634</td>\n",
       "      <td>ARLINGTON, TN</td>\n",
       "      <td>lebanon, tn</td>\n",
       "      <td>3.64</td>\n",
       "      <td>4.3794</td>\n",
       "      <td>0.83</td>\n",
       "      <td>506</td>\n",
       "      <td>2018</td>\n",
       "      <td>11</td>\n",
       "      <td>789.88</td>\n",
       "      <td>lebanon</td>\n",
       "      <td>141.314</td>\n",
       "      <td>113314</td>\n",
       "    </tr>\n",
       "    <tr>\n",
       "      <th>2</th>\n",
       "      <td>700.0</td>\n",
       "      <td>2393</td>\n",
       "      <td>1943</td>\n",
       "      <td>USD</td>\n",
       "      <td>US</td>\n",
       "      <td>TN</td>\n",
       "      <td>370</td>\n",
       "      <td>0.0</td>\n",
       "      <td>88.97</td>\n",
       "      <td>0.0</td>\n",
       "      <td>0.0</td>\n",
       "      <td>217</td>\n",
       "      <td>TL</td>\n",
       "      <td>US</td>\n",
       "      <td>TN</td>\n",
       "      <td>0.0</td>\n",
       "      <td>2018-11-28</td>\n",
       "      <td>0.0</td>\n",
       "      <td>88.97</td>\n",
       "      <td>788.97</td>\n",
       "      <td>39939</td>\n",
       "      <td>ARLINGTON, TN</td>\n",
       "      <td>lebanon, tn</td>\n",
       "      <td>3.64</td>\n",
       "      <td>4.3794</td>\n",
       "      <td>0.83</td>\n",
       "      <td>506</td>\n",
       "      <td>2018</td>\n",
       "      <td>11</td>\n",
       "      <td>789.88</td>\n",
       "      <td>lebanon</td>\n",
       "      <td>141.314</td>\n",
       "      <td>113314</td>\n",
       "    </tr>\n",
       "    <tr>\n",
       "      <th>3</th>\n",
       "      <td>700.0</td>\n",
       "      <td>2496</td>\n",
       "      <td>2026</td>\n",
       "      <td>USD</td>\n",
       "      <td>US</td>\n",
       "      <td>TN</td>\n",
       "      <td>370</td>\n",
       "      <td>0.0</td>\n",
       "      <td>88.97</td>\n",
       "      <td>0.0</td>\n",
       "      <td>0.0</td>\n",
       "      <td>217</td>\n",
       "      <td>TL</td>\n",
       "      <td>US</td>\n",
       "      <td>TN</td>\n",
       "      <td>0.0</td>\n",
       "      <td>2018-11-28</td>\n",
       "      <td>0.0</td>\n",
       "      <td>88.97</td>\n",
       "      <td>788.97</td>\n",
       "      <td>41658</td>\n",
       "      <td>ARLINGTON, TN</td>\n",
       "      <td>lebanon, tn</td>\n",
       "      <td>3.64</td>\n",
       "      <td>4.3794</td>\n",
       "      <td>0.83</td>\n",
       "      <td>506</td>\n",
       "      <td>2018</td>\n",
       "      <td>11</td>\n",
       "      <td>789.88</td>\n",
       "      <td>lebanon</td>\n",
       "      <td>141.314</td>\n",
       "      <td>113314</td>\n",
       "    </tr>\n",
       "    <tr>\n",
       "      <th>4</th>\n",
       "      <td>700.0</td>\n",
       "      <td>1960</td>\n",
       "      <td>2203</td>\n",
       "      <td>USD</td>\n",
       "      <td>US</td>\n",
       "      <td>TN</td>\n",
       "      <td>370</td>\n",
       "      <td>0.0</td>\n",
       "      <td>88.97</td>\n",
       "      <td>0.0</td>\n",
       "      <td>0.0</td>\n",
       "      <td>217</td>\n",
       "      <td>TL</td>\n",
       "      <td>US</td>\n",
       "      <td>TN</td>\n",
       "      <td>0.0</td>\n",
       "      <td>2018-11-29</td>\n",
       "      <td>0.0</td>\n",
       "      <td>88.97</td>\n",
       "      <td>788.97</td>\n",
       "      <td>23206</td>\n",
       "      <td>ARLINGTON, TN</td>\n",
       "      <td>lebanon, tn</td>\n",
       "      <td>3.64</td>\n",
       "      <td>4.3794</td>\n",
       "      <td>0.83</td>\n",
       "      <td>506</td>\n",
       "      <td>2018</td>\n",
       "      <td>11</td>\n",
       "      <td>789.88</td>\n",
       "      <td>lebanon</td>\n",
       "      <td>141.314</td>\n",
       "      <td>113314</td>\n",
       "    </tr>\n",
       "    <tr>\n",
       "      <th>5</th>\n",
       "      <td>700.0</td>\n",
       "      <td>1568</td>\n",
       "      <td>2119</td>\n",
       "      <td>USD</td>\n",
       "      <td>US</td>\n",
       "      <td>TN</td>\n",
       "      <td>370</td>\n",
       "      <td>0.0</td>\n",
       "      <td>88.97</td>\n",
       "      <td>0.0</td>\n",
       "      <td>0.0</td>\n",
       "      <td>217</td>\n",
       "      <td>TL</td>\n",
       "      <td>US</td>\n",
       "      <td>TN</td>\n",
       "      <td>0.0</td>\n",
       "      <td>2018-12-03</td>\n",
       "      <td>0.0</td>\n",
       "      <td>88.97</td>\n",
       "      <td>788.97</td>\n",
       "      <td>24100</td>\n",
       "      <td>ARLINGTON, TN</td>\n",
       "      <td>lebanon, tn</td>\n",
       "      <td>3.64</td>\n",
       "      <td>4.3794</td>\n",
       "      <td>0.83</td>\n",
       "      <td>506</td>\n",
       "      <td>2018</td>\n",
       "      <td>12</td>\n",
       "      <td>789.88</td>\n",
       "      <td>lebanon</td>\n",
       "      <td>141.314</td>\n",
       "      <td>113314</td>\n",
       "    </tr>\n",
       "  </tbody>\n",
       "</table>\n",
       "</div>"
      ],
      "text/plain": [
       "   BaseRate  Cases  Cube Currency DestCountry DestState DestPostal  Detention   Fuel  Handling  Layover  LoadMiles Mode OriginCountry OriginState  OtherAccessorial   ShipDate  StopCharges  TotalAccessorial  TotalCharges  Weight    source-test destination-test  Per Mile Charge  Market Rates- DS, DAT  Transportation Factor  Frequency  year  month  Fuel_Fee name_new  Total_pop Pop_emp\n",
       "1     700.0   3124  1987      USD          US        TN        370        0.0  88.97       0.0      0.0        217   TL            US          TN               0.0 2018-11-28          0.0             88.97        788.97   39634  ARLINGTON, TN      lebanon, tn             3.64                 4.3794                   0.83        506  2018     11    789.88  lebanon    141.314  113314\n",
       "2     700.0   2393  1943      USD          US        TN        370        0.0  88.97       0.0      0.0        217   TL            US          TN               0.0 2018-11-28          0.0             88.97        788.97   39939  ARLINGTON, TN      lebanon, tn             3.64                 4.3794                   0.83        506  2018     11    789.88  lebanon    141.314  113314\n",
       "3     700.0   2496  2026      USD          US        TN        370        0.0  88.97       0.0      0.0        217   TL            US          TN               0.0 2018-11-28          0.0             88.97        788.97   41658  ARLINGTON, TN      lebanon, tn             3.64                 4.3794                   0.83        506  2018     11    789.88  lebanon    141.314  113314\n",
       "4     700.0   1960  2203      USD          US        TN        370        0.0  88.97       0.0      0.0        217   TL            US          TN               0.0 2018-11-29          0.0             88.97        788.97   23206  ARLINGTON, TN      lebanon, tn             3.64                 4.3794                   0.83        506  2018     11    789.88  lebanon    141.314  113314\n",
       "5     700.0   1568  2119      USD          US        TN        370        0.0  88.97       0.0      0.0        217   TL            US          TN               0.0 2018-12-03          0.0             88.97        788.97   24100  ARLINGTON, TN      lebanon, tn             3.64                 4.3794                   0.83        506  2018     12    789.88  lebanon    141.314  113314"
      ]
     },
     "execution_count": 48,
     "metadata": {},
     "output_type": "execute_result"
    }
   ],
   "source": [
    "df4.head()"
   ]
  },
  {
   "cell_type": "code",
   "execution_count": 49,
   "metadata": {},
   "outputs": [],
   "source": [
    "df4=df4[df4.Pop_emp!='N']"
   ]
  },
  {
   "cell_type": "code",
   "execution_count": 50,
   "metadata": {},
   "outputs": [],
   "source": [
    "df4['Pop_emp'] = df4.Pop_emp.astype('float64')"
   ]
  },
  {
   "cell_type": "code",
   "execution_count": 51,
   "metadata": {},
   "outputs": [],
   "source": [
    "df4['Pop_emp']=df4['Pop_emp']/1000"
   ]
  },
  {
   "cell_type": "code",
   "execution_count": 52,
   "metadata": {},
   "outputs": [
    {
     "data": {
      "text/html": [
       "<div>\n",
       "<style scoped>\n",
       "    .dataframe tbody tr th:only-of-type {\n",
       "        vertical-align: middle;\n",
       "    }\n",
       "\n",
       "    .dataframe tbody tr th {\n",
       "        vertical-align: top;\n",
       "    }\n",
       "\n",
       "    .dataframe thead th {\n",
       "        text-align: right;\n",
       "    }\n",
       "</style>\n",
       "<table border=\"1\" class=\"dataframe\">\n",
       "  <thead>\n",
       "    <tr style=\"text-align: right;\">\n",
       "      <th></th>\n",
       "      <th>BaseRate</th>\n",
       "      <th>Cases</th>\n",
       "      <th>Cube</th>\n",
       "      <th>Currency</th>\n",
       "      <th>DestCountry</th>\n",
       "      <th>DestState</th>\n",
       "      <th>DestPostal</th>\n",
       "      <th>Detention</th>\n",
       "      <th>Fuel</th>\n",
       "      <th>Handling</th>\n",
       "      <th>Layover</th>\n",
       "      <th>LoadMiles</th>\n",
       "      <th>Mode</th>\n",
       "      <th>OriginCountry</th>\n",
       "      <th>OriginState</th>\n",
       "      <th>OtherAccessorial</th>\n",
       "      <th>ShipDate</th>\n",
       "      <th>StopCharges</th>\n",
       "      <th>TotalAccessorial</th>\n",
       "      <th>TotalCharges</th>\n",
       "      <th>Weight</th>\n",
       "      <th>source-test</th>\n",
       "      <th>destination-test</th>\n",
       "      <th>Per Mile Charge</th>\n",
       "      <th>Market Rates- DS, DAT</th>\n",
       "      <th>Transportation Factor</th>\n",
       "      <th>Frequency</th>\n",
       "      <th>year</th>\n",
       "      <th>month</th>\n",
       "      <th>Fuel_Fee</th>\n",
       "      <th>name_new</th>\n",
       "      <th>Total_pop</th>\n",
       "      <th>Pop_emp</th>\n",
       "    </tr>\n",
       "  </thead>\n",
       "  <tbody>\n",
       "    <tr>\n",
       "      <th>1</th>\n",
       "      <td>700.0</td>\n",
       "      <td>3124</td>\n",
       "      <td>1987</td>\n",
       "      <td>USD</td>\n",
       "      <td>US</td>\n",
       "      <td>TN</td>\n",
       "      <td>370</td>\n",
       "      <td>0.0</td>\n",
       "      <td>88.97</td>\n",
       "      <td>0.0</td>\n",
       "      <td>0.0</td>\n",
       "      <td>217</td>\n",
       "      <td>TL</td>\n",
       "      <td>US</td>\n",
       "      <td>TN</td>\n",
       "      <td>0.0</td>\n",
       "      <td>2018-11-28</td>\n",
       "      <td>0.0</td>\n",
       "      <td>88.97</td>\n",
       "      <td>788.97</td>\n",
       "      <td>39634</td>\n",
       "      <td>ARLINGTON, TN</td>\n",
       "      <td>lebanon, tn</td>\n",
       "      <td>3.64</td>\n",
       "      <td>4.3794</td>\n",
       "      <td>0.83</td>\n",
       "      <td>506</td>\n",
       "      <td>2018</td>\n",
       "      <td>11</td>\n",
       "      <td>789.88</td>\n",
       "      <td>lebanon</td>\n",
       "      <td>141.314</td>\n",
       "      <td>113.314</td>\n",
       "    </tr>\n",
       "    <tr>\n",
       "      <th>2</th>\n",
       "      <td>700.0</td>\n",
       "      <td>2393</td>\n",
       "      <td>1943</td>\n",
       "      <td>USD</td>\n",
       "      <td>US</td>\n",
       "      <td>TN</td>\n",
       "      <td>370</td>\n",
       "      <td>0.0</td>\n",
       "      <td>88.97</td>\n",
       "      <td>0.0</td>\n",
       "      <td>0.0</td>\n",
       "      <td>217</td>\n",
       "      <td>TL</td>\n",
       "      <td>US</td>\n",
       "      <td>TN</td>\n",
       "      <td>0.0</td>\n",
       "      <td>2018-11-28</td>\n",
       "      <td>0.0</td>\n",
       "      <td>88.97</td>\n",
       "      <td>788.97</td>\n",
       "      <td>39939</td>\n",
       "      <td>ARLINGTON, TN</td>\n",
       "      <td>lebanon, tn</td>\n",
       "      <td>3.64</td>\n",
       "      <td>4.3794</td>\n",
       "      <td>0.83</td>\n",
       "      <td>506</td>\n",
       "      <td>2018</td>\n",
       "      <td>11</td>\n",
       "      <td>789.88</td>\n",
       "      <td>lebanon</td>\n",
       "      <td>141.314</td>\n",
       "      <td>113.314</td>\n",
       "    </tr>\n",
       "    <tr>\n",
       "      <th>3</th>\n",
       "      <td>700.0</td>\n",
       "      <td>2496</td>\n",
       "      <td>2026</td>\n",
       "      <td>USD</td>\n",
       "      <td>US</td>\n",
       "      <td>TN</td>\n",
       "      <td>370</td>\n",
       "      <td>0.0</td>\n",
       "      <td>88.97</td>\n",
       "      <td>0.0</td>\n",
       "      <td>0.0</td>\n",
       "      <td>217</td>\n",
       "      <td>TL</td>\n",
       "      <td>US</td>\n",
       "      <td>TN</td>\n",
       "      <td>0.0</td>\n",
       "      <td>2018-11-28</td>\n",
       "      <td>0.0</td>\n",
       "      <td>88.97</td>\n",
       "      <td>788.97</td>\n",
       "      <td>41658</td>\n",
       "      <td>ARLINGTON, TN</td>\n",
       "      <td>lebanon, tn</td>\n",
       "      <td>3.64</td>\n",
       "      <td>4.3794</td>\n",
       "      <td>0.83</td>\n",
       "      <td>506</td>\n",
       "      <td>2018</td>\n",
       "      <td>11</td>\n",
       "      <td>789.88</td>\n",
       "      <td>lebanon</td>\n",
       "      <td>141.314</td>\n",
       "      <td>113.314</td>\n",
       "    </tr>\n",
       "  </tbody>\n",
       "</table>\n",
       "</div>"
      ],
      "text/plain": [
       "   BaseRate  Cases  Cube Currency DestCountry DestState DestPostal  Detention   Fuel  Handling  Layover  LoadMiles Mode OriginCountry OriginState  OtherAccessorial   ShipDate  StopCharges  TotalAccessorial  TotalCharges  Weight    source-test destination-test  Per Mile Charge  Market Rates- DS, DAT  Transportation Factor  Frequency  year  month  Fuel_Fee name_new  Total_pop  Pop_emp\n",
       "1     700.0   3124  1987      USD          US        TN        370        0.0  88.97       0.0      0.0        217   TL            US          TN               0.0 2018-11-28          0.0             88.97        788.97   39634  ARLINGTON, TN      lebanon, tn             3.64                 4.3794                   0.83        506  2018     11    789.88  lebanon    141.314  113.314\n",
       "2     700.0   2393  1943      USD          US        TN        370        0.0  88.97       0.0      0.0        217   TL            US          TN               0.0 2018-11-28          0.0             88.97        788.97   39939  ARLINGTON, TN      lebanon, tn             3.64                 4.3794                   0.83        506  2018     11    789.88  lebanon    141.314  113.314\n",
       "3     700.0   2496  2026      USD          US        TN        370        0.0  88.97       0.0      0.0        217   TL            US          TN               0.0 2018-11-28          0.0             88.97        788.97   41658  ARLINGTON, TN      lebanon, tn             3.64                 4.3794                   0.83        506  2018     11    789.88  lebanon    141.314  113.314"
      ]
     },
     "execution_count": 52,
     "metadata": {},
     "output_type": "execute_result"
    }
   ],
   "source": [
    "df4.head(3)"
   ]
  },
  {
   "cell_type": "markdown",
   "metadata": {},
   "source": [
    "## 4.Start analyzing the data"
   ]
  },
  {
   "cell_type": "markdown",
   "metadata": {},
   "source": [
    "### 4.1 Preliminary visual data"
   ]
  },
  {
   "cell_type": "code",
   "execution_count": 53,
   "metadata": {
    "scrolled": true
   },
   "outputs": [
    {
     "data": {
      "text/html": [
       "<div>\n",
       "<style scoped>\n",
       "    .dataframe tbody tr th:only-of-type {\n",
       "        vertical-align: middle;\n",
       "    }\n",
       "\n",
       "    .dataframe tbody tr th {\n",
       "        vertical-align: top;\n",
       "    }\n",
       "\n",
       "    .dataframe thead th {\n",
       "        text-align: right;\n",
       "    }\n",
       "</style>\n",
       "<table border=\"1\" class=\"dataframe\">\n",
       "  <thead>\n",
       "    <tr style=\"text-align: right;\">\n",
       "      <th></th>\n",
       "      <th>BaseRate</th>\n",
       "      <th>Cases</th>\n",
       "      <th>Cube</th>\n",
       "      <th>Detention</th>\n",
       "      <th>Fuel</th>\n",
       "      <th>Handling</th>\n",
       "      <th>Layover</th>\n",
       "      <th>LoadMiles</th>\n",
       "      <th>OtherAccessorial</th>\n",
       "      <th>StopCharges</th>\n",
       "      <th>TotalAccessorial</th>\n",
       "      <th>TotalCharges</th>\n",
       "      <th>Weight</th>\n",
       "      <th>Per Mile Charge</th>\n",
       "      <th>Market Rates- DS, DAT</th>\n",
       "      <th>Transportation Factor</th>\n",
       "      <th>Frequency</th>\n",
       "      <th>year</th>\n",
       "      <th>month</th>\n",
       "      <th>Fuel_Fee</th>\n",
       "    </tr>\n",
       "  </thead>\n",
       "  <tbody>\n",
       "    <tr>\n",
       "      <th>count</th>\n",
       "      <td>55483.000000</td>\n",
       "      <td>55483.000000</td>\n",
       "      <td>55483.000000</td>\n",
       "      <td>55483.000000</td>\n",
       "      <td>55483.000000</td>\n",
       "      <td>55483.000000</td>\n",
       "      <td>55483.000000</td>\n",
       "      <td>55483.000000</td>\n",
       "      <td>55483.000000</td>\n",
       "      <td>55483.000000</td>\n",
       "      <td>55483.000000</td>\n",
       "      <td>55483.000000</td>\n",
       "      <td>55483.000000</td>\n",
       "      <td>55483.000000</td>\n",
       "      <td>55483.000000</td>\n",
       "      <td>55483.000000</td>\n",
       "      <td>55483.000000</td>\n",
       "      <td>55483.000000</td>\n",
       "      <td>55483.000000</td>\n",
       "      <td>55483.000000</td>\n",
       "    </tr>\n",
       "    <tr>\n",
       "      <th>mean</th>\n",
       "      <td>985.638838</td>\n",
       "      <td>1481.767803</td>\n",
       "      <td>1591.680244</td>\n",
       "      <td>0.080513</td>\n",
       "      <td>180.210472</td>\n",
       "      <td>27.451641</td>\n",
       "      <td>2.704091</td>\n",
       "      <td>552.000180</td>\n",
       "      <td>6.058961</td>\n",
       "      <td>1.449543</td>\n",
       "      <td>217.955221</td>\n",
       "      <td>1203.579713</td>\n",
       "      <td>27919.285277</td>\n",
       "      <td>4.303226</td>\n",
       "      <td>923.523643</td>\n",
       "      <td>1.117289</td>\n",
       "      <td>566.850260</td>\n",
       "      <td>2018.911162</td>\n",
       "      <td>6.517420</td>\n",
       "      <td>1203.581059</td>\n",
       "    </tr>\n",
       "    <tr>\n",
       "      <th>std</th>\n",
       "      <td>777.841643</td>\n",
       "      <td>902.744175</td>\n",
       "      <td>846.815536</td>\n",
       "      <td>1.444385</td>\n",
       "      <td>191.113032</td>\n",
       "      <td>78.821067</td>\n",
       "      <td>35.695591</td>\n",
       "      <td>530.941739</td>\n",
       "      <td>48.822764</td>\n",
       "      <td>23.021107</td>\n",
       "      <td>225.442222</td>\n",
       "      <td>974.197106</td>\n",
       "      <td>12979.286327</td>\n",
       "      <td>5.388871</td>\n",
       "      <td>814.058349</td>\n",
       "      <td>0.801241</td>\n",
       "      <td>685.944064</td>\n",
       "      <td>0.284576</td>\n",
       "      <td>3.419785</td>\n",
       "      <td>974.102541</td>\n",
       "    </tr>\n",
       "    <tr>\n",
       "      <th>min</th>\n",
       "      <td>0.000000</td>\n",
       "      <td>0.000000</td>\n",
       "      <td>0.000000</td>\n",
       "      <td>0.000000</td>\n",
       "      <td>0.000000</td>\n",
       "      <td>0.000000</td>\n",
       "      <td>0.000000</td>\n",
       "      <td>4.000000</td>\n",
       "      <td>-55.000000</td>\n",
       "      <td>0.000000</td>\n",
       "      <td>-37.240000</td>\n",
       "      <td>0.230000</td>\n",
       "      <td>0.000000</td>\n",
       "      <td>0.000000</td>\n",
       "      <td>0.848700</td>\n",
       "      <td>0.000000</td>\n",
       "      <td>1.000000</td>\n",
       "      <td>2017.000000</td>\n",
       "      <td>1.000000</td>\n",
       "      <td>0.000000</td>\n",
       "    </tr>\n",
       "    <tr>\n",
       "      <th>25%</th>\n",
       "      <td>320.000000</td>\n",
       "      <td>1084.000000</td>\n",
       "      <td>1072.000000</td>\n",
       "      <td>0.000000</td>\n",
       "      <td>17.760000</td>\n",
       "      <td>0.000000</td>\n",
       "      <td>0.000000</td>\n",
       "      <td>199.000000</td>\n",
       "      <td>0.000000</td>\n",
       "      <td>0.000000</td>\n",
       "      <td>24.420000</td>\n",
       "      <td>332.600000</td>\n",
       "      <td>21973.000000</td>\n",
       "      <td>1.870000</td>\n",
       "      <td>245.000000</td>\n",
       "      <td>0.820000</td>\n",
       "      <td>77.000000</td>\n",
       "      <td>2019.000000</td>\n",
       "      <td>4.000000</td>\n",
       "      <td>332.640000</td>\n",
       "    </tr>\n",
       "    <tr>\n",
       "      <th>50%</th>\n",
       "      <td>812.700000</td>\n",
       "      <td>1491.000000</td>\n",
       "      <td>1814.000000</td>\n",
       "      <td>0.000000</td>\n",
       "      <td>142.020000</td>\n",
       "      <td>0.000000</td>\n",
       "      <td>0.000000</td>\n",
       "      <td>422.000000</td>\n",
       "      <td>0.000000</td>\n",
       "      <td>0.000000</td>\n",
       "      <td>168.330000</td>\n",
       "      <td>1008.000000</td>\n",
       "      <td>30830.000000</td>\n",
       "      <td>2.490000</td>\n",
       "      <td>831.660000</td>\n",
       "      <td>1.060000</td>\n",
       "      <td>275.000000</td>\n",
       "      <td>2019.000000</td>\n",
       "      <td>7.000000</td>\n",
       "      <td>1008.000000</td>\n",
       "    </tr>\n",
       "    <tr>\n",
       "      <th>75%</th>\n",
       "      <td>1340.000000</td>\n",
       "      <td>1848.000000</td>\n",
       "      <td>2271.000000</td>\n",
       "      <td>0.000000</td>\n",
       "      <td>257.750000</td>\n",
       "      <td>0.000000</td>\n",
       "      <td>0.000000</td>\n",
       "      <td>747.000000</td>\n",
       "      <td>0.000000</td>\n",
       "      <td>0.000000</td>\n",
       "      <td>302.480000</td>\n",
       "      <td>1644.720000</td>\n",
       "      <td>39633.000000</td>\n",
       "      <td>3.620000</td>\n",
       "      <td>1344.420000</td>\n",
       "      <td>1.270000</td>\n",
       "      <td>733.000000</td>\n",
       "      <td>2019.000000</td>\n",
       "      <td>10.000000</td>\n",
       "      <td>1645.000000</td>\n",
       "    </tr>\n",
       "    <tr>\n",
       "      <th>max</th>\n",
       "      <td>6438.470000</td>\n",
       "      <td>6675.000000</td>\n",
       "      <td>5993.000000</td>\n",
       "      <td>200.000000</td>\n",
       "      <td>1156.740000</td>\n",
       "      <td>750.000000</td>\n",
       "      <td>1800.000000</td>\n",
       "      <td>2976.000000</td>\n",
       "      <td>4655.000000</td>\n",
       "      <td>475.000000</td>\n",
       "      <td>4655.000000</td>\n",
       "      <td>7500.000000</td>\n",
       "      <td>74623.000000</td>\n",
       "      <td>81.630000</td>\n",
       "      <td>5581.620000</td>\n",
       "      <td>17.140000</td>\n",
       "      <td>2617.000000</td>\n",
       "      <td>2019.000000</td>\n",
       "      <td>12.000000</td>\n",
       "      <td>7488.090000</td>\n",
       "    </tr>\n",
       "  </tbody>\n",
       "</table>\n",
       "</div>"
      ],
      "text/plain": [
       "           BaseRate         Cases          Cube     Detention          Fuel      Handling       Layover     LoadMiles  OtherAccessorial   StopCharges  TotalAccessorial  TotalCharges        Weight  Per Mile Charge  Market Rates- DS, DAT  Transportation Factor     Frequency          year         month      Fuel_Fee\n",
       "count  55483.000000  55483.000000  55483.000000  55483.000000  55483.000000  55483.000000  55483.000000  55483.000000      55483.000000  55483.000000      55483.000000  55483.000000  55483.000000     55483.000000           55483.000000           55483.000000  55483.000000  55483.000000  55483.000000  55483.000000\n",
       "mean     985.638838   1481.767803   1591.680244      0.080513    180.210472     27.451641      2.704091    552.000180          6.058961      1.449543        217.955221   1203.579713  27919.285277         4.303226             923.523643               1.117289    566.850260   2018.911162      6.517420   1203.581059\n",
       "std      777.841643    902.744175    846.815536      1.444385    191.113032     78.821067     35.695591    530.941739         48.822764     23.021107        225.442222    974.197106  12979.286327         5.388871             814.058349               0.801241    685.944064      0.284576      3.419785    974.102541\n",
       "min        0.000000      0.000000      0.000000      0.000000      0.000000      0.000000      0.000000      4.000000        -55.000000      0.000000        -37.240000      0.230000      0.000000         0.000000               0.848700               0.000000      1.000000   2017.000000      1.000000      0.000000\n",
       "25%      320.000000   1084.000000   1072.000000      0.000000     17.760000      0.000000      0.000000    199.000000          0.000000      0.000000         24.420000    332.600000  21973.000000         1.870000             245.000000               0.820000     77.000000   2019.000000      4.000000    332.640000\n",
       "50%      812.700000   1491.000000   1814.000000      0.000000    142.020000      0.000000      0.000000    422.000000          0.000000      0.000000        168.330000   1008.000000  30830.000000         2.490000             831.660000               1.060000    275.000000   2019.000000      7.000000   1008.000000\n",
       "75%     1340.000000   1848.000000   2271.000000      0.000000    257.750000      0.000000      0.000000    747.000000          0.000000      0.000000        302.480000   1644.720000  39633.000000         3.620000            1344.420000               1.270000    733.000000   2019.000000     10.000000   1645.000000\n",
       "max     6438.470000   6675.000000   5993.000000    200.000000   1156.740000    750.000000   1800.000000   2976.000000       4655.000000    475.000000       4655.000000   7500.000000  74623.000000        81.630000            5581.620000              17.140000   2617.000000   2019.000000     12.000000   7488.090000"
      ]
     },
     "execution_count": 53,
     "metadata": {},
     "output_type": "execute_result"
    }
   ],
   "source": [
    "df4_TL.describe()"
   ]
  },
  {
   "cell_type": "markdown",
   "metadata": {},
   "source": [
    "#### 4.1.1 Find a linear relationship between BaseRate and TotalCharges"
   ]
  },
  {
   "cell_type": "code",
   "execution_count": 54,
   "metadata": {},
   "outputs": [
    {
     "data": {
      "image/png": "[encoded data removed]",
      "text/plain": [
       "<Figure size 432x288 with 1 Axes>"
      ]
     },
     "metadata": {
      "needs_background": "light"
     },
     "output_type": "display_data"
    }
   ],
   "source": [
    "df4_TL.plot(x='BaseRate', y='TotalCharges', style='o')  \n",
    "plt.title('BaseRate vs TotalCharges')  \n",
    "plt.xlabel('BaseRate')  \n",
    "plt.ylabel('TotalCharges')  \n",
    "plt.show()"
   ]
  },
  {
   "cell_type": "markdown",
   "metadata": {},
   "source": [
    "#### 4.1.2 Observe the overall distribution of TotalCharges"
   ]
  },
  {
   "cell_type": "code",
   "execution_count": 55,
   "metadata": {},
   "outputs": [
    {
     "data": {
      "text/plain": [
       "<matplotlib.axes._subplots.AxesSubplot at 0x1eb92dafa90>"
      ]
     },
     "execution_count": 55,
     "metadata": {},
     "output_type": "execute_result"
    },
    {
     "data": {
      "image/png": "[encoded data removed]",
      "text/plain": [
       "<Figure size 360x180 with 1 Axes>"
      ]
     },
     "metadata": {
      "needs_background": "light"
     },
     "output_type": "display_data"
    }
   ],
   "source": [
    "plt.figure(figsize=(5,2.5))\n",
    "plt.tight_layout()\n",
    "seabornInstance.distplot(df4_TL['TotalCharges'])"
   ]
  },
  {
   "cell_type": "markdown",
   "metadata": {},
   "source": [
    "As we can observe that most of the time the value is either 200 or 1000."
   ]
  },
  {
   "cell_type": "code",
   "execution_count": 56,
   "metadata": {},
   "outputs": [],
   "source": [
    "#Previous fitting model\n",
    "#plt.scatter(X_test, y_test,  color='gray')\n",
    "#plt.plot(X_test, y_pred, color='red', linewidth=2)\n",
    "#plt.show()"
   ]
  },
  {
   "cell_type": "markdown",
   "metadata": {},
   "source": [
    "#### 4.1.3 Probably already know:TotalCharges=BaseRate+Fuel+Handling+Layover+StopCharges+OtherAccessorial(offered by Rich). So need to find better way to calculate TotalCharges. So, we need a standard by which to measure the degree of the present method, and to improve upon it.---Find a standard."
   ]
  },
  {
   "cell_type": "markdown",
   "metadata": {},
   "source": [
    "#### new find TotalCharges=BaseRate+Fuel+Handling+Layover+StopCharges+OtherAccessorial+Fuel_Fee(the Root Mean Squared Error: 0.4489011952964065 decreaced 0.02!)"
   ]
  },
  {
   "cell_type": "code",
   "execution_count": 57,
   "metadata": {},
   "outputs": [],
   "source": [
    "X = df4_TL[['BaseRate','Detention','Fuel','Handling','Layover','StopCharges','OtherAccessorial','Fuel_Fee']]\n",
    "y = df4_TL['TotalCharges'].values"
   ]
  },
  {
   "cell_type": "markdown",
   "metadata": {},
   "source": [
    "Next, I split 80% of the data to the training set while 20% of the data to test set using below code.The test_size variable is where we actually specify the proportion of the test set."
   ]
  },
  {
   "cell_type": "code",
   "execution_count": 58,
   "metadata": {},
   "outputs": [],
   "source": [
    "#Next, we split 80% of the data to the training set while 20% of the data to test set using below code.\n",
    "X_train, X_test, y_train, y_test = train_test_split(X, y, test_size=0.2, random_state=0)"
   ]
  },
  {
   "cell_type": "markdown",
   "metadata": {},
   "source": [
    "After splitting the data into training and testing sets, finally, the time is to train our algorithm. For that, we need to import LinearRegression class, instantiate it, and call the fit() method along with our training data."
   ]
  },
  {
   "cell_type": "code",
   "execution_count": 59,
   "metadata": {},
   "outputs": [
    {
     "data": {
      "text/plain": [
       "LinearRegression(copy_X=True, fit_intercept=True, n_jobs=None, normalize=False)"
      ]
     },
     "execution_count": 59,
     "metadata": {},
     "output_type": "execute_result"
    }
   ],
   "source": [
    "#Now lets train our model.\n",
    "regressor = LinearRegression()  \n",
    "regressor.fit(X_train, y_train)"
   ]
  },
  {
   "cell_type": "code",
   "execution_count": 60,
   "metadata": {},
   "outputs": [
    {
     "name": "stdout",
     "output_type": "stream",
     "text": [
      "the intercept: 0.1466980567831797\n",
      "the slope: [0.91759522 0.08795729 0.91816986 0.91770732 0.91778511 0.91762806\n",
      " 0.91777436 0.08223755]\n"
     ]
    }
   ],
   "source": [
    "#To retrieve the intercept:\n",
    "print(\"the intercept:\",regressor.intercept_)\n",
    "#For retrieving the slope:\n",
    "print(\"the slope:\",regressor.coef_)"
   ]
  },
  {
   "cell_type": "code",
   "execution_count": 61,
   "metadata": {
    "scrolled": true
   },
   "outputs": [
    {
     "data": {
      "text/html": [
       "<div>\n",
       "<style scoped>\n",
       "    .dataframe tbody tr th:only-of-type {\n",
       "        vertical-align: middle;\n",
       "    }\n",
       "\n",
       "    .dataframe tbody tr th {\n",
       "        vertical-align: top;\n",
       "    }\n",
       "\n",
       "    .dataframe thead th {\n",
       "        text-align: right;\n",
       "    }\n",
       "</style>\n",
       "<table border=\"1\" class=\"dataframe\">\n",
       "  <thead>\n",
       "    <tr style=\"text-align: right;\">\n",
       "      <th></th>\n",
       "      <th>Coefficients</th>\n",
       "    </tr>\n",
       "  </thead>\n",
       "  <tbody>\n",
       "    <tr>\n",
       "      <th>BaseRate</th>\n",
       "      <td>0.917595</td>\n",
       "    </tr>\n",
       "    <tr>\n",
       "      <th>Detention</th>\n",
       "      <td>0.087957</td>\n",
       "    </tr>\n",
       "    <tr>\n",
       "      <th>Fuel</th>\n",
       "      <td>0.918170</td>\n",
       "    </tr>\n",
       "    <tr>\n",
       "      <th>Handling</th>\n",
       "      <td>0.917707</td>\n",
       "    </tr>\n",
       "    <tr>\n",
       "      <th>Layover</th>\n",
       "      <td>0.917785</td>\n",
       "    </tr>\n",
       "    <tr>\n",
       "      <th>StopCharges</th>\n",
       "      <td>0.917628</td>\n",
       "    </tr>\n",
       "    <tr>\n",
       "      <th>OtherAccessorial</th>\n",
       "      <td>0.917774</td>\n",
       "    </tr>\n",
       "    <tr>\n",
       "      <th>Fuel_Fee</th>\n",
       "      <td>0.082238</td>\n",
       "    </tr>\n",
       "  </tbody>\n",
       "</table>\n",
       "</div>"
      ],
      "text/plain": [
       "                  Coefficients\n",
       "BaseRate              0.917595\n",
       "Detention             0.087957\n",
       "Fuel                  0.918170\n",
       "Handling              0.917707\n",
       "Layover               0.917785\n",
       "StopCharges           0.917628\n",
       "OtherAccessorial      0.917774\n",
       "Fuel_Fee              0.082238"
      ]
     },
     "execution_count": 61,
     "metadata": {},
     "output_type": "execute_result"
    }
   ],
   "source": [
    "#in the case of multivariable linear regression, the regression model has to find the most optimal coefficients for all the attributes. \n",
    "#To see what coefficients our regression model has chosen, execute the following script:\n",
    "coeff_df = pd.DataFrame(regressor.coef_, X.columns, columns=['Coefficients'])\n",
    "coeff_df"
   ]
  },
  {
   "cell_type": "code",
   "execution_count": 62,
   "metadata": {},
   "outputs": [],
   "source": [
    "### This means that for a unit increase in “BaseRate”,there is a increase of 1 unit in the Totalcharges. Similarly, others are same.\n",
    "#We can see that the rest of the features have very little effect on tTotalcharges."
   ]
  },
  {
   "cell_type": "code",
   "execution_count": 63,
   "metadata": {},
   "outputs": [],
   "source": [
    "y_pred = regressor.predict(X_test)"
   ]
  },
  {
   "cell_type": "code",
   "execution_count": 64,
   "metadata": {
    "scrolled": true
   },
   "outputs": [
    {
     "data": {
      "text/html": [
       "<div>\n",
       "<style scoped>\n",
       "    .dataframe tbody tr th:only-of-type {\n",
       "        vertical-align: middle;\n",
       "    }\n",
       "\n",
       "    .dataframe tbody tr th {\n",
       "        vertical-align: top;\n",
       "    }\n",
       "\n",
       "    .dataframe thead th {\n",
       "        text-align: right;\n",
       "    }\n",
       "</style>\n",
       "<table border=\"1\" class=\"dataframe\">\n",
       "  <thead>\n",
       "    <tr style=\"text-align: right;\">\n",
       "      <th></th>\n",
       "      <th>Actual</th>\n",
       "      <th>Predicted</th>\n",
       "    </tr>\n",
       "  </thead>\n",
       "  <tbody>\n",
       "    <tr>\n",
       "      <th>0</th>\n",
       "      <td>661.58</td>\n",
       "      <td>661.664169</td>\n",
       "    </tr>\n",
       "    <tr>\n",
       "      <th>1</th>\n",
       "      <td>930.65</td>\n",
       "      <td>930.631924</td>\n",
       "    </tr>\n",
       "    <tr>\n",
       "      <th>2</th>\n",
       "      <td>5.40</td>\n",
       "      <td>5.595339</td>\n",
       "    </tr>\n",
       "    <tr>\n",
       "      <th>3</th>\n",
       "      <td>1070.24</td>\n",
       "      <td>1070.158393</td>\n",
       "    </tr>\n",
       "    <tr>\n",
       "      <th>4</th>\n",
       "      <td>1721.71</td>\n",
       "      <td>1721.720516</td>\n",
       "    </tr>\n",
       "    <tr>\n",
       "      <th>5</th>\n",
       "      <td>343.95</td>\n",
       "      <td>343.962426</td>\n",
       "    </tr>\n",
       "    <tr>\n",
       "      <th>6</th>\n",
       "      <td>5.51</td>\n",
       "      <td>5.251071</td>\n",
       "    </tr>\n",
       "    <tr>\n",
       "      <th>7</th>\n",
       "      <td>658.95</td>\n",
       "      <td>658.979694</td>\n",
       "    </tr>\n",
       "    <tr>\n",
       "      <th>8</th>\n",
       "      <td>841.50</td>\n",
       "      <td>841.587640</td>\n",
       "    </tr>\n",
       "    <tr>\n",
       "      <th>9</th>\n",
       "      <td>1207.20</td>\n",
       "      <td>1207.186599</td>\n",
       "    </tr>\n",
       "    <tr>\n",
       "      <th>10</th>\n",
       "      <td>949.76</td>\n",
       "      <td>949.871519</td>\n",
       "    </tr>\n",
       "    <tr>\n",
       "      <th>11</th>\n",
       "      <td>2200.89</td>\n",
       "      <td>2200.961930</td>\n",
       "    </tr>\n",
       "    <tr>\n",
       "      <th>12</th>\n",
       "      <td>1117.20</td>\n",
       "      <td>1117.261233</td>\n",
       "    </tr>\n",
       "    <tr>\n",
       "      <th>13</th>\n",
       "      <td>3612.76</td>\n",
       "      <td>3612.658095</td>\n",
       "    </tr>\n",
       "    <tr>\n",
       "      <th>14</th>\n",
       "      <td>911.00</td>\n",
       "      <td>911.255007</td>\n",
       "    </tr>\n",
       "    <tr>\n",
       "      <th>15</th>\n",
       "      <td>1344.18</td>\n",
       "      <td>1344.335431</td>\n",
       "    </tr>\n",
       "    <tr>\n",
       "      <th>16</th>\n",
       "      <td>1519.10</td>\n",
       "      <td>1519.168501</td>\n",
       "    </tr>\n",
       "    <tr>\n",
       "      <th>17</th>\n",
       "      <td>5050.00</td>\n",
       "      <td>5050.514032</td>\n",
       "    </tr>\n",
       "    <tr>\n",
       "      <th>18</th>\n",
       "      <td>642.75</td>\n",
       "      <td>642.866647</td>\n",
       "    </tr>\n",
       "    <tr>\n",
       "      <th>19</th>\n",
       "      <td>240.00</td>\n",
       "      <td>240.108207</td>\n",
       "    </tr>\n",
       "    <tr>\n",
       "      <th>20</th>\n",
       "      <td>622.14</td>\n",
       "      <td>622.185449</td>\n",
       "    </tr>\n",
       "    <tr>\n",
       "      <th>21</th>\n",
       "      <td>1704.78</td>\n",
       "      <td>1704.843752</td>\n",
       "    </tr>\n",
       "    <tr>\n",
       "      <th>22</th>\n",
       "      <td>1955.95</td>\n",
       "      <td>1955.734601</td>\n",
       "    </tr>\n",
       "    <tr>\n",
       "      <th>23</th>\n",
       "      <td>2912.77</td>\n",
       "      <td>2912.263949</td>\n",
       "    </tr>\n",
       "    <tr>\n",
       "      <th>24</th>\n",
       "      <td>225.00</td>\n",
       "      <td>225.111538</td>\n",
       "    </tr>\n",
       "  </tbody>\n",
       "</table>\n",
       "</div>"
      ],
      "text/plain": [
       "     Actual    Predicted\n",
       "0    661.58   661.664169\n",
       "1    930.65   930.631924\n",
       "2      5.40     5.595339\n",
       "3   1070.24  1070.158393\n",
       "4   1721.71  1721.720516\n",
       "5    343.95   343.962426\n",
       "6      5.51     5.251071\n",
       "7    658.95   658.979694\n",
       "8    841.50   841.587640\n",
       "9   1207.20  1207.186599\n",
       "10   949.76   949.871519\n",
       "11  2200.89  2200.961930\n",
       "12  1117.20  1117.261233\n",
       "13  3612.76  3612.658095\n",
       "14   911.00   911.255007\n",
       "15  1344.18  1344.335431\n",
       "16  1519.10  1519.168501\n",
       "17  5050.00  5050.514032\n",
       "18   642.75   642.866647\n",
       "19   240.00   240.108207\n",
       "20   622.14   622.185449\n",
       "21  1704.78  1704.843752\n",
       "22  1955.95  1955.734601\n",
       "23  2912.77  2912.263949\n",
       "24   225.00   225.111538"
      ]
     },
     "execution_count": 64,
     "metadata": {},
     "output_type": "execute_result"
    }
   ],
   "source": [
    "dff = pd.DataFrame({'Actual': y_test, 'Predicted': y_pred})\n",
    "dff1 = dff.head(25)\n",
    "dff1"
   ]
  },
  {
   "cell_type": "markdown",
   "metadata": {},
   "source": [
    "comparison of Actual and Predicted value"
   ]
  },
  {
   "cell_type": "code",
   "execution_count": 65,
   "metadata": {},
   "outputs": [
    {
     "data": {
      "image/png": "[encoded data removed]",
      "text/plain": [
       "<Figure size 720x576 with 1 Axes>"
      ]
     },
     "metadata": {
      "needs_background": "light"
     },
     "output_type": "display_data"
    }
   ],
   "source": [
    "dff1.plot(kind='bar',figsize=(10,8))\n",
    "plt.grid(which='major', linestyle='-', linewidth='0.5', color='green')\n",
    "plt.grid(which='minor', linestyle=':', linewidth='0.5', color='black')\n",
    "plt.show()\n",
    "#We can also visualize comparison result as a bar graph using the below script :\n",
    "#Note: As the number of records is huge, for representation purpose I’m taking just 25 records."
   ]
  },
  {
   "cell_type": "code",
   "execution_count": 66,
   "metadata": {
    "scrolled": true
   },
   "outputs": [
    {
     "name": "stdout",
     "output_type": "stream",
     "text": [
      "r squared : 0.9999998254420235\n",
      "Mean Absolute Error: 0.15760308010153284\n",
      "Mean Squared Error: 0.16808910095386995\n",
      "Root Mean Squared Error: 0.4099867082648777\n"
     ]
    }
   ],
   "source": [
    "from sklearn.metrics import accuracy_score, r2_score\n",
    "print('r squared :',r2_score(y_test,y_pred))\n",
    "print('Mean Absolute Error:', metrics.mean_absolute_error(y_test, y_pred))  \n",
    "print('Mean Squared Error:', metrics.mean_squared_error(y_test, y_pred))  \n",
    "print('Root Mean Squared Error:', np.sqrt(metrics.mean_squared_error(y_test, y_pred)))"
   ]
  },
  {
   "cell_type": "markdown",
   "metadata": {},
   "source": [
    "#### Original  model is good, the predicted percentages are close to the actual ones. Conclusion: our model should be smaller than these Es (Find a standard)"
   ]
  },
  {
   "cell_type": "markdown",
   "metadata": {},
   "source": [
    "#### Up to now,TotalCharges=0.99BaseRate+Fuel+0.99Handling+Layover+0.99StopCharges+0.99OtherAccessorial+0.088Detention+0.187"
   ]
  },
  {
   "cell_type": "markdown",
   "metadata": {},
   "source": [
    "#### Up to now,TotalCharges=0.99BaseRate+Fuel+0.99Handling+Layover+0.99StopCharges+0.99OtherAccessorial+0.09Fuel_Fee+0.088Detention+0.187"
   ]
  },
  {
   "cell_type": "markdown",
   "metadata": {},
   "source": [
    "### 4.2 Consider the appropriate parameters"
   ]
  },
  {
   "cell_type": "code",
   "execution_count": 67,
   "metadata": {},
   "outputs": [],
   "source": [
    "df4_TL=df4_TL.reset_index().drop(columns=['index'])"
   ]
  },
  {
   "cell_type": "code",
   "execution_count": 68,
   "metadata": {},
   "outputs": [
    {
     "data": {
      "text/html": [
       "<div>\n",
       "<style scoped>\n",
       "    .dataframe tbody tr th:only-of-type {\n",
       "        vertical-align: middle;\n",
       "    }\n",
       "\n",
       "    .dataframe tbody tr th {\n",
       "        vertical-align: top;\n",
       "    }\n",
       "\n",
       "    .dataframe thead th {\n",
       "        text-align: right;\n",
       "    }\n",
       "</style>\n",
       "<table border=\"1\" class=\"dataframe\">\n",
       "  <thead>\n",
       "    <tr style=\"text-align: right;\">\n",
       "      <th></th>\n",
       "      <th>BaseRate</th>\n",
       "      <th>Cases</th>\n",
       "      <th>Cube</th>\n",
       "      <th>Detention</th>\n",
       "      <th>Fuel</th>\n",
       "      <th>Handling</th>\n",
       "      <th>Layover</th>\n",
       "      <th>LoadMiles</th>\n",
       "      <th>OtherAccessorial</th>\n",
       "      <th>StopCharges</th>\n",
       "      <th>TotalAccessorial</th>\n",
       "      <th>TotalCharges</th>\n",
       "      <th>Weight</th>\n",
       "      <th>Per Mile Charge</th>\n",
       "      <th>Market Rates- DS, DAT</th>\n",
       "      <th>Transportation Factor</th>\n",
       "      <th>Frequency</th>\n",
       "      <th>year</th>\n",
       "      <th>month</th>\n",
       "      <th>Fuel_Fee</th>\n",
       "    </tr>\n",
       "  </thead>\n",
       "  <tbody>\n",
       "    <tr>\n",
       "      <th>BaseRate</th>\n",
       "      <td>1.000000</td>\n",
       "      <td>0.310120</td>\n",
       "      <td>0.355674</td>\n",
       "      <td>-0.065116</td>\n",
       "      <td>0.904349</td>\n",
       "      <td>0.124680</td>\n",
       "      <td>0.047784</td>\n",
       "      <td>0.844192</td>\n",
       "      <td>0.091497</td>\n",
       "      <td>-0.012313</td>\n",
       "      <td>0.835937</td>\n",
       "      <td>0.991904</td>\n",
       "      <td>0.349266</td>\n",
       "      <td>-0.292522</td>\n",
       "      <td>0.620590</td>\n",
       "      <td>0.121532</td>\n",
       "      <td>-0.396179</td>\n",
       "      <td>-0.032770</td>\n",
       "      <td>0.003860</td>\n",
       "      <td>0.991912</td>\n",
       "    </tr>\n",
       "    <tr>\n",
       "      <th>Cases</th>\n",
       "      <td>0.310120</td>\n",
       "      <td>1.000000</td>\n",
       "      <td>0.696971</td>\n",
       "      <td>-0.076526</td>\n",
       "      <td>0.276160</td>\n",
       "      <td>0.040093</td>\n",
       "      <td>0.002816</td>\n",
       "      <td>0.167989</td>\n",
       "      <td>0.003573</td>\n",
       "      <td>-0.056054</td>\n",
       "      <td>0.243131</td>\n",
       "      <td>0.303884</td>\n",
       "      <td>0.550236</td>\n",
       "      <td>0.052611</td>\n",
       "      <td>0.116437</td>\n",
       "      <td>0.208407</td>\n",
       "      <td>0.087267</td>\n",
       "      <td>-0.002200</td>\n",
       "      <td>0.008745</td>\n",
       "      <td>0.303925</td>\n",
       "    </tr>\n",
       "    <tr>\n",
       "      <th>Cube</th>\n",
       "      <td>0.355674</td>\n",
       "      <td>0.696971</td>\n",
       "      <td>1.000000</td>\n",
       "      <td>-0.089236</td>\n",
       "      <td>0.287437</td>\n",
       "      <td>0.063535</td>\n",
       "      <td>0.008403</td>\n",
       "      <td>0.158208</td>\n",
       "      <td>-0.003409</td>\n",
       "      <td>-0.103229</td>\n",
       "      <td>0.255360</td>\n",
       "      <td>0.343088</td>\n",
       "      <td>0.458217</td>\n",
       "      <td>0.151064</td>\n",
       "      <td>0.125370</td>\n",
       "      <td>0.293556</td>\n",
       "      <td>0.086938</td>\n",
       "      <td>-0.011765</td>\n",
       "      <td>-0.001540</td>\n",
       "      <td>0.343144</td>\n",
       "    </tr>\n",
       "    <tr>\n",
       "      <th>Detention</th>\n",
       "      <td>-0.065116</td>\n",
       "      <td>-0.076526</td>\n",
       "      <td>-0.089236</td>\n",
       "      <td>1.000000</td>\n",
       "      <td>-0.050173</td>\n",
       "      <td>-0.017732</td>\n",
       "      <td>-0.003002</td>\n",
       "      <td>-0.044132</td>\n",
       "      <td>0.005656</td>\n",
       "      <td>-0.003510</td>\n",
       "      <td>-0.041935</td>\n",
       "      <td>-0.063003</td>\n",
       "      <td>-0.097902</td>\n",
       "      <td>0.031835</td>\n",
       "      <td>-0.030949</td>\n",
       "      <td>-0.073236</td>\n",
       "      <td>0.011473</td>\n",
       "      <td>0.006102</td>\n",
       "      <td>-0.002557</td>\n",
       "      <td>-0.063009</td>\n",
       "    </tr>\n",
       "    <tr>\n",
       "      <th>Fuel</th>\n",
       "      <td>0.904349</td>\n",
       "      <td>0.276160</td>\n",
       "      <td>0.287437</td>\n",
       "      <td>-0.050173</td>\n",
       "      <td>1.000000</td>\n",
       "      <td>0.033125</td>\n",
       "      <td>0.036900</td>\n",
       "      <td>0.933326</td>\n",
       "      <td>0.097927</td>\n",
       "      <td>-0.020643</td>\n",
       "      <td>0.883927</td>\n",
       "      <td>0.926635</td>\n",
       "      <td>0.279954</td>\n",
       "      <td>-0.343450</td>\n",
       "      <td>0.618554</td>\n",
       "      <td>0.052896</td>\n",
       "      <td>-0.334572</td>\n",
       "      <td>-0.052021</td>\n",
       "      <td>-0.033522</td>\n",
       "      <td>0.926594</td>\n",
       "    </tr>\n",
       "    <tr>\n",
       "      <th>Handling</th>\n",
       "      <td>0.124680</td>\n",
       "      <td>0.040093</td>\n",
       "      <td>0.063535</td>\n",
       "      <td>-0.017732</td>\n",
       "      <td>0.033125</td>\n",
       "      <td>1.000000</td>\n",
       "      <td>0.049117</td>\n",
       "      <td>0.013597</td>\n",
       "      <td>0.034516</td>\n",
       "      <td>-0.020011</td>\n",
       "      <td>0.390805</td>\n",
       "      <td>0.189992</td>\n",
       "      <td>0.070200</td>\n",
       "      <td>0.015031</td>\n",
       "      <td>0.045559</td>\n",
       "      <td>0.092464</td>\n",
       "      <td>-0.240959</td>\n",
       "      <td>-0.010226</td>\n",
       "      <td>0.016862</td>\n",
       "      <td>0.190013</td>\n",
       "    </tr>\n",
       "    <tr>\n",
       "      <th>Layover</th>\n",
       "      <td>0.047784</td>\n",
       "      <td>0.002816</td>\n",
       "      <td>0.008403</td>\n",
       "      <td>-0.003002</td>\n",
       "      <td>0.036900</td>\n",
       "      <td>0.049117</td>\n",
       "      <td>1.000000</td>\n",
       "      <td>0.037057</td>\n",
       "      <td>0.056197</td>\n",
       "      <td>0.001667</td>\n",
       "      <td>0.219111</td>\n",
       "      <td>0.088859</td>\n",
       "      <td>-0.001750</td>\n",
       "      <td>0.003749</td>\n",
       "      <td>0.025982</td>\n",
       "      <td>0.052125</td>\n",
       "      <td>-0.046428</td>\n",
       "      <td>-0.022183</td>\n",
       "      <td>0.020527</td>\n",
       "      <td>0.088879</td>\n",
       "    </tr>\n",
       "    <tr>\n",
       "      <th>LoadMiles</th>\n",
       "      <td>0.844192</td>\n",
       "      <td>0.167989</td>\n",
       "      <td>0.158208</td>\n",
       "      <td>-0.044132</td>\n",
       "      <td>0.933326</td>\n",
       "      <td>0.013597</td>\n",
       "      <td>0.037057</td>\n",
       "      <td>1.000000</td>\n",
       "      <td>0.092549</td>\n",
       "      <td>-0.045072</td>\n",
       "      <td>0.816983</td>\n",
       "      <td>0.863115</td>\n",
       "      <td>0.127370</td>\n",
       "      <td>-0.409559</td>\n",
       "      <td>0.669841</td>\n",
       "      <td>-0.046869</td>\n",
       "      <td>-0.383797</td>\n",
       "      <td>-0.010298</td>\n",
       "      <td>-0.009043</td>\n",
       "      <td>0.863088</td>\n",
       "    </tr>\n",
       "    <tr>\n",
       "      <th>OtherAccessorial</th>\n",
       "      <td>0.091497</td>\n",
       "      <td>0.003573</td>\n",
       "      <td>-0.003409</td>\n",
       "      <td>0.005656</td>\n",
       "      <td>0.097927</td>\n",
       "      <td>0.034516</td>\n",
       "      <td>0.056197</td>\n",
       "      <td>0.092549</td>\n",
       "      <td>1.000000</td>\n",
       "      <td>0.050516</td>\n",
       "      <td>0.325740</td>\n",
       "      <td>0.148419</td>\n",
       "      <td>0.027357</td>\n",
       "      <td>0.002334</td>\n",
       "      <td>0.081103</td>\n",
       "      <td>0.055298</td>\n",
       "      <td>-0.058245</td>\n",
       "      <td>-0.030670</td>\n",
       "      <td>0.012986</td>\n",
       "      <td>0.148381</td>\n",
       "    </tr>\n",
       "    <tr>\n",
       "      <th>StopCharges</th>\n",
       "      <td>-0.012313</td>\n",
       "      <td>-0.056054</td>\n",
       "      <td>-0.103229</td>\n",
       "      <td>-0.003510</td>\n",
       "      <td>-0.020643</td>\n",
       "      <td>-0.020011</td>\n",
       "      <td>0.001667</td>\n",
       "      <td>-0.045072</td>\n",
       "      <td>0.050516</td>\n",
       "      <td>1.000000</td>\n",
       "      <td>0.088801</td>\n",
       "      <td>0.010720</td>\n",
       "      <td>-0.119146</td>\n",
       "      <td>0.083674</td>\n",
       "      <td>-0.065995</td>\n",
       "      <td>0.134017</td>\n",
       "      <td>-0.044583</td>\n",
       "      <td>0.001678</td>\n",
       "      <td>-0.019235</td>\n",
       "      <td>0.010715</td>\n",
       "    </tr>\n",
       "    <tr>\n",
       "      <th>TotalAccessorial</th>\n",
       "      <td>0.835937</td>\n",
       "      <td>0.243131</td>\n",
       "      <td>0.255360</td>\n",
       "      <td>-0.041935</td>\n",
       "      <td>0.883927</td>\n",
       "      <td>0.390805</td>\n",
       "      <td>0.219111</td>\n",
       "      <td>0.816983</td>\n",
       "      <td>0.325740</td>\n",
       "      <td>0.088801</td>\n",
       "      <td>1.000000</td>\n",
       "      <td>0.898862</td>\n",
       "      <td>0.254721</td>\n",
       "      <td>-0.276048</td>\n",
       "      <td>0.555033</td>\n",
       "      <td>0.110615</td>\n",
       "      <td>-0.392315</td>\n",
       "      <td>-0.057619</td>\n",
       "      <td>-0.018440</td>\n",
       "      <td>0.898828</td>\n",
       "    </tr>\n",
       "    <tr>\n",
       "      <th>TotalCharges</th>\n",
       "      <td>0.991904</td>\n",
       "      <td>0.303884</td>\n",
       "      <td>0.343088</td>\n",
       "      <td>-0.063003</td>\n",
       "      <td>0.926635</td>\n",
       "      <td>0.189992</td>\n",
       "      <td>0.088859</td>\n",
       "      <td>0.863115</td>\n",
       "      <td>0.148419</td>\n",
       "      <td>0.010720</td>\n",
       "      <td>0.898862</td>\n",
       "      <td>1.000000</td>\n",
       "      <td>0.337820</td>\n",
       "      <td>-0.297533</td>\n",
       "      <td>0.623964</td>\n",
       "      <td>0.122653</td>\n",
       "      <td>-0.407102</td>\n",
       "      <td>-0.039503</td>\n",
       "      <td>-0.001184</td>\n",
       "      <td>0.999999</td>\n",
       "    </tr>\n",
       "    <tr>\n",
       "      <th>Weight</th>\n",
       "      <td>0.349266</td>\n",
       "      <td>0.550236</td>\n",
       "      <td>0.458217</td>\n",
       "      <td>-0.097902</td>\n",
       "      <td>0.279954</td>\n",
       "      <td>0.070200</td>\n",
       "      <td>-0.001750</td>\n",
       "      <td>0.127370</td>\n",
       "      <td>0.027357</td>\n",
       "      <td>-0.119146</td>\n",
       "      <td>0.254721</td>\n",
       "      <td>0.337820</td>\n",
       "      <td>1.000000</td>\n",
       "      <td>0.157888</td>\n",
       "      <td>0.108698</td>\n",
       "      <td>0.331100</td>\n",
       "      <td>0.060957</td>\n",
       "      <td>-0.010406</td>\n",
       "      <td>0.004202</td>\n",
       "      <td>0.337848</td>\n",
       "    </tr>\n",
       "    <tr>\n",
       "      <th>Per Mile Charge</th>\n",
       "      <td>-0.292522</td>\n",
       "      <td>0.052611</td>\n",
       "      <td>0.151064</td>\n",
       "      <td>0.031835</td>\n",
       "      <td>-0.343450</td>\n",
       "      <td>0.015031</td>\n",
       "      <td>0.003749</td>\n",
       "      <td>-0.409559</td>\n",
       "      <td>0.002334</td>\n",
       "      <td>0.083674</td>\n",
       "      <td>-0.276048</td>\n",
       "      <td>-0.297533</td>\n",
       "      <td>0.157888</td>\n",
       "      <td>1.000000</td>\n",
       "      <td>-0.360761</td>\n",
       "      <td>0.578792</td>\n",
       "      <td>0.376948</td>\n",
       "      <td>0.007107</td>\n",
       "      <td>0.004964</td>\n",
       "      <td>-0.297559</td>\n",
       "    </tr>\n",
       "    <tr>\n",
       "      <th>Market Rates- DS, DAT</th>\n",
       "      <td>0.620590</td>\n",
       "      <td>0.116437</td>\n",
       "      <td>0.125370</td>\n",
       "      <td>-0.030949</td>\n",
       "      <td>0.618554</td>\n",
       "      <td>0.045559</td>\n",
       "      <td>0.025982</td>\n",
       "      <td>0.669841</td>\n",
       "      <td>0.081103</td>\n",
       "      <td>-0.065995</td>\n",
       "      <td>0.555033</td>\n",
       "      <td>0.623964</td>\n",
       "      <td>0.108698</td>\n",
       "      <td>-0.360761</td>\n",
       "      <td>1.000000</td>\n",
       "      <td>-0.125802</td>\n",
       "      <td>-0.275809</td>\n",
       "      <td>0.015482</td>\n",
       "      <td>0.047210</td>\n",
       "      <td>0.623948</td>\n",
       "    </tr>\n",
       "    <tr>\n",
       "      <th>Transportation Factor</th>\n",
       "      <td>0.121532</td>\n",
       "      <td>0.208407</td>\n",
       "      <td>0.293556</td>\n",
       "      <td>-0.073236</td>\n",
       "      <td>0.052896</td>\n",
       "      <td>0.092464</td>\n",
       "      <td>0.052125</td>\n",
       "      <td>-0.046869</td>\n",
       "      <td>0.055298</td>\n",
       "      <td>0.134017</td>\n",
       "      <td>0.110615</td>\n",
       "      <td>0.122653</td>\n",
       "      <td>0.331100</td>\n",
       "      <td>0.578792</td>\n",
       "      <td>-0.125802</td>\n",
       "      <td>1.000000</td>\n",
       "      <td>0.016777</td>\n",
       "      <td>-0.022391</td>\n",
       "      <td>0.007465</td>\n",
       "      <td>0.122646</td>\n",
       "    </tr>\n",
       "    <tr>\n",
       "      <th>Frequency</th>\n",
       "      <td>-0.396179</td>\n",
       "      <td>0.087267</td>\n",
       "      <td>0.086938</td>\n",
       "      <td>0.011473</td>\n",
       "      <td>-0.334572</td>\n",
       "      <td>-0.240959</td>\n",
       "      <td>-0.046428</td>\n",
       "      <td>-0.383797</td>\n",
       "      <td>-0.058245</td>\n",
       "      <td>-0.044583</td>\n",
       "      <td>-0.392315</td>\n",
       "      <td>-0.407102</td>\n",
       "      <td>0.060957</td>\n",
       "      <td>0.376948</td>\n",
       "      <td>-0.275809</td>\n",
       "      <td>0.016777</td>\n",
       "      <td>1.000000</td>\n",
       "      <td>0.033341</td>\n",
       "      <td>0.008328</td>\n",
       "      <td>-0.407121</td>\n",
       "    </tr>\n",
       "    <tr>\n",
       "      <th>year</th>\n",
       "      <td>-0.032770</td>\n",
       "      <td>-0.002200</td>\n",
       "      <td>-0.011765</td>\n",
       "      <td>0.006102</td>\n",
       "      <td>-0.052021</td>\n",
       "      <td>-0.010226</td>\n",
       "      <td>-0.022183</td>\n",
       "      <td>-0.010298</td>\n",
       "      <td>-0.030670</td>\n",
       "      <td>0.001678</td>\n",
       "      <td>-0.057619</td>\n",
       "      <td>-0.039503</td>\n",
       "      <td>-0.010406</td>\n",
       "      <td>0.007107</td>\n",
       "      <td>0.015482</td>\n",
       "      <td>-0.022391</td>\n",
       "      <td>0.033341</td>\n",
       "      <td>1.000000</td>\n",
       "      <td>-0.479895</td>\n",
       "      <td>-0.039490</td>\n",
       "    </tr>\n",
       "    <tr>\n",
       "      <th>month</th>\n",
       "      <td>0.003860</td>\n",
       "      <td>0.008745</td>\n",
       "      <td>-0.001540</td>\n",
       "      <td>-0.002557</td>\n",
       "      <td>-0.033522</td>\n",
       "      <td>0.016862</td>\n",
       "      <td>0.020527</td>\n",
       "      <td>-0.009043</td>\n",
       "      <td>0.012986</td>\n",
       "      <td>-0.019235</td>\n",
       "      <td>-0.018440</td>\n",
       "      <td>-0.001184</td>\n",
       "      <td>0.004202</td>\n",
       "      <td>0.004964</td>\n",
       "      <td>0.047210</td>\n",
       "      <td>0.007465</td>\n",
       "      <td>0.008328</td>\n",
       "      <td>-0.479895</td>\n",
       "      <td>1.000000</td>\n",
       "      <td>-0.001148</td>\n",
       "    </tr>\n",
       "    <tr>\n",
       "      <th>Fuel_Fee</th>\n",
       "      <td>0.991912</td>\n",
       "      <td>0.303925</td>\n",
       "      <td>0.343144</td>\n",
       "      <td>-0.063009</td>\n",
       "      <td>0.926594</td>\n",
       "      <td>0.190013</td>\n",
       "      <td>0.088879</td>\n",
       "      <td>0.863088</td>\n",
       "      <td>0.148381</td>\n",
       "      <td>0.010715</td>\n",
       "      <td>0.898828</td>\n",
       "      <td>0.999999</td>\n",
       "      <td>0.337848</td>\n",
       "      <td>-0.297559</td>\n",
       "      <td>0.623948</td>\n",
       "      <td>0.122646</td>\n",
       "      <td>-0.407121</td>\n",
       "      <td>-0.039490</td>\n",
       "      <td>-0.001148</td>\n",
       "      <td>1.000000</td>\n",
       "    </tr>\n",
       "  </tbody>\n",
       "</table>\n",
       "</div>"
      ],
      "text/plain": [
       "                       BaseRate     Cases      Cube  Detention      Fuel  Handling   Layover  LoadMiles  OtherAccessorial  StopCharges  TotalAccessorial  TotalCharges    Weight  Per Mile Charge  Market Rates- DS, DAT  Transportation Factor  Frequency      year     month  Fuel_Fee\n",
       "BaseRate               1.000000  0.310120  0.355674  -0.065116  0.904349  0.124680  0.047784   0.844192          0.091497    -0.012313          0.835937      0.991904  0.349266        -0.292522               0.620590               0.121532  -0.396179 -0.032770  0.003860  0.991912\n",
       "Cases                  0.310120  1.000000  0.696971  -0.076526  0.276160  0.040093  0.002816   0.167989          0.003573    -0.056054          0.243131      0.303884  0.550236         0.052611               0.116437               0.208407   0.087267 -0.002200  0.008745  0.303925\n",
       "Cube                   0.355674  0.696971  1.000000  -0.089236  0.287437  0.063535  0.008403   0.158208         -0.003409    -0.103229          0.255360      0.343088  0.458217         0.151064               0.125370               0.293556   0.086938 -0.011765 -0.001540  0.343144\n",
       "Detention             -0.065116 -0.076526 -0.089236   1.000000 -0.050173 -0.017732 -0.003002  -0.044132          0.005656    -0.003510         -0.041935     -0.063003 -0.097902         0.031835              -0.030949              -0.073236   0.011473  0.006102 -0.002557 -0.063009\n",
       "Fuel                   0.904349  0.276160  0.287437  -0.050173  1.000000  0.033125  0.036900   0.933326          0.097927    -0.020643          0.883927      0.926635  0.279954        -0.343450               0.618554               0.052896  -0.334572 -0.052021 -0.033522  0.926594\n",
       "Handling               0.124680  0.040093  0.063535  -0.017732  0.033125  1.000000  0.049117   0.013597          0.034516    -0.020011          0.390805      0.189992  0.070200         0.015031               0.045559               0.092464  -0.240959 -0.010226  0.016862  0.190013\n",
       "Layover                0.047784  0.002816  0.008403  -0.003002  0.036900  0.049117  1.000000   0.037057          0.056197     0.001667          0.219111      0.088859 -0.001750         0.003749               0.025982               0.052125  -0.046428 -0.022183  0.020527  0.088879\n",
       "LoadMiles              0.844192  0.167989  0.158208  -0.044132  0.933326  0.013597  0.037057   1.000000          0.092549    -0.045072          0.816983      0.863115  0.127370        -0.409559               0.669841              -0.046869  -0.383797 -0.010298 -0.009043  0.863088\n",
       "OtherAccessorial       0.091497  0.003573 -0.003409   0.005656  0.097927  0.034516  0.056197   0.092549          1.000000     0.050516          0.325740      0.148419  0.027357         0.002334               0.081103               0.055298  -0.058245 -0.030670  0.012986  0.148381\n",
       "StopCharges           -0.012313 -0.056054 -0.103229  -0.003510 -0.020643 -0.020011  0.001667  -0.045072          0.050516     1.000000          0.088801      0.010720 -0.119146         0.083674              -0.065995               0.134017  -0.044583  0.001678 -0.019235  0.010715\n",
       "TotalAccessorial       0.835937  0.243131  0.255360  -0.041935  0.883927  0.390805  0.219111   0.816983          0.325740     0.088801          1.000000      0.898862  0.254721        -0.276048               0.555033               0.110615  -0.392315 -0.057619 -0.018440  0.898828\n",
       "TotalCharges           0.991904  0.303884  0.343088  -0.063003  0.926635  0.189992  0.088859   0.863115          0.148419     0.010720          0.898862      1.000000  0.337820        -0.297533               0.623964               0.122653  -0.407102 -0.039503 -0.001184  0.999999\n",
       "Weight                 0.349266  0.550236  0.458217  -0.097902  0.279954  0.070200 -0.001750   0.127370          0.027357    -0.119146          0.254721      0.337820  1.000000         0.157888               0.108698               0.331100   0.060957 -0.010406  0.004202  0.337848\n",
       "Per Mile Charge       -0.292522  0.052611  0.151064   0.031835 -0.343450  0.015031  0.003749  -0.409559          0.002334     0.083674         -0.276048     -0.297533  0.157888         1.000000              -0.360761               0.578792   0.376948  0.007107  0.004964 -0.297559\n",
       "Market Rates- DS, DAT  0.620590  0.116437  0.125370  -0.030949  0.618554  0.045559  0.025982   0.669841          0.081103    -0.065995          0.555033      0.623964  0.108698        -0.360761               1.000000              -0.125802  -0.275809  0.015482  0.047210  0.623948\n",
       "Transportation Factor  0.121532  0.208407  0.293556  -0.073236  0.052896  0.092464  0.052125  -0.046869          0.055298     0.134017          0.110615      0.122653  0.331100         0.578792              -0.125802               1.000000   0.016777 -0.022391  0.007465  0.122646\n",
       "Frequency             -0.396179  0.087267  0.086938   0.011473 -0.334572 -0.240959 -0.046428  -0.383797         -0.058245    -0.044583         -0.392315     -0.407102  0.060957         0.376948              -0.275809               0.016777   1.000000  0.033341  0.008328 -0.407121\n",
       "year                  -0.032770 -0.002200 -0.011765   0.006102 -0.052021 -0.010226 -0.022183  -0.010298         -0.030670     0.001678         -0.057619     -0.039503 -0.010406         0.007107               0.015482              -0.022391   0.033341  1.000000 -0.479895 -0.039490\n",
       "month                  0.003860  0.008745 -0.001540  -0.002557 -0.033522  0.016862  0.020527  -0.009043          0.012986    -0.019235         -0.018440     -0.001184  0.004202         0.004964               0.047210               0.007465   0.008328 -0.479895  1.000000 -0.001148\n",
       "Fuel_Fee               0.991912  0.303925  0.343144  -0.063009  0.926594  0.190013  0.088879   0.863088          0.148381     0.010715          0.898828      0.999999  0.337848        -0.297559               0.623948               0.122646  -0.407121 -0.039490 -0.001148  1.000000"
      ]
     },
     "execution_count": 68,
     "metadata": {},
     "output_type": "execute_result"
    }
   ],
   "source": [
    "corrMatrix=df4_TL.select_dtypes(include=['float64','int64']).corr()\n",
    "corrMatrix"
   ]
  },
  {
   "cell_type": "markdown",
   "metadata": {},
   "source": [
    "the correlation matrix for the columns with float64 or int64 data type"
   ]
  },
  {
   "cell_type": "code",
   "execution_count": 69,
   "metadata": {},
   "outputs": [
    {
     "data": {
      "text/plain": [
       "<matplotlib.axes._subplots.AxesSubplot at 0x1eb9ea6eda0>"
      ]
     },
     "execution_count": 69,
     "metadata": {},
     "output_type": "execute_result"
    },
    {
     "data": {
      "image/png": "[encoded data removed]",
      "text/plain": [
       "<Figure size 1080x720 with 2 Axes>"
      ]
     },
     "metadata": {
      "needs_background": "light"
     },
     "output_type": "display_data"
    }
   ],
   "source": [
    "import matplotlib.pyplot as plt\n",
    "import seaborn as sn\n",
    "\n",
    "plt.figure(figsize=(15, 10))\n",
    "corrMatrix=df4_TL.select_dtypes(include=['float64','int64']).corr()\n",
    "sn.heatmap(corrMatrix, annot=True)"
   ]
  },
  {
   "cell_type": "code",
   "execution_count": 70,
   "metadata": {},
   "outputs": [
    {
     "data": {
      "text/plain": [
       "<matplotlib.axes._subplots.AxesSubplot at 0x1eb9307fe80>"
      ]
     },
     "execution_count": 70,
     "metadata": {},
     "output_type": "execute_result"
    },
    {
     "data": {
      "image/png": "[encoded data removed]",
      "text/plain": [
       "<Figure size 1080x720 with 2 Axes>"
      ]
     },
     "metadata": {
      "needs_background": "light"
     },
     "output_type": "display_data"
    }
   ],
   "source": [
    "plt.figure(figsize=(15, 10))\n",
    "corrMatrix=df4.select_dtypes(include=['float64','int64']).corr()\n",
    "sn.heatmap(corrMatrix, annot=True)"
   ]
  },
  {
   "cell_type": "markdown",
   "metadata": {},
   "source": [
    "conclusion:We can see that there are a number of factors that can affect BaseRate,cases, cube, fuel, loadmiles,totalaccessorial"
   ]
  },
  {
   "cell_type": "markdown",
   "metadata": {},
   "source": [
    "### 4.3 The data were divided into four seasons: spring, summer, autumn and winter"
   ]
  },
  {
   "cell_type": "code",
   "execution_count": 210,
   "metadata": {},
   "outputs": [],
   "source": [
    "dfa=df4_TL[(df4_TL.month==3)|(df4_TL.month==4)|(df4_TL.month==5)]"
   ]
  },
  {
   "cell_type": "code",
   "execution_count": 211,
   "metadata": {},
   "outputs": [
    {
     "data": {
      "text/plain": [
       "(14414, 30)"
      ]
     },
     "execution_count": 211,
     "metadata": {},
     "output_type": "execute_result"
    }
   ],
   "source": [
    "dfa.shape"
   ]
  },
  {
   "cell_type": "code",
   "execution_count": 212,
   "metadata": {},
   "outputs": [],
   "source": [
    "dfa2=df4[(df4.month==3)|(df4.month==4)|(df4.month==5)]"
   ]
  },
  {
   "cell_type": "code",
   "execution_count": 213,
   "metadata": {},
   "outputs": [
    {
     "data": {
      "text/plain": [
       "(9759, 33)"
      ]
     },
     "execution_count": 213,
     "metadata": {},
     "output_type": "execute_result"
    }
   ],
   "source": [
    "dfa2.shape"
   ]
  },
  {
   "cell_type": "code",
   "execution_count": 214,
   "metadata": {},
   "outputs": [],
   "source": [
    "dfb=df4_TL[(df4_TL.month==6)|(df4_TL.month==7)|(df4_TL.month==8)]"
   ]
  },
  {
   "cell_type": "code",
   "execution_count": 215,
   "metadata": {},
   "outputs": [
    {
     "data": {
      "text/plain": [
       "(13825, 30)"
      ]
     },
     "execution_count": 215,
     "metadata": {},
     "output_type": "execute_result"
    }
   ],
   "source": [
    "dfb.shape"
   ]
  },
  {
   "cell_type": "code",
   "execution_count": 216,
   "metadata": {},
   "outputs": [],
   "source": [
    "dfb2=df4[(df4.month==6)|(df4.month==7)|(df4.month==8)]"
   ]
  },
  {
   "cell_type": "code",
   "execution_count": 217,
   "metadata": {},
   "outputs": [
    {
     "data": {
      "text/plain": [
       "(7905, 33)"
      ]
     },
     "execution_count": 217,
     "metadata": {},
     "output_type": "execute_result"
    }
   ],
   "source": [
    "dfb2.shape"
   ]
  },
  {
   "cell_type": "code",
   "execution_count": 218,
   "metadata": {},
   "outputs": [],
   "source": [
    "dfc=df4_TL[(df4_TL.month==9)|(df4_TL.month==10)|(df4_TL.month==11)]"
   ]
  },
  {
   "cell_type": "code",
   "execution_count": 219,
   "metadata": {},
   "outputs": [
    {
     "data": {
      "text/plain": [
       "(14434, 30)"
      ]
     },
     "execution_count": 219,
     "metadata": {},
     "output_type": "execute_result"
    }
   ],
   "source": [
    "dfc.shape"
   ]
  },
  {
   "cell_type": "code",
   "execution_count": 220,
   "metadata": {},
   "outputs": [],
   "source": [
    "dfc2=df4[(df4.month==9)|(df4.month==10)|(df4.month==11)]"
   ]
  },
  {
   "cell_type": "code",
   "execution_count": 221,
   "metadata": {},
   "outputs": [
    {
     "data": {
      "text/plain": [
       "(8093, 33)"
      ]
     },
     "execution_count": 221,
     "metadata": {},
     "output_type": "execute_result"
    }
   ],
   "source": [
    "dfc2.shape"
   ]
  },
  {
   "cell_type": "code",
   "execution_count": 222,
   "metadata": {},
   "outputs": [],
   "source": [
    "dfd=df4_TL[(df4_TL.month==12)|(df4_TL.month==1)|(df4_TL.month==2)]"
   ]
  },
  {
   "cell_type": "code",
   "execution_count": 223,
   "metadata": {},
   "outputs": [
    {
     "data": {
      "text/plain": [
       "(12810, 30)"
      ]
     },
     "execution_count": 223,
     "metadata": {},
     "output_type": "execute_result"
    }
   ],
   "source": [
    "dfd.shape"
   ]
  },
  {
   "cell_type": "code",
   "execution_count": 224,
   "metadata": {},
   "outputs": [],
   "source": [
    "dfd2=df4[(df4.month==12)|(df4.month==1)|(df4.month==2)]"
   ]
  },
  {
   "cell_type": "code",
   "execution_count": 225,
   "metadata": {},
   "outputs": [
    {
     "data": {
      "text/plain": [
       "(8685, 33)"
      ]
     },
     "execution_count": 225,
     "metadata": {},
     "output_type": "execute_result"
    }
   ],
   "source": [
    "dfd2.shape"
   ]
  },
  {
   "cell_type": "markdown",
   "metadata": {},
   "source": [
    "### 4.4 Predict the BaseRate for each season"
   ]
  },
  {
   "cell_type": "markdown",
   "metadata": {},
   "source": [
    "#### 4.4.1 Spring（3，4，5）"
   ]
  },
  {
   "cell_type": "code",
   "execution_count": 226,
   "metadata": {},
   "outputs": [
    {
     "name": "stdout",
     "output_type": "stream",
     "text": [
      "the intercept: 108.25093563446853\n",
      "the slope: [-1.24028472e-01  7.87677888e-02  3.20162598e+00  3.51678703e-02\n",
      "  8.38542315e-03 -8.28056830e-02  3.56656262e+01 -6.40236638e-02\n",
      " -7.63509985e-02]\n"
     ]
    }
   ],
   "source": [
    "X = dfa2[['Cases','Cube','Fuel','LoadMiles','Weight','Frequency','Per Mile Charge','Total_pop','Pop_emp']]\n",
    "y = dfa2['BaseRate'].values\n",
    "#Next, we split 80% of the data to the training set while 20% of the data to test set using below code.\n",
    "X_train, X_test, y_train, y_test = train_test_split(X, y, test_size=0.2, random_state=0)\n",
    "#Now lets train our model.\n",
    "regressor = LinearRegression()  \n",
    "regressor.fit(X_train, y_train)\n",
    "#To retrieve the intercept:\n",
    "print(\"the intercept:\",regressor.intercept_)\n",
    "#For retrieving the slope:\n",
    "print(\"the slope:\",regressor.coef_)"
   ]
  },
  {
   "cell_type": "code",
   "execution_count": 227,
   "metadata": {
    "scrolled": true
   },
   "outputs": [
    {
     "data": {
      "text/html": [
       "<div>\n",
       "<style scoped>\n",
       "    .dataframe tbody tr th:only-of-type {\n",
       "        vertical-align: middle;\n",
       "    }\n",
       "\n",
       "    .dataframe tbody tr th {\n",
       "        vertical-align: top;\n",
       "    }\n",
       "\n",
       "    .dataframe thead th {\n",
       "        text-align: right;\n",
       "    }\n",
       "</style>\n",
       "<table border=\"1\" class=\"dataframe\">\n",
       "  <thead>\n",
       "    <tr style=\"text-align: right;\">\n",
       "      <th></th>\n",
       "      <th>Coefficients</th>\n",
       "    </tr>\n",
       "  </thead>\n",
       "  <tbody>\n",
       "    <tr>\n",
       "      <th>Cases</th>\n",
       "      <td>-0.124028</td>\n",
       "    </tr>\n",
       "    <tr>\n",
       "      <th>Cube</th>\n",
       "      <td>0.078768</td>\n",
       "    </tr>\n",
       "    <tr>\n",
       "      <th>Fuel</th>\n",
       "      <td>3.201626</td>\n",
       "    </tr>\n",
       "    <tr>\n",
       "      <th>LoadMiles</th>\n",
       "      <td>0.035168</td>\n",
       "    </tr>\n",
       "    <tr>\n",
       "      <th>Weight</th>\n",
       "      <td>0.008385</td>\n",
       "    </tr>\n",
       "    <tr>\n",
       "      <th>Frequency</th>\n",
       "      <td>-0.082806</td>\n",
       "    </tr>\n",
       "    <tr>\n",
       "      <th>Per Mile Charge</th>\n",
       "      <td>35.665626</td>\n",
       "    </tr>\n",
       "    <tr>\n",
       "      <th>Total_pop</th>\n",
       "      <td>-0.064024</td>\n",
       "    </tr>\n",
       "    <tr>\n",
       "      <th>Pop_emp</th>\n",
       "      <td>-0.076351</td>\n",
       "    </tr>\n",
       "  </tbody>\n",
       "</table>\n",
       "</div>"
      ],
      "text/plain": [
       "                 Coefficients\n",
       "Cases               -0.124028\n",
       "Cube                 0.078768\n",
       "Fuel                 3.201626\n",
       "LoadMiles            0.035168\n",
       "Weight               0.008385\n",
       "Frequency           -0.082806\n",
       "Per Mile Charge     35.665626\n",
       "Total_pop           -0.064024\n",
       "Pop_emp             -0.076351"
      ]
     },
     "execution_count": 227,
     "metadata": {},
     "output_type": "execute_result"
    }
   ],
   "source": [
    "coeff_df = pd.DataFrame(regressor.coef_, X.columns, columns=['Coefficients'])\n",
    "coeff_df"
   ]
  },
  {
   "cell_type": "code",
   "execution_count": 228,
   "metadata": {},
   "outputs": [
    {
     "data": {
      "text/html": [
       "<div>\n",
       "<style scoped>\n",
       "    .dataframe tbody tr th:only-of-type {\n",
       "        vertical-align: middle;\n",
       "    }\n",
       "\n",
       "    .dataframe tbody tr th {\n",
       "        vertical-align: top;\n",
       "    }\n",
       "\n",
       "    .dataframe thead th {\n",
       "        text-align: right;\n",
       "    }\n",
       "</style>\n",
       "<table border=\"1\" class=\"dataframe\">\n",
       "  <thead>\n",
       "    <tr style=\"text-align: right;\">\n",
       "      <th></th>\n",
       "      <th>Actual</th>\n",
       "      <th>Predicted</th>\n",
       "    </tr>\n",
       "  </thead>\n",
       "  <tbody>\n",
       "    <tr>\n",
       "      <th>0</th>\n",
       "      <td>650.00</td>\n",
       "      <td>582.787565</td>\n",
       "    </tr>\n",
       "    <tr>\n",
       "      <th>1</th>\n",
       "      <td>2592.46</td>\n",
       "      <td>2823.691499</td>\n",
       "    </tr>\n",
       "    <tr>\n",
       "      <th>2</th>\n",
       "      <td>1099.40</td>\n",
       "      <td>1219.867503</td>\n",
       "    </tr>\n",
       "    <tr>\n",
       "      <th>3</th>\n",
       "      <td>700.00</td>\n",
       "      <td>610.077574</td>\n",
       "    </tr>\n",
       "    <tr>\n",
       "      <th>4</th>\n",
       "      <td>869.20</td>\n",
       "      <td>1081.811929</td>\n",
       "    </tr>\n",
       "    <tr>\n",
       "      <th>5</th>\n",
       "      <td>869.20</td>\n",
       "      <td>1154.095345</td>\n",
       "    </tr>\n",
       "    <tr>\n",
       "      <th>6</th>\n",
       "      <td>2504.32</td>\n",
       "      <td>2138.415096</td>\n",
       "    </tr>\n",
       "    <tr>\n",
       "      <th>7</th>\n",
       "      <td>0.84</td>\n",
       "      <td>93.140632</td>\n",
       "    </tr>\n",
       "    <tr>\n",
       "      <th>8</th>\n",
       "      <td>44.96</td>\n",
       "      <td>79.340530</td>\n",
       "    </tr>\n",
       "    <tr>\n",
       "      <th>9</th>\n",
       "      <td>1720.00</td>\n",
       "      <td>2306.937466</td>\n",
       "    </tr>\n",
       "    <tr>\n",
       "      <th>10</th>\n",
       "      <td>791.34</td>\n",
       "      <td>536.537232</td>\n",
       "    </tr>\n",
       "    <tr>\n",
       "      <th>11</th>\n",
       "      <td>491.38</td>\n",
       "      <td>666.608380</td>\n",
       "    </tr>\n",
       "    <tr>\n",
       "      <th>12</th>\n",
       "      <td>2.19</td>\n",
       "      <td>95.228325</td>\n",
       "    </tr>\n",
       "    <tr>\n",
       "      <th>13</th>\n",
       "      <td>1260.27</td>\n",
       "      <td>1033.819201</td>\n",
       "    </tr>\n",
       "    <tr>\n",
       "      <th>14</th>\n",
       "      <td>2332.44</td>\n",
       "      <td>2139.426650</td>\n",
       "    </tr>\n",
       "    <tr>\n",
       "      <th>15</th>\n",
       "      <td>300.00</td>\n",
       "      <td>410.484994</td>\n",
       "    </tr>\n",
       "    <tr>\n",
       "      <th>16</th>\n",
       "      <td>362.12</td>\n",
       "      <td>299.474567</td>\n",
       "    </tr>\n",
       "    <tr>\n",
       "      <th>17</th>\n",
       "      <td>16.04</td>\n",
       "      <td>-30.901453</td>\n",
       "    </tr>\n",
       "    <tr>\n",
       "      <th>18</th>\n",
       "      <td>41.32</td>\n",
       "      <td>-8.648174</td>\n",
       "    </tr>\n",
       "    <tr>\n",
       "      <th>19</th>\n",
       "      <td>649.81</td>\n",
       "      <td>756.372930</td>\n",
       "    </tr>\n",
       "    <tr>\n",
       "      <th>20</th>\n",
       "      <td>596.89</td>\n",
       "      <td>396.843012</td>\n",
       "    </tr>\n",
       "    <tr>\n",
       "      <th>21</th>\n",
       "      <td>788.83</td>\n",
       "      <td>950.576639</td>\n",
       "    </tr>\n",
       "    <tr>\n",
       "      <th>22</th>\n",
       "      <td>10.89</td>\n",
       "      <td>-37.774681</td>\n",
       "    </tr>\n",
       "    <tr>\n",
       "      <th>23</th>\n",
       "      <td>960.42</td>\n",
       "      <td>1108.568219</td>\n",
       "    </tr>\n",
       "    <tr>\n",
       "      <th>24</th>\n",
       "      <td>7.20</td>\n",
       "      <td>-138.016530</td>\n",
       "    </tr>\n",
       "  </tbody>\n",
       "</table>\n",
       "</div>"
      ],
      "text/plain": [
       "     Actual    Predicted\n",
       "0    650.00   582.787565\n",
       "1   2592.46  2823.691499\n",
       "2   1099.40  1219.867503\n",
       "3    700.00   610.077574\n",
       "4    869.20  1081.811929\n",
       "5    869.20  1154.095345\n",
       "6   2504.32  2138.415096\n",
       "7      0.84    93.140632\n",
       "8     44.96    79.340530\n",
       "9   1720.00  2306.937466\n",
       "10   791.34   536.537232\n",
       "11   491.38   666.608380\n",
       "12     2.19    95.228325\n",
       "13  1260.27  1033.819201\n",
       "14  2332.44  2139.426650\n",
       "15   300.00   410.484994\n",
       "16   362.12   299.474567\n",
       "17    16.04   -30.901453\n",
       "18    41.32    -8.648174\n",
       "19   649.81   756.372930\n",
       "20   596.89   396.843012\n",
       "21   788.83   950.576639\n",
       "22    10.89   -37.774681\n",
       "23   960.42  1108.568219\n",
       "24     7.20  -138.016530"
      ]
     },
     "execution_count": 228,
     "metadata": {},
     "output_type": "execute_result"
    }
   ],
   "source": [
    "y_pred = regressor.predict(X_test)\n",
    "dff=pd.DataFrame({'Actual': y_test, 'Predicted': y_pred  })\n",
    "dff1=dff.head(25)\n",
    "dff1"
   ]
  },
  {
   "cell_type": "code",
   "execution_count": 229,
   "metadata": {},
   "outputs": [
    {
     "data": {
      "image/png": "[encoded data removed]",
      "text/plain": [
       "<Figure size 720x576 with 1 Axes>"
      ]
     },
     "metadata": {
      "needs_background": "light"
     },
     "output_type": "display_data"
    }
   ],
   "source": [
    "dff1.plot(kind='bar',figsize=(10,8))\n",
    "plt.grid(which='major', linestyle='-', linewidth='0.5', color='green')\n",
    "plt.grid(which='minor', linestyle=':', linewidth='0.5', color='black')\n",
    "plt.show()"
   ]
  },
  {
   "cell_type": "code",
   "execution_count": 230,
   "metadata": {},
   "outputs": [
    {
     "name": "stdout",
     "output_type": "stream",
     "text": [
      "r squared : 0.8847406802283853\n",
      "Mean Absolute Error: 180.4814417508228\n",
      "Mean Squared Error: 57573.37898552366\n",
      "Root Mean Squared Error: 239.94453314364898\n"
     ]
    }
   ],
   "source": [
    "y_pred = regressor.predict(X_test)\n",
    "print('r squared :',r2_score(y_test,y_pred))\n",
    "print('Mean Absolute Error:', metrics.mean_absolute_error(y_test, y_pred))  \n",
    "print('Mean Squared Error:', metrics.mean_squared_error(y_test, y_pred))  \n",
    "print('Root Mean Squared Error:', np.sqrt(metrics.mean_squared_error(y_test, y_pred)))"
   ]
  },
  {
   "cell_type": "markdown",
   "metadata": {},
   "source": [
    "#### Conclusion:BaseRate=-0.04cases+0.1cube+3.18fuel-0.03LoadMiles-0.15frequency+2.23Per Mile Charge+184.5"
   ]
  },
  {
   "cell_type": "markdown",
   "metadata": {},
   "source": [
    "##### Consider the Fuel"
   ]
  },
  {
   "cell_type": "code",
   "execution_count": 231,
   "metadata": {},
   "outputs": [
    {
     "name": "stdout",
     "output_type": "stream",
     "text": [
      "the intercept: -80.56416836123549\n",
      "the slope: [0.00299093 0.00383216 0.20816467 0.00075002 0.01747389 0.09783572]\n"
     ]
    }
   ],
   "source": [
    "X = dfa[['Cases','Cube','LoadMiles','Weight','Frequency','Fuel_Fee']]\n",
    "y = dfa['Fuel'].values\n",
    "#Next, we split 80% of the data to the training set while 20% of the data to test set using below code.\n",
    "X_train, X_test, y_train, y_test = train_test_split(X, y, test_size=0.2, random_state=0)\n",
    "#Now lets train our model.\n",
    "regressor = LinearRegression()  \n",
    "regressor.fit(X_train, y_train)\n",
    "#To retrieve the intercept:\n",
    "print(\"the intercept:\",regressor.intercept_)\n",
    "#For retrieving the slope:\n",
    "print(\"the slope:\",regressor.coef_)"
   ]
  },
  {
   "cell_type": "code",
   "execution_count": 232,
   "metadata": {},
   "outputs": [
    {
     "data": {
      "text/html": [
       "<div>\n",
       "<style scoped>\n",
       "    .dataframe tbody tr th:only-of-type {\n",
       "        vertical-align: middle;\n",
       "    }\n",
       "\n",
       "    .dataframe tbody tr th {\n",
       "        vertical-align: top;\n",
       "    }\n",
       "\n",
       "    .dataframe thead th {\n",
       "        text-align: right;\n",
       "    }\n",
       "</style>\n",
       "<table border=\"1\" class=\"dataframe\">\n",
       "  <thead>\n",
       "    <tr style=\"text-align: right;\">\n",
       "      <th></th>\n",
       "      <th>Coefficients</th>\n",
       "    </tr>\n",
       "  </thead>\n",
       "  <tbody>\n",
       "    <tr>\n",
       "      <th>Cases</th>\n",
       "      <td>0.002991</td>\n",
       "    </tr>\n",
       "    <tr>\n",
       "      <th>Cube</th>\n",
       "      <td>0.003832</td>\n",
       "    </tr>\n",
       "    <tr>\n",
       "      <th>LoadMiles</th>\n",
       "      <td>0.208165</td>\n",
       "    </tr>\n",
       "    <tr>\n",
       "      <th>Weight</th>\n",
       "      <td>0.000750</td>\n",
       "    </tr>\n",
       "    <tr>\n",
       "      <th>Frequency</th>\n",
       "      <td>0.017474</td>\n",
       "    </tr>\n",
       "    <tr>\n",
       "      <th>Fuel_Fee</th>\n",
       "      <td>0.097836</td>\n",
       "    </tr>\n",
       "  </tbody>\n",
       "</table>\n",
       "</div>"
      ],
      "text/plain": [
       "           Coefficients\n",
       "Cases          0.002991\n",
       "Cube           0.003832\n",
       "LoadMiles      0.208165\n",
       "Weight         0.000750\n",
       "Frequency      0.017474\n",
       "Fuel_Fee       0.097836"
      ]
     },
     "execution_count": 232,
     "metadata": {},
     "output_type": "execute_result"
    }
   ],
   "source": [
    "coeff_df = pd.DataFrame(regressor.coef_, X.columns, columns=['Coefficients'])\n",
    "coeff_df"
   ]
  },
  {
   "cell_type": "code",
   "execution_count": 233,
   "metadata": {},
   "outputs": [
    {
     "name": "stdout",
     "output_type": "stream",
     "text": [
      "r squared : 0.9474702631854132\n",
      "Mean Absolute Error: 29.87232435801521\n",
      "Mean Squared Error: 2104.644144488171\n",
      "Root Mean Squared Error: 45.8764007359794\n"
     ]
    }
   ],
   "source": [
    "y_pred = regressor.predict(X_test)\n",
    "print('r squared :',r2_score(y_test,y_pred))\n",
    "print('Mean Absolute Error:', metrics.mean_absolute_error(y_test, y_pred))  \n",
    "print('Mean Squared Error:', metrics.mean_squared_error(y_test, y_pred))  \n",
    "print('Root Mean Squared Error:', np.sqrt(metrics.mean_squared_error(y_test, y_pred)))"
   ]
  },
  {
   "cell_type": "markdown",
   "metadata": {},
   "source": [
    "#### Conclusion:Fule=0.21LoadMiles+0.017Frequency+0.09Fuel_Fee-80.56"
   ]
  },
  {
   "cell_type": "markdown",
   "metadata": {},
   "source": [
    "#### final Conclusion: Totalcharge=-0.04cases+0.1cube+0.56LoadMiles0.08frequency+0.46LoadMiles*Per Mile Charge+2.23PerMileCharge+Handling+Layover+StopCharges+OtherAccessorial+152\n",
    "#### Fuel_Fee=LoadMiles*Per Mile Charge"
   ]
  },
  {
   "cell_type": "markdown",
   "metadata": {},
   "source": [
    "#### Consider external factors for comparison"
   ]
  },
  {
   "cell_type": "code",
   "execution_count": 234,
   "metadata": {},
   "outputs": [
    {
     "name": "stdout",
     "output_type": "stream",
     "text": [
      "the intercept: -0.00858844464255526\n",
      "the slope: [0.99491946 0.99245067 0.99490278 0.9949145  0.99490723 0.99492336\n",
      " 0.99491959 0.00508839]\n"
     ]
    }
   ],
   "source": [
    "X = dfa[['BaseRate','Detention','Fuel','Handling','Layover','StopCharges','OtherAccessorial','Fuel_Fee']]\n",
    "y = dfa['TotalCharges'].values\n",
    "#Next, we split 80% of the data to the training set while 20% of the data to test set using below code.\n",
    "X_train, X_test, y_train, y_test = train_test_split(X, y, test_size=0.2, random_state=0)\n",
    "#Now lets train our model.\n",
    "regressor = LinearRegression()  \n",
    "regressor.fit(X_train, y_train)\n",
    "#To retrieve the intercept:\n",
    "print(\"the intercept:\",regressor.intercept_)\n",
    "#For retrieving the slope:\n",
    "print(\"the slope:\",regressor.coef_)"
   ]
  },
  {
   "cell_type": "code",
   "execution_count": 235,
   "metadata": {},
   "outputs": [
    {
     "data": {
      "text/html": [
       "<div>\n",
       "<style scoped>\n",
       "    .dataframe tbody tr th:only-of-type {\n",
       "        vertical-align: middle;\n",
       "    }\n",
       "\n",
       "    .dataframe tbody tr th {\n",
       "        vertical-align: top;\n",
       "    }\n",
       "\n",
       "    .dataframe thead th {\n",
       "        text-align: right;\n",
       "    }\n",
       "</style>\n",
       "<table border=\"1\" class=\"dataframe\">\n",
       "  <thead>\n",
       "    <tr style=\"text-align: right;\">\n",
       "      <th></th>\n",
       "      <th>Coefficients</th>\n",
       "    </tr>\n",
       "  </thead>\n",
       "  <tbody>\n",
       "    <tr>\n",
       "      <th>BaseRate</th>\n",
       "      <td>0.994919</td>\n",
       "    </tr>\n",
       "    <tr>\n",
       "      <th>Detention</th>\n",
       "      <td>0.992451</td>\n",
       "    </tr>\n",
       "    <tr>\n",
       "      <th>Fuel</th>\n",
       "      <td>0.994903</td>\n",
       "    </tr>\n",
       "    <tr>\n",
       "      <th>Handling</th>\n",
       "      <td>0.994914</td>\n",
       "    </tr>\n",
       "    <tr>\n",
       "      <th>Layover</th>\n",
       "      <td>0.994907</td>\n",
       "    </tr>\n",
       "    <tr>\n",
       "      <th>StopCharges</th>\n",
       "      <td>0.994923</td>\n",
       "    </tr>\n",
       "    <tr>\n",
       "      <th>OtherAccessorial</th>\n",
       "      <td>0.994920</td>\n",
       "    </tr>\n",
       "    <tr>\n",
       "      <th>Fuel_Fee</th>\n",
       "      <td>0.005088</td>\n",
       "    </tr>\n",
       "  </tbody>\n",
       "</table>\n",
       "</div>"
      ],
      "text/plain": [
       "                  Coefficients\n",
       "BaseRate              0.994919\n",
       "Detention             0.992451\n",
       "Fuel                  0.994903\n",
       "Handling              0.994914\n",
       "Layover               0.994907\n",
       "StopCharges           0.994923\n",
       "OtherAccessorial      0.994920\n",
       "Fuel_Fee              0.005088"
      ]
     },
     "execution_count": 235,
     "metadata": {},
     "output_type": "execute_result"
    }
   ],
   "source": [
    "coeff_df = pd.DataFrame(regressor.coef_, X.columns, columns=['Coefficients'])\n",
    "coeff_df"
   ]
  },
  {
   "cell_type": "code",
   "execution_count": 236,
   "metadata": {},
   "outputs": [
    {
     "name": "stdout",
     "output_type": "stream",
     "text": [
      "r squared : 0.9999999968852412\n",
      "Mean Absolute Error: 0.008116283693174827\n",
      "Mean Squared Error: 0.002900086904719412\n",
      "Root Mean Squared Error: 0.0538524549553631\n"
     ]
    }
   ],
   "source": [
    "y_pred = regressor.predict(X_test)\n",
    "print('r squared :',r2_score(y_test,y_pred))\n",
    "print('Mean Absolute Error:', metrics.mean_absolute_error(y_test, y_pred))  \n",
    "print('Mean Squared Error:', metrics.mean_squared_error(y_test, y_pred))  \n",
    "print('Root Mean Squared Error:', np.sqrt(metrics.mean_squared_error(y_test, y_pred)))"
   ]
  },
  {
   "cell_type": "markdown",
   "metadata": {},
   "source": [
    "#### 4.4.2 Summer（6，7，8）"
   ]
  },
  {
   "cell_type": "code",
   "execution_count": 270,
   "metadata": {},
   "outputs": [
    {
     "name": "stdout",
     "output_type": "stream",
     "text": [
      "the intercept: 129.85189694252642\n",
      "the slope: [-0.0427345   0.12172733  2.84748204  0.19175305  0.00656535 -0.14709594\n",
      "  2.32746484]\n"
     ]
    }
   ],
   "source": [
    "X = dfb[['Cases','Cube','Fuel','LoadMiles','Weight','Frequency','Per Mile Charge']]\n",
    "y = dfb['BaseRate'].values\n",
    "#Next, we split 80% of the data to the training set while 20% of the data to test set using below code.\n",
    "X_train, X_test, y_train, y_test = train_test_split(X, y, test_size=0.2, random_state=0)\n",
    "#Now lets train our model.\n",
    "regressor = LinearRegression()  \n",
    "regressor.fit(X_train, y_train)\n",
    "#To retrieve the intercept:\n",
    "print(\"the intercept:\",regressor.intercept_)\n",
    "#For retrieving the slope:\n",
    "print(\"the slope:\",regressor.coef_)"
   ]
  },
  {
   "cell_type": "code",
   "execution_count": 271,
   "metadata": {},
   "outputs": [
    {
     "data": {
      "text/html": [
       "<div>\n",
       "<style scoped>\n",
       "    .dataframe tbody tr th:only-of-type {\n",
       "        vertical-align: middle;\n",
       "    }\n",
       "\n",
       "    .dataframe tbody tr th {\n",
       "        vertical-align: top;\n",
       "    }\n",
       "\n",
       "    .dataframe thead th {\n",
       "        text-align: right;\n",
       "    }\n",
       "</style>\n",
       "<table border=\"1\" class=\"dataframe\">\n",
       "  <thead>\n",
       "    <tr style=\"text-align: right;\">\n",
       "      <th></th>\n",
       "      <th>Coefficients</th>\n",
       "    </tr>\n",
       "  </thead>\n",
       "  <tbody>\n",
       "    <tr>\n",
       "      <th>Cases</th>\n",
       "      <td>-0.042735</td>\n",
       "    </tr>\n",
       "    <tr>\n",
       "      <th>Cube</th>\n",
       "      <td>0.121727</td>\n",
       "    </tr>\n",
       "    <tr>\n",
       "      <th>Fuel</th>\n",
       "      <td>2.847482</td>\n",
       "    </tr>\n",
       "    <tr>\n",
       "      <th>LoadMiles</th>\n",
       "      <td>0.191753</td>\n",
       "    </tr>\n",
       "    <tr>\n",
       "      <th>Weight</th>\n",
       "      <td>0.006565</td>\n",
       "    </tr>\n",
       "    <tr>\n",
       "      <th>Frequency</th>\n",
       "      <td>-0.147096</td>\n",
       "    </tr>\n",
       "    <tr>\n",
       "      <th>Per Mile Charge</th>\n",
       "      <td>2.327465</td>\n",
       "    </tr>\n",
       "  </tbody>\n",
       "</table>\n",
       "</div>"
      ],
      "text/plain": [
       "                 Coefficients\n",
       "Cases               -0.042735\n",
       "Cube                 0.121727\n",
       "Fuel                 2.847482\n",
       "LoadMiles            0.191753\n",
       "Weight               0.006565\n",
       "Frequency           -0.147096\n",
       "Per Mile Charge      2.327465"
      ]
     },
     "execution_count": 271,
     "metadata": {},
     "output_type": "execute_result"
    }
   ],
   "source": [
    "coeff_df = pd.DataFrame(regressor.coef_, X.columns, columns=['Coefficients'])\n",
    "coeff_df"
   ]
  },
  {
   "cell_type": "code",
   "execution_count": 272,
   "metadata": {},
   "outputs": [
    {
     "name": "stdout",
     "output_type": "stream",
     "text": [
      "r squared : 0.8481409422526258\n",
      "Mean Absolute Error: 215.67947802330625\n",
      "Mean Squared Error: 96978.90700921594\n",
      "Root Mean Squared Error: 311.41436545094695\n"
     ]
    }
   ],
   "source": [
    "from sklearn.metrics import accuracy_score, r2_score\n",
    "y_pred = regressor.predict(X_test)\n",
    "print('r squared :',r2_score(y_test,y_pred))\n",
    "print('Mean Absolute Error:', metrics.mean_absolute_error(y_test, y_pred))  \n",
    "print('Mean Squared Error:', metrics.mean_squared_error(y_test, y_pred))  \n",
    "print('Root Mean Squared Error:', np.sqrt(metrics.mean_squared_error(y_test, y_pred)))"
   ]
  },
  {
   "cell_type": "markdown",
   "metadata": {},
   "source": [
    "#### Conclusion:BaseRate=-0.04cases+0.1cube+3.18fuel-0.03LoadMiles-0.15frequency+2.23Per Mile Charge+184.5"
   ]
  },
  {
   "cell_type": "code",
   "execution_count": 240,
   "metadata": {},
   "outputs": [
    {
     "name": "stdout",
     "output_type": "stream",
     "text": [
      "the intercept: -69.18872752618549\n",
      "the slope: [0.00348998 0.00193927 0.19452377 0.00062104 0.0151632  0.08930827]\n"
     ]
    }
   ],
   "source": [
    "X = dfb[['Cases','Cube','LoadMiles','Weight','Frequency','Fuel_Fee']]\n",
    "y = dfb['Fuel'].values\n",
    "#Next, we split 80% of the data to the training set while 20% of the data to test set using below code.\n",
    "X_train, X_test, y_train, y_test = train_test_split(X, y, test_size=0.2, random_state=0)\n",
    "#Now lets train our model.\n",
    "regressor = LinearRegression()  \n",
    "regressor.fit(X_train, y_train)\n",
    "#To retrieve the intercept:\n",
    "print(\"the intercept:\",regressor.intercept_)\n",
    "#For retrieving the slope:\n",
    "print(\"the slope:\",regressor.coef_)"
   ]
  },
  {
   "cell_type": "code",
   "execution_count": 241,
   "metadata": {},
   "outputs": [
    {
     "data": {
      "text/html": [
       "<div>\n",
       "<style scoped>\n",
       "    .dataframe tbody tr th:only-of-type {\n",
       "        vertical-align: middle;\n",
       "    }\n",
       "\n",
       "    .dataframe tbody tr th {\n",
       "        vertical-align: top;\n",
       "    }\n",
       "\n",
       "    .dataframe thead th {\n",
       "        text-align: right;\n",
       "    }\n",
       "</style>\n",
       "<table border=\"1\" class=\"dataframe\">\n",
       "  <thead>\n",
       "    <tr style=\"text-align: right;\">\n",
       "      <th></th>\n",
       "      <th>Coefficients</th>\n",
       "    </tr>\n",
       "  </thead>\n",
       "  <tbody>\n",
       "    <tr>\n",
       "      <th>Cases</th>\n",
       "      <td>0.003490</td>\n",
       "    </tr>\n",
       "    <tr>\n",
       "      <th>Cube</th>\n",
       "      <td>0.001939</td>\n",
       "    </tr>\n",
       "    <tr>\n",
       "      <th>LoadMiles</th>\n",
       "      <td>0.194524</td>\n",
       "    </tr>\n",
       "    <tr>\n",
       "      <th>Weight</th>\n",
       "      <td>0.000621</td>\n",
       "    </tr>\n",
       "    <tr>\n",
       "      <th>Frequency</th>\n",
       "      <td>0.015163</td>\n",
       "    </tr>\n",
       "    <tr>\n",
       "      <th>Fuel_Fee</th>\n",
       "      <td>0.089308</td>\n",
       "    </tr>\n",
       "  </tbody>\n",
       "</table>\n",
       "</div>"
      ],
      "text/plain": [
       "           Coefficients\n",
       "Cases          0.003490\n",
       "Cube           0.001939\n",
       "LoadMiles      0.194524\n",
       "Weight         0.000621\n",
       "Frequency      0.015163\n",
       "Fuel_Fee       0.089308"
      ]
     },
     "execution_count": 241,
     "metadata": {},
     "output_type": "execute_result"
    }
   ],
   "source": [
    "coeff_df = pd.DataFrame(regressor.coef_, X.columns, columns=['Coefficients'])\n",
    "coeff_df"
   ]
  },
  {
   "cell_type": "code",
   "execution_count": 242,
   "metadata": {},
   "outputs": [
    {
     "name": "stdout",
     "output_type": "stream",
     "text": [
      "r squared : 0.9324426718813983\n",
      "Mean Absolute Error: 32.011791638082826\n",
      "Mean Squared Error: 2430.535489707883\n",
      "Root Mean Squared Error: 49.30046135390502\n"
     ]
    }
   ],
   "source": [
    "y_pred = regressor.predict(X_test)\n",
    "print('r squared :',r2_score(y_test,y_pred))\n",
    "print('Mean Absolute Error:', metrics.mean_absolute_error(y_test, y_pred))  \n",
    "print('Mean Squared Error:', metrics.mean_squared_error(y_test, y_pred))  \n",
    "print('Root Mean Squared Error:', np.sqrt(metrics.mean_squared_error(y_test, y_pred)))"
   ]
  },
  {
   "cell_type": "code",
   "execution_count": 243,
   "metadata": {},
   "outputs": [
    {
     "name": "stdout",
     "output_type": "stream",
     "text": [
      "the intercept: 0.1368782037513938\n",
      "the slope: [0.91762702 0.03303517 0.91815733 0.91774141 0.91777018 0.91763261\n",
      " 0.91765564 0.08221802]\n"
     ]
    }
   ],
   "source": [
    "X = dfb[['BaseRate','Detention','Fuel','Handling','Layover','StopCharges','OtherAccessorial','Fuel_Fee']]\n",
    "y = dfb['TotalCharges'].values\n",
    "#Next, we split 80% of the data to the training set while 20% of the data to test set using below code.\n",
    "X_train, X_test, y_train, y_test = train_test_split(X, y, test_size=0.2, random_state=0)\n",
    "#Now lets train our model.\n",
    "regressor = LinearRegression()  \n",
    "regressor.fit(X_train, y_train)\n",
    "#To retrieve the intercept:\n",
    "print(\"the intercept:\",regressor.intercept_)\n",
    "#For retrieving the slope:\n",
    "print(\"the slope:\",regressor.coef_)"
   ]
  },
  {
   "cell_type": "code",
   "execution_count": 244,
   "metadata": {},
   "outputs": [
    {
     "data": {
      "text/html": [
       "<div>\n",
       "<style scoped>\n",
       "    .dataframe tbody tr th:only-of-type {\n",
       "        vertical-align: middle;\n",
       "    }\n",
       "\n",
       "    .dataframe tbody tr th {\n",
       "        vertical-align: top;\n",
       "    }\n",
       "\n",
       "    .dataframe thead th {\n",
       "        text-align: right;\n",
       "    }\n",
       "</style>\n",
       "<table border=\"1\" class=\"dataframe\">\n",
       "  <thead>\n",
       "    <tr style=\"text-align: right;\">\n",
       "      <th></th>\n",
       "      <th>Coefficients</th>\n",
       "    </tr>\n",
       "  </thead>\n",
       "  <tbody>\n",
       "    <tr>\n",
       "      <th>BaseRate</th>\n",
       "      <td>0.917627</td>\n",
       "    </tr>\n",
       "    <tr>\n",
       "      <th>Detention</th>\n",
       "      <td>0.033035</td>\n",
       "    </tr>\n",
       "    <tr>\n",
       "      <th>Fuel</th>\n",
       "      <td>0.918157</td>\n",
       "    </tr>\n",
       "    <tr>\n",
       "      <th>Handling</th>\n",
       "      <td>0.917741</td>\n",
       "    </tr>\n",
       "    <tr>\n",
       "      <th>Layover</th>\n",
       "      <td>0.917770</td>\n",
       "    </tr>\n",
       "    <tr>\n",
       "      <th>StopCharges</th>\n",
       "      <td>0.917633</td>\n",
       "    </tr>\n",
       "    <tr>\n",
       "      <th>OtherAccessorial</th>\n",
       "      <td>0.917656</td>\n",
       "    </tr>\n",
       "    <tr>\n",
       "      <th>Fuel_Fee</th>\n",
       "      <td>0.082218</td>\n",
       "    </tr>\n",
       "  </tbody>\n",
       "</table>\n",
       "</div>"
      ],
      "text/plain": [
       "                  Coefficients\n",
       "BaseRate              0.917627\n",
       "Detention             0.033035\n",
       "Fuel                  0.918157\n",
       "Handling              0.917741\n",
       "Layover               0.917770\n",
       "StopCharges           0.917633\n",
       "OtherAccessorial      0.917656\n",
       "Fuel_Fee              0.082218"
      ]
     },
     "execution_count": 244,
     "metadata": {},
     "output_type": "execute_result"
    }
   ],
   "source": [
    "coeff_df = pd.DataFrame(regressor.coef_, X.columns, columns=['Coefficients'])\n",
    "coeff_df"
   ]
  },
  {
   "cell_type": "code",
   "execution_count": 245,
   "metadata": {},
   "outputs": [
    {
     "name": "stdout",
     "output_type": "stream",
     "text": [
      "r squared : 0.9999998394755417\n",
      "Mean Absolute Error: 0.14363521814561236\n",
      "Mean Squared Error: 0.15845196734088754\n",
      "Root Mean Squared Error: 0.3980602559172261\n"
     ]
    }
   ],
   "source": [
    "y_pred = regressor.predict(X_test)\n",
    "print('r squared :',r2_score(y_test,y_pred))\n",
    "print('Mean Absolute Error:', metrics.mean_absolute_error(y_test, y_pred))  \n",
    "print('Mean Squared Error:', metrics.mean_squared_error(y_test, y_pred))  \n",
    "print('Root Mean Squared Error:', np.sqrt(metrics.mean_squared_error(y_test, y_pred)))"
   ]
  },
  {
   "cell_type": "markdown",
   "metadata": {},
   "source": [
    "### 4.4.3 Fall（9,10,11）"
   ]
  },
  {
   "cell_type": "code",
   "execution_count": 246,
   "metadata": {},
   "outputs": [
    {
     "name": "stdout",
     "output_type": "stream",
     "text": [
      "the intercept: 35.95326823856658\n",
      "the slope: [-1.05016653e-01  1.23167213e-01  2.74013814e+00  2.14986717e-01\n",
      "  1.04312087e-02 -3.70677173e-02  2.97391129e+01 -3.50452315e-02\n",
      " -4.58505074e-02]\n"
     ]
    }
   ],
   "source": [
    "X = dfc2[['Cases','Cube','Fuel','LoadMiles','Weight','Frequency','Per Mile Charge','Total_pop','Pop_emp']]\n",
    "y = dfc2['BaseRate'].values\n",
    "#Next, we split 80% of the data to the training set while 20% of the data to test set using below code.\n",
    "X_train, X_test, y_train, y_test = train_test_split(X, y, test_size=0.2, random_state=0)\n",
    "#Now lets train our model.\n",
    "regressor = LinearRegression()  \n",
    "regressor.fit(X_train, y_train)\n",
    "#To retrieve the intercept:\n",
    "print(\"the intercept:\",regressor.intercept_)\n",
    "#For retrieving the slope:\n",
    "print(\"the slope:\",regressor.coef_)"
   ]
  },
  {
   "cell_type": "code",
   "execution_count": 247,
   "metadata": {},
   "outputs": [
    {
     "data": {
      "text/html": [
       "<div>\n",
       "<style scoped>\n",
       "    .dataframe tbody tr th:only-of-type {\n",
       "        vertical-align: middle;\n",
       "    }\n",
       "\n",
       "    .dataframe tbody tr th {\n",
       "        vertical-align: top;\n",
       "    }\n",
       "\n",
       "    .dataframe thead th {\n",
       "        text-align: right;\n",
       "    }\n",
       "</style>\n",
       "<table border=\"1\" class=\"dataframe\">\n",
       "  <thead>\n",
       "    <tr style=\"text-align: right;\">\n",
       "      <th></th>\n",
       "      <th>Coefficients</th>\n",
       "    </tr>\n",
       "  </thead>\n",
       "  <tbody>\n",
       "    <tr>\n",
       "      <th>Cases</th>\n",
       "      <td>-0.105017</td>\n",
       "    </tr>\n",
       "    <tr>\n",
       "      <th>Cube</th>\n",
       "      <td>0.123167</td>\n",
       "    </tr>\n",
       "    <tr>\n",
       "      <th>Fuel</th>\n",
       "      <td>2.740138</td>\n",
       "    </tr>\n",
       "    <tr>\n",
       "      <th>LoadMiles</th>\n",
       "      <td>0.214987</td>\n",
       "    </tr>\n",
       "    <tr>\n",
       "      <th>Weight</th>\n",
       "      <td>0.010431</td>\n",
       "    </tr>\n",
       "    <tr>\n",
       "      <th>Frequency</th>\n",
       "      <td>-0.037068</td>\n",
       "    </tr>\n",
       "    <tr>\n",
       "      <th>Per Mile Charge</th>\n",
       "      <td>29.739113</td>\n",
       "    </tr>\n",
       "    <tr>\n",
       "      <th>Total_pop</th>\n",
       "      <td>-0.035045</td>\n",
       "    </tr>\n",
       "    <tr>\n",
       "      <th>Pop_emp</th>\n",
       "      <td>-0.045851</td>\n",
       "    </tr>\n",
       "  </tbody>\n",
       "</table>\n",
       "</div>"
      ],
      "text/plain": [
       "                 Coefficients\n",
       "Cases               -0.105017\n",
       "Cube                 0.123167\n",
       "Fuel                 2.740138\n",
       "LoadMiles            0.214987\n",
       "Weight               0.010431\n",
       "Frequency           -0.037068\n",
       "Per Mile Charge     29.739113\n",
       "Total_pop           -0.035045\n",
       "Pop_emp             -0.045851"
      ]
     },
     "execution_count": 247,
     "metadata": {},
     "output_type": "execute_result"
    }
   ],
   "source": [
    "coeff_df = pd.DataFrame(regressor.coef_, X.columns, columns=['Coefficients'])\n",
    "coeff_df"
   ]
  },
  {
   "cell_type": "code",
   "execution_count": 248,
   "metadata": {},
   "outputs": [
    {
     "name": "stdout",
     "output_type": "stream",
     "text": [
      "r squared : 0.8834618852261849\n",
      "Mean Absolute Error: 155.77755622674377\n",
      "Mean Squared Error: 51625.62024970908\n",
      "Root Mean Squared Error: 227.21272026387317\n"
     ]
    }
   ],
   "source": [
    "y_pred = regressor.predict(X_test)\n",
    "print('r squared :',r2_score(y_test,y_pred))\n",
    "print('Mean Absolute Error:', metrics.mean_absolute_error(y_test, y_pred))  \n",
    "print('Mean Squared Error:', metrics.mean_squared_error(y_test, y_pred))  \n",
    "print('Root Mean Squared Error:', np.sqrt(metrics.mean_squared_error(y_test, y_pred)))"
   ]
  },
  {
   "cell_type": "code",
   "execution_count": 249,
   "metadata": {},
   "outputs": [
    {
     "name": "stdout",
     "output_type": "stream",
     "text": [
      "the intercept: -58.682763225402\n",
      "the slope: [0.00132269 0.00245676 0.20268993 0.00056214 0.01234827 0.06736189]\n"
     ]
    }
   ],
   "source": [
    "X = dfc[['Cases','Cube','LoadMiles','Weight','Frequency','Fuel_Fee']]\n",
    "y = dfc['Fuel'].values\n",
    "#Next, we split 80% of the data to the training set while 20% of the data to test set using below code.\n",
    "X_train, X_test, y_train, y_test = train_test_split(X, y, test_size=0.2, random_state=0)\n",
    "#Now lets train our model.\n",
    "regressor = LinearRegression()  \n",
    "regressor.fit(X_train, y_train)\n",
    "#To retrieve the intercept:\n",
    "print(\"the intercept:\",regressor.intercept_)\n",
    "#For retrieving the slope:\n",
    "print(\"the slope:\",regressor.coef_)"
   ]
  },
  {
   "cell_type": "code",
   "execution_count": 250,
   "metadata": {},
   "outputs": [
    {
     "data": {
      "text/html": [
       "<div>\n",
       "<style scoped>\n",
       "    .dataframe tbody tr th:only-of-type {\n",
       "        vertical-align: middle;\n",
       "    }\n",
       "\n",
       "    .dataframe tbody tr th {\n",
       "        vertical-align: top;\n",
       "    }\n",
       "\n",
       "    .dataframe thead th {\n",
       "        text-align: right;\n",
       "    }\n",
       "</style>\n",
       "<table border=\"1\" class=\"dataframe\">\n",
       "  <thead>\n",
       "    <tr style=\"text-align: right;\">\n",
       "      <th></th>\n",
       "      <th>Coefficients</th>\n",
       "    </tr>\n",
       "  </thead>\n",
       "  <tbody>\n",
       "    <tr>\n",
       "      <th>Cases</th>\n",
       "      <td>0.001323</td>\n",
       "    </tr>\n",
       "    <tr>\n",
       "      <th>Cube</th>\n",
       "      <td>0.002457</td>\n",
       "    </tr>\n",
       "    <tr>\n",
       "      <th>LoadMiles</th>\n",
       "      <td>0.202690</td>\n",
       "    </tr>\n",
       "    <tr>\n",
       "      <th>Weight</th>\n",
       "      <td>0.000562</td>\n",
       "    </tr>\n",
       "    <tr>\n",
       "      <th>Frequency</th>\n",
       "      <td>0.012348</td>\n",
       "    </tr>\n",
       "    <tr>\n",
       "      <th>Fuel_Fee</th>\n",
       "      <td>0.067362</td>\n",
       "    </tr>\n",
       "  </tbody>\n",
       "</table>\n",
       "</div>"
      ],
      "text/plain": [
       "           Coefficients\n",
       "Cases          0.001323\n",
       "Cube           0.002457\n",
       "LoadMiles      0.202690\n",
       "Weight         0.000562\n",
       "Frequency      0.012348\n",
       "Fuel_Fee       0.067362"
      ]
     },
     "execution_count": 250,
     "metadata": {},
     "output_type": "execute_result"
    }
   ],
   "source": [
    "coeff_df = pd.DataFrame(regressor.coef_, X.columns, columns=['Coefficients'])\n",
    "coeff_df"
   ]
  },
  {
   "cell_type": "code",
   "execution_count": 251,
   "metadata": {},
   "outputs": [
    {
     "name": "stdout",
     "output_type": "stream",
     "text": [
      "r squared : 0.9406554004848217\n",
      "Mean Absolute Error: 23.08946242580253\n",
      "Mean Squared Error: 1652.1739321000161\n",
      "Root Mean Squared Error: 40.64694246926841\n"
     ]
    }
   ],
   "source": [
    "y_pred = regressor.predict(X_test)\n",
    "print('r squared :',r2_score(y_test,y_pred))\n",
    "print('Mean Absolute Error:', metrics.mean_absolute_error(y_test, y_pred))  \n",
    "print('Mean Squared Error:', metrics.mean_squared_error(y_test, y_pred))  \n",
    "print('Root Mean Squared Error:', np.sqrt(metrics.mean_squared_error(y_test, y_pred)))"
   ]
  },
  {
   "cell_type": "code",
   "execution_count": 252,
   "metadata": {},
   "outputs": [
    {
     "name": "stdout",
     "output_type": "stream",
     "text": [
      "the intercept: -0.000555746352802089\n",
      "the slope: [9.99801814e-01 9.99938113e-01 9.99799873e-01 9.99801549e-01\n",
      " 9.99801307e-01 9.99802084e-01 9.99801068e-01 1.98756229e-04]\n"
     ]
    }
   ],
   "source": [
    "X = dfc[['BaseRate','Detention','Fuel','Handling','Layover','StopCharges','OtherAccessorial','Fuel_Fee']]\n",
    "y = dfc['TotalCharges'].values\n",
    "#Next, we split 80% of the data to the training set while 20% of the data to test set using below code.\n",
    "X_train, X_test, y_train, y_test = train_test_split(X, y, test_size=0.2, random_state=0)\n",
    "#Now lets train our model.\n",
    "regressor = LinearRegression()  \n",
    "regressor.fit(X_train, y_train)\n",
    "#To retrieve the intercept:\n",
    "print(\"the intercept:\",regressor.intercept_)\n",
    "#For retrieving the slope:\n",
    "print(\"the slope:\",regressor.coef_)"
   ]
  },
  {
   "cell_type": "code",
   "execution_count": 253,
   "metadata": {},
   "outputs": [
    {
     "data": {
      "text/html": [
       "<div>\n",
       "<style scoped>\n",
       "    .dataframe tbody tr th:only-of-type {\n",
       "        vertical-align: middle;\n",
       "    }\n",
       "\n",
       "    .dataframe tbody tr th {\n",
       "        vertical-align: top;\n",
       "    }\n",
       "\n",
       "    .dataframe thead th {\n",
       "        text-align: right;\n",
       "    }\n",
       "</style>\n",
       "<table border=\"1\" class=\"dataframe\">\n",
       "  <thead>\n",
       "    <tr style=\"text-align: right;\">\n",
       "      <th></th>\n",
       "      <th>Coefficients</th>\n",
       "    </tr>\n",
       "  </thead>\n",
       "  <tbody>\n",
       "    <tr>\n",
       "      <th>BaseRate</th>\n",
       "      <td>0.999802</td>\n",
       "    </tr>\n",
       "    <tr>\n",
       "      <th>Detention</th>\n",
       "      <td>0.999938</td>\n",
       "    </tr>\n",
       "    <tr>\n",
       "      <th>Fuel</th>\n",
       "      <td>0.999800</td>\n",
       "    </tr>\n",
       "    <tr>\n",
       "      <th>Handling</th>\n",
       "      <td>0.999802</td>\n",
       "    </tr>\n",
       "    <tr>\n",
       "      <th>Layover</th>\n",
       "      <td>0.999801</td>\n",
       "    </tr>\n",
       "    <tr>\n",
       "      <th>StopCharges</th>\n",
       "      <td>0.999802</td>\n",
       "    </tr>\n",
       "    <tr>\n",
       "      <th>OtherAccessorial</th>\n",
       "      <td>0.999801</td>\n",
       "    </tr>\n",
       "    <tr>\n",
       "      <th>Fuel_Fee</th>\n",
       "      <td>0.000199</td>\n",
       "    </tr>\n",
       "  </tbody>\n",
       "</table>\n",
       "</div>"
      ],
      "text/plain": [
       "                  Coefficients\n",
       "BaseRate              0.999802\n",
       "Detention             0.999938\n",
       "Fuel                  0.999800\n",
       "Handling              0.999802\n",
       "Layover               0.999801\n",
       "StopCharges           0.999802\n",
       "OtherAccessorial      0.999801\n",
       "Fuel_Fee              0.000199"
      ]
     },
     "execution_count": 253,
     "metadata": {},
     "output_type": "execute_result"
    }
   ],
   "source": [
    "coeff_df = pd.DataFrame(regressor.coef_, X.columns, columns=['Coefficients'])\n",
    "coeff_df"
   ]
  },
  {
   "cell_type": "code",
   "execution_count": 254,
   "metadata": {},
   "outputs": [
    {
     "name": "stdout",
     "output_type": "stream",
     "text": [
      "r squared : 0.9999999999998089\n",
      "Mean Absolute Error: 0.0003215841057208946\n",
      "Mean Squared Error: 1.6549852748580476e-07\n",
      "Root Mean Squared Error: 0.00040681510233250286\n"
     ]
    }
   ],
   "source": [
    "y_pred = regressor.predict(X_test)\n",
    "print('r squared :',r2_score(y_test,y_pred))\n",
    "print('Mean Absolute Error:', metrics.mean_absolute_error(y_test, y_pred))  \n",
    "print('Mean Squared Error:', metrics.mean_squared_error(y_test, y_pred))  \n",
    "print('Root Mean Squared Error:', np.sqrt(metrics.mean_squared_error(y_test, y_pred)))"
   ]
  },
  {
   "cell_type": "markdown",
   "metadata": {},
   "source": [
    "### 4.4.4 Winter（12,1,2）"
   ]
  },
  {
   "cell_type": "code",
   "execution_count": 255,
   "metadata": {},
   "outputs": [
    {
     "name": "stdout",
     "output_type": "stream",
     "text": [
      "the intercept: 153.3015252572509\n",
      "the slope: [-8.63462546e-02  6.59112521e-02  2.92351803e+00  1.38759984e-01\n",
      "  8.09764822e-03 -1.33001518e-01  2.94565290e+01 -5.07044074e-02\n",
      " -7.77812945e-02]\n"
     ]
    }
   ],
   "source": [
    "X = dfd2[['Cases','Cube','Fuel','LoadMiles','Weight','Frequency','Per Mile Charge','Total_pop','Pop_emp']]\n",
    "y = dfd2['BaseRate'].values\n",
    "#Next, we split 80% of the data to the training set while 20% of the data to test set using below code.\n",
    "X_train, X_test, y_train, y_test = train_test_split(X, y, test_size=0.2, random_state=0)\n",
    "#Now lets train our model.\n",
    "regressor = LinearRegression()  \n",
    "regressor.fit(X_train, y_train)\n",
    "#To retrieve the intercept:\n",
    "print(\"the intercept:\",regressor.intercept_)\n",
    "#For retrieving the slope:\n",
    "print(\"the slope:\",regressor.coef_)"
   ]
  },
  {
   "cell_type": "code",
   "execution_count": 256,
   "metadata": {},
   "outputs": [
    {
     "data": {
      "text/html": [
       "<div>\n",
       "<style scoped>\n",
       "    .dataframe tbody tr th:only-of-type {\n",
       "        vertical-align: middle;\n",
       "    }\n",
       "\n",
       "    .dataframe tbody tr th {\n",
       "        vertical-align: top;\n",
       "    }\n",
       "\n",
       "    .dataframe thead th {\n",
       "        text-align: right;\n",
       "    }\n",
       "</style>\n",
       "<table border=\"1\" class=\"dataframe\">\n",
       "  <thead>\n",
       "    <tr style=\"text-align: right;\">\n",
       "      <th></th>\n",
       "      <th>Coefficients</th>\n",
       "    </tr>\n",
       "  </thead>\n",
       "  <tbody>\n",
       "    <tr>\n",
       "      <th>Cases</th>\n",
       "      <td>-0.086346</td>\n",
       "    </tr>\n",
       "    <tr>\n",
       "      <th>Cube</th>\n",
       "      <td>0.065911</td>\n",
       "    </tr>\n",
       "    <tr>\n",
       "      <th>Fuel</th>\n",
       "      <td>2.923518</td>\n",
       "    </tr>\n",
       "    <tr>\n",
       "      <th>LoadMiles</th>\n",
       "      <td>0.138760</td>\n",
       "    </tr>\n",
       "    <tr>\n",
       "      <th>Weight</th>\n",
       "      <td>0.008098</td>\n",
       "    </tr>\n",
       "    <tr>\n",
       "      <th>Frequency</th>\n",
       "      <td>-0.133002</td>\n",
       "    </tr>\n",
       "    <tr>\n",
       "      <th>Per Mile Charge</th>\n",
       "      <td>29.456529</td>\n",
       "    </tr>\n",
       "    <tr>\n",
       "      <th>Total_pop</th>\n",
       "      <td>-0.050704</td>\n",
       "    </tr>\n",
       "    <tr>\n",
       "      <th>Pop_emp</th>\n",
       "      <td>-0.077781</td>\n",
       "    </tr>\n",
       "  </tbody>\n",
       "</table>\n",
       "</div>"
      ],
      "text/plain": [
       "                 Coefficients\n",
       "Cases               -0.086346\n",
       "Cube                 0.065911\n",
       "Fuel                 2.923518\n",
       "LoadMiles            0.138760\n",
       "Weight               0.008098\n",
       "Frequency           -0.133002\n",
       "Per Mile Charge     29.456529\n",
       "Total_pop           -0.050704\n",
       "Pop_emp             -0.077781"
      ]
     },
     "execution_count": 256,
     "metadata": {},
     "output_type": "execute_result"
    }
   ],
   "source": [
    "coeff_df = pd.DataFrame(regressor.coef_, X.columns, columns=['Coefficients'])\n",
    "coeff_df"
   ]
  },
  {
   "cell_type": "code",
   "execution_count": 257,
   "metadata": {},
   "outputs": [
    {
     "name": "stdout",
     "output_type": "stream",
     "text": [
      "r squared : 0.8320977214911032\n",
      "Mean Absolute Error: 232.0865347786688\n",
      "Mean Squared Error: 82161.96539073758\n",
      "Root Mean Squared Error: 286.6390855949997\n"
     ]
    }
   ],
   "source": [
    "y_pred = regressor.predict(X_test)\n",
    "print('r squared :',r2_score(y_test,y_pred))\n",
    "print('Mean Absolute Error:', metrics.mean_absolute_error(y_test, y_pred))  \n",
    "print('Mean Squared Error:', metrics.mean_squared_error(y_test, y_pred))  \n",
    "print('Root Mean Squared Error:', np.sqrt(metrics.mean_squared_error(y_test, y_pred)))"
   ]
  },
  {
   "cell_type": "code",
   "execution_count": 258,
   "metadata": {},
   "outputs": [
    {
     "name": "stdout",
     "output_type": "stream",
     "text": [
      "the intercept: -76.596036982372\n",
      "the slope: [-0.00036385  0.00706889  0.22291372  0.00084974  0.01611731  0.07923226]\n"
     ]
    }
   ],
   "source": [
    "X = dfd[['Cases','Cube','LoadMiles','Weight','Frequency','Fuel_Fee']]\n",
    "y = dfd['Fuel'].values\n",
    "#Next, we split 80% of the data to the training set while 20% of the data to test set using below code.\n",
    "X_train, X_test, y_train, y_test = train_test_split(X, y, test_size=0.2, random_state=0)\n",
    "#Now lets train our model.\n",
    "regressor = LinearRegression()  \n",
    "regressor.fit(X_train, y_train)\n",
    "#To retrieve the intercept:\n",
    "print(\"the intercept:\",regressor.intercept_)\n",
    "#For retrieving the slope:\n",
    "print(\"the slope:\",regressor.coef_)"
   ]
  },
  {
   "cell_type": "code",
   "execution_count": 259,
   "metadata": {},
   "outputs": [
    {
     "data": {
      "text/html": [
       "<div>\n",
       "<style scoped>\n",
       "    .dataframe tbody tr th:only-of-type {\n",
       "        vertical-align: middle;\n",
       "    }\n",
       "\n",
       "    .dataframe tbody tr th {\n",
       "        vertical-align: top;\n",
       "    }\n",
       "\n",
       "    .dataframe thead th {\n",
       "        text-align: right;\n",
       "    }\n",
       "</style>\n",
       "<table border=\"1\" class=\"dataframe\">\n",
       "  <thead>\n",
       "    <tr style=\"text-align: right;\">\n",
       "      <th></th>\n",
       "      <th>Coefficients</th>\n",
       "    </tr>\n",
       "  </thead>\n",
       "  <tbody>\n",
       "    <tr>\n",
       "      <th>Cases</th>\n",
       "      <td>-0.000364</td>\n",
       "    </tr>\n",
       "    <tr>\n",
       "      <th>Cube</th>\n",
       "      <td>0.007069</td>\n",
       "    </tr>\n",
       "    <tr>\n",
       "      <th>LoadMiles</th>\n",
       "      <td>0.222914</td>\n",
       "    </tr>\n",
       "    <tr>\n",
       "      <th>Weight</th>\n",
       "      <td>0.000850</td>\n",
       "    </tr>\n",
       "    <tr>\n",
       "      <th>Frequency</th>\n",
       "      <td>0.016117</td>\n",
       "    </tr>\n",
       "    <tr>\n",
       "      <th>Fuel_Fee</th>\n",
       "      <td>0.079232</td>\n",
       "    </tr>\n",
       "  </tbody>\n",
       "</table>\n",
       "</div>"
      ],
      "text/plain": [
       "           Coefficients\n",
       "Cases         -0.000364\n",
       "Cube           0.007069\n",
       "LoadMiles      0.222914\n",
       "Weight         0.000850\n",
       "Frequency      0.016117\n",
       "Fuel_Fee       0.079232"
      ]
     },
     "execution_count": 259,
     "metadata": {},
     "output_type": "execute_result"
    }
   ],
   "source": [
    "coeff_df = pd.DataFrame(regressor.coef_, X.columns, columns=['Coefficients'])\n",
    "coeff_df"
   ]
  },
  {
   "cell_type": "code",
   "execution_count": 260,
   "metadata": {},
   "outputs": [
    {
     "name": "stdout",
     "output_type": "stream",
     "text": [
      "r squared : 0.9477911245200481\n",
      "Mean Absolute Error: 29.20430573312556\n",
      "Mean Squared Error: 2148.130413807043\n",
      "Root Mean Squared Error: 46.34792782646321\n"
     ]
    }
   ],
   "source": [
    "y_pred = regressor.predict(X_test)\n",
    "print('r squared :',r2_score(y_test,y_pred))\n",
    "print('Mean Absolute Error:', metrics.mean_absolute_error(y_test, y_pred))  \n",
    "print('Mean Squared Error:', metrics.mean_squared_error(y_test, y_pred))  \n",
    "print('Root Mean Squared Error:', np.sqrt(metrics.mean_squared_error(y_test, y_pred)))"
   ]
  },
  {
   "cell_type": "code",
   "execution_count": 261,
   "metadata": {},
   "outputs": [
    {
     "name": "stdout",
     "output_type": "stream",
     "text": [
      "the intercept: -0.00858844464255526\n",
      "the slope: [0.99491946 0.99245067 0.99490278 0.9949145  0.99490723 0.99492336\n",
      " 0.99491959 0.00508839]\n"
     ]
    }
   ],
   "source": [
    "X = dfa[['BaseRate','Detention','Fuel','Handling','Layover','StopCharges','OtherAccessorial','Fuel_Fee']]\n",
    "y = dfa['TotalCharges'].values\n",
    "#Next, we split 80% of the data to the training set while 20% of the data to test set using below code.\n",
    "X_train, X_test, y_train, y_test = train_test_split(X, y, test_size=0.2, random_state=0)\n",
    "#Now lets train our model.\n",
    "regressor = LinearRegression()  \n",
    "regressor.fit(X_train, y_train)\n",
    "#To retrieve the intercept:\n",
    "print(\"the intercept:\",regressor.intercept_)\n",
    "#For retrieving the slope:\n",
    "print(\"the slope:\",regressor.coef_)"
   ]
  },
  {
   "cell_type": "code",
   "execution_count": 262,
   "metadata": {},
   "outputs": [
    {
     "data": {
      "text/html": [
       "<div>\n",
       "<style scoped>\n",
       "    .dataframe tbody tr th:only-of-type {\n",
       "        vertical-align: middle;\n",
       "    }\n",
       "\n",
       "    .dataframe tbody tr th {\n",
       "        vertical-align: top;\n",
       "    }\n",
       "\n",
       "    .dataframe thead th {\n",
       "        text-align: right;\n",
       "    }\n",
       "</style>\n",
       "<table border=\"1\" class=\"dataframe\">\n",
       "  <thead>\n",
       "    <tr style=\"text-align: right;\">\n",
       "      <th></th>\n",
       "      <th>Coefficients</th>\n",
       "    </tr>\n",
       "  </thead>\n",
       "  <tbody>\n",
       "    <tr>\n",
       "      <th>BaseRate</th>\n",
       "      <td>0.994919</td>\n",
       "    </tr>\n",
       "    <tr>\n",
       "      <th>Detention</th>\n",
       "      <td>0.992451</td>\n",
       "    </tr>\n",
       "    <tr>\n",
       "      <th>Fuel</th>\n",
       "      <td>0.994903</td>\n",
       "    </tr>\n",
       "    <tr>\n",
       "      <th>Handling</th>\n",
       "      <td>0.994914</td>\n",
       "    </tr>\n",
       "    <tr>\n",
       "      <th>Layover</th>\n",
       "      <td>0.994907</td>\n",
       "    </tr>\n",
       "    <tr>\n",
       "      <th>StopCharges</th>\n",
       "      <td>0.994923</td>\n",
       "    </tr>\n",
       "    <tr>\n",
       "      <th>OtherAccessorial</th>\n",
       "      <td>0.994920</td>\n",
       "    </tr>\n",
       "    <tr>\n",
       "      <th>Fuel_Fee</th>\n",
       "      <td>0.005088</td>\n",
       "    </tr>\n",
       "  </tbody>\n",
       "</table>\n",
       "</div>"
      ],
      "text/plain": [
       "                  Coefficients\n",
       "BaseRate              0.994919\n",
       "Detention             0.992451\n",
       "Fuel                  0.994903\n",
       "Handling              0.994914\n",
       "Layover               0.994907\n",
       "StopCharges           0.994923\n",
       "OtherAccessorial      0.994920\n",
       "Fuel_Fee              0.005088"
      ]
     },
     "execution_count": 262,
     "metadata": {},
     "output_type": "execute_result"
    }
   ],
   "source": [
    "coeff_df = pd.DataFrame(regressor.coef_, X.columns, columns=['Coefficients'])\n",
    "coeff_df"
   ]
  },
  {
   "cell_type": "code",
   "execution_count": 263,
   "metadata": {},
   "outputs": [
    {
     "name": "stdout",
     "output_type": "stream",
     "text": [
      "r squared : 0.9999999968852412\n",
      "Mean Absolute Error: 0.008116283693174827\n",
      "Mean Squared Error: 0.002900086904719412\n",
      "Root Mean Squared Error: 0.0538524549553631\n"
     ]
    }
   ],
   "source": [
    "y_pred = regressor.predict(X_test)\n",
    "print('r squared :',r2_score(y_test,y_pred))\n",
    "print('Mean Absolute Error:', metrics.mean_absolute_error(y_test, y_pred))  \n",
    "print('Mean Squared Error:', metrics.mean_squared_error(y_test, y_pred))  \n",
    "print('Root Mean Squared Error:', np.sqrt(metrics.mean_squared_error(y_test, y_pred)))"
   ]
  },
  {
   "cell_type": "markdown",
   "metadata": {},
   "source": [
    "### Final Conclusion\n",
    "#### 1) Spring\n",
    "##### TotalCharge=Detention+Handling+Layover+StopCharge+OtherAccessorial+0.015Fuel_Fee-0.12Cases+0.08Cube+0.635LoadMiles+0.010Weight-0.023Frequency+35.67Per Mile Charge-0.064Total_pop-0.076Pop_emp-149.542\n",
    "#### 2) Summer\n",
    "#### TotalCharge=Detention+Handling+Layover+StopCharge+OtherAccessorial+0.16Fuel_Fee-0.16Cases+0.12Cube+0.82LoadMiles+0.011Weight-0.016Frequency+46.37Per Mile Charge-0.038Total_pop-0.035Pop_emp-142.59\n",
    "#### 3)Fall\n",
    "#### TotalCharge=Detention+Handling+Layover+StopCharge+OtherAccessorial+0.067Fuel_Fee-0.11Cases+0.12Cube+0.61LoadMiles+0.011Weight-0.017Frequency+29.74Per Mile Charge-0.035Total_pop-0.046Pop_emp-85.52\n",
    "#### 4)Winter\n",
    "#### TotalCharge=Detention+Handling+Layover+StopCharge+OtherAccessorial+0.084Fuel_Fee-0.01Cases+0.11Cube+0.61LoadMiles+0.0076Weight-0.143Frequency+3.95Per Mile Charge -53.00\n"
   ]
  },
  {
   "cell_type": "code",
   "execution_count": null,
   "metadata": {},
   "outputs": [],
   "source": []
  }
 ],
 "metadata": {
  "kernelspec": {
   "display_name": "Python 3",
   "language": "python",
   "name": "python3"
  },
  "language_info": {
   "codemirror_mode": {
    "name": "ipython",
    "version": 3
   },
   "file_extension": ".py",
   "mimetype": "text/x-python",
   "name": "python",
   "nbconvert_exporter": "python",
   "pygments_lexer": "ipython3",
   "version": "3.7.1"
  }
 },
 "nbformat": 4,
 "nbformat_minor": 4
}
